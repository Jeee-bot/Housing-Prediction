{
 "cells": [
  {
   "cell_type": "markdown",
   "metadata": {},
   "source": [
    "## Housing Assingment- Jeevak Ghosh\n",
    "\n",
    "The solution is divided into the following sections:\n",
    "\n",
    "###### Data understanding and exploration\n",
    "##### Data cleaning\n",
    "##### Data preparation\n",
    "##### Model building and evaluation"
   ]
  },
  {
   "cell_type": "code",
   "execution_count": 1,
   "metadata": {},
   "outputs": [],
   "source": [
    "import numpy as np\n",
    "import pandas as pd\n",
    "import matplotlib.pyplot as plt\n",
    "import seaborn as sns\n",
    "from sklearn import linear_model\n",
    "from sklearn.model_selection import train_test_split\n",
    "from sklearn.preprocessing import StandardScaler\n",
    "from sklearn.feature_selection import RFE\n",
    "from sklearn.model_selection import KFold\n",
    "from sklearn.linear_model import LinearRegression\n",
    "from sklearn.linear_model import Ridge\n",
    "from sklearn.linear_model import Lasso\n",
    "from sklearn.model_selection import GridSearchCV\n",
    "from sklearn import metrics\n",
    "import os\n",
    "# hide warnings\n",
    "import warnings\n",
    "warnings.filterwarnings('ignore')"
   ]
  },
  {
   "cell_type": "code",
   "execution_count": 2,
   "metadata": {},
   "outputs": [],
   "source": [
    "house = pd.read_csv(\"train.csv\")"
   ]
  },
  {
   "cell_type": "code",
   "execution_count": 3,
   "metadata": {},
   "outputs": [
    {
     "data": {
      "text/html": [
       "<div>\n",
       "<style scoped>\n",
       "    .dataframe tbody tr th:only-of-type {\n",
       "        vertical-align: middle;\n",
       "    }\n",
       "\n",
       "    .dataframe tbody tr th {\n",
       "        vertical-align: top;\n",
       "    }\n",
       "\n",
       "    .dataframe thead th {\n",
       "        text-align: right;\n",
       "    }\n",
       "</style>\n",
       "<table border=\"1\" class=\"dataframe\">\n",
       "  <thead>\n",
       "    <tr style=\"text-align: right;\">\n",
       "      <th></th>\n",
       "      <th>Id</th>\n",
       "      <th>MSSubClass</th>\n",
       "      <th>MSZoning</th>\n",
       "      <th>LotFrontage</th>\n",
       "      <th>LotArea</th>\n",
       "      <th>Street</th>\n",
       "      <th>Alley</th>\n",
       "      <th>LotShape</th>\n",
       "      <th>LandContour</th>\n",
       "      <th>Utilities</th>\n",
       "      <th>...</th>\n",
       "      <th>PoolArea</th>\n",
       "      <th>PoolQC</th>\n",
       "      <th>Fence</th>\n",
       "      <th>MiscFeature</th>\n",
       "      <th>MiscVal</th>\n",
       "      <th>MoSold</th>\n",
       "      <th>YrSold</th>\n",
       "      <th>SaleType</th>\n",
       "      <th>SaleCondition</th>\n",
       "      <th>SalePrice</th>\n",
       "    </tr>\n",
       "  </thead>\n",
       "  <tbody>\n",
       "    <tr>\n",
       "      <th>0</th>\n",
       "      <td>1</td>\n",
       "      <td>60</td>\n",
       "      <td>RL</td>\n",
       "      <td>65.0</td>\n",
       "      <td>8450</td>\n",
       "      <td>Pave</td>\n",
       "      <td>NaN</td>\n",
       "      <td>Reg</td>\n",
       "      <td>Lvl</td>\n",
       "      <td>AllPub</td>\n",
       "      <td>...</td>\n",
       "      <td>0</td>\n",
       "      <td>NaN</td>\n",
       "      <td>NaN</td>\n",
       "      <td>NaN</td>\n",
       "      <td>0</td>\n",
       "      <td>2</td>\n",
       "      <td>2008</td>\n",
       "      <td>WD</td>\n",
       "      <td>Normal</td>\n",
       "      <td>208500</td>\n",
       "    </tr>\n",
       "    <tr>\n",
       "      <th>1</th>\n",
       "      <td>2</td>\n",
       "      <td>20</td>\n",
       "      <td>RL</td>\n",
       "      <td>80.0</td>\n",
       "      <td>9600</td>\n",
       "      <td>Pave</td>\n",
       "      <td>NaN</td>\n",
       "      <td>Reg</td>\n",
       "      <td>Lvl</td>\n",
       "      <td>AllPub</td>\n",
       "      <td>...</td>\n",
       "      <td>0</td>\n",
       "      <td>NaN</td>\n",
       "      <td>NaN</td>\n",
       "      <td>NaN</td>\n",
       "      <td>0</td>\n",
       "      <td>5</td>\n",
       "      <td>2007</td>\n",
       "      <td>WD</td>\n",
       "      <td>Normal</td>\n",
       "      <td>181500</td>\n",
       "    </tr>\n",
       "    <tr>\n",
       "      <th>2</th>\n",
       "      <td>3</td>\n",
       "      <td>60</td>\n",
       "      <td>RL</td>\n",
       "      <td>68.0</td>\n",
       "      <td>11250</td>\n",
       "      <td>Pave</td>\n",
       "      <td>NaN</td>\n",
       "      <td>IR1</td>\n",
       "      <td>Lvl</td>\n",
       "      <td>AllPub</td>\n",
       "      <td>...</td>\n",
       "      <td>0</td>\n",
       "      <td>NaN</td>\n",
       "      <td>NaN</td>\n",
       "      <td>NaN</td>\n",
       "      <td>0</td>\n",
       "      <td>9</td>\n",
       "      <td>2008</td>\n",
       "      <td>WD</td>\n",
       "      <td>Normal</td>\n",
       "      <td>223500</td>\n",
       "    </tr>\n",
       "    <tr>\n",
       "      <th>3</th>\n",
       "      <td>4</td>\n",
       "      <td>70</td>\n",
       "      <td>RL</td>\n",
       "      <td>60.0</td>\n",
       "      <td>9550</td>\n",
       "      <td>Pave</td>\n",
       "      <td>NaN</td>\n",
       "      <td>IR1</td>\n",
       "      <td>Lvl</td>\n",
       "      <td>AllPub</td>\n",
       "      <td>...</td>\n",
       "      <td>0</td>\n",
       "      <td>NaN</td>\n",
       "      <td>NaN</td>\n",
       "      <td>NaN</td>\n",
       "      <td>0</td>\n",
       "      <td>2</td>\n",
       "      <td>2006</td>\n",
       "      <td>WD</td>\n",
       "      <td>Abnorml</td>\n",
       "      <td>140000</td>\n",
       "    </tr>\n",
       "    <tr>\n",
       "      <th>4</th>\n",
       "      <td>5</td>\n",
       "      <td>60</td>\n",
       "      <td>RL</td>\n",
       "      <td>84.0</td>\n",
       "      <td>14260</td>\n",
       "      <td>Pave</td>\n",
       "      <td>NaN</td>\n",
       "      <td>IR1</td>\n",
       "      <td>Lvl</td>\n",
       "      <td>AllPub</td>\n",
       "      <td>...</td>\n",
       "      <td>0</td>\n",
       "      <td>NaN</td>\n",
       "      <td>NaN</td>\n",
       "      <td>NaN</td>\n",
       "      <td>0</td>\n",
       "      <td>12</td>\n",
       "      <td>2008</td>\n",
       "      <td>WD</td>\n",
       "      <td>Normal</td>\n",
       "      <td>250000</td>\n",
       "    </tr>\n",
       "  </tbody>\n",
       "</table>\n",
       "<p>5 rows × 81 columns</p>\n",
       "</div>"
      ],
      "text/plain": [
       "   Id  MSSubClass MSZoning  LotFrontage  LotArea Street Alley LotShape  \\\n",
       "0   1          60       RL         65.0     8450   Pave   NaN      Reg   \n",
       "1   2          20       RL         80.0     9600   Pave   NaN      Reg   \n",
       "2   3          60       RL         68.0    11250   Pave   NaN      IR1   \n",
       "3   4          70       RL         60.0     9550   Pave   NaN      IR1   \n",
       "4   5          60       RL         84.0    14260   Pave   NaN      IR1   \n",
       "\n",
       "  LandContour Utilities  ... PoolArea PoolQC Fence MiscFeature MiscVal MoSold  \\\n",
       "0         Lvl    AllPub  ...        0    NaN   NaN         NaN       0      2   \n",
       "1         Lvl    AllPub  ...        0    NaN   NaN         NaN       0      5   \n",
       "2         Lvl    AllPub  ...        0    NaN   NaN         NaN       0      9   \n",
       "3         Lvl    AllPub  ...        0    NaN   NaN         NaN       0      2   \n",
       "4         Lvl    AllPub  ...        0    NaN   NaN         NaN       0     12   \n",
       "\n",
       "  YrSold  SaleType  SaleCondition  SalePrice  \n",
       "0   2008        WD         Normal     208500  \n",
       "1   2007        WD         Normal     181500  \n",
       "2   2008        WD         Normal     223500  \n",
       "3   2006        WD        Abnorml     140000  \n",
       "4   2008        WD         Normal     250000  \n",
       "\n",
       "[5 rows x 81 columns]"
      ]
     },
     "execution_count": 3,
     "metadata": {},
     "output_type": "execute_result"
    }
   ],
   "source": [
    "house.head()"
   ]
  },
  {
   "cell_type": "code",
   "execution_count": 4,
   "metadata": {},
   "outputs": [
    {
     "name": "stdout",
     "output_type": "stream",
     "text": [
      "1460\n"
     ]
    },
    {
     "data": {
      "text/html": [
       "<div>\n",
       "<style scoped>\n",
       "    .dataframe tbody tr th:only-of-type {\n",
       "        vertical-align: middle;\n",
       "    }\n",
       "\n",
       "    .dataframe tbody tr th {\n",
       "        vertical-align: top;\n",
       "    }\n",
       "\n",
       "    .dataframe thead th {\n",
       "        text-align: right;\n",
       "    }\n",
       "</style>\n",
       "<table border=\"1\" class=\"dataframe\">\n",
       "  <thead>\n",
       "    <tr style=\"text-align: right;\">\n",
       "      <th></th>\n",
       "      <th>Id</th>\n",
       "      <th>MSSubClass</th>\n",
       "      <th>LotFrontage</th>\n",
       "      <th>LotArea</th>\n",
       "      <th>OverallQual</th>\n",
       "      <th>OverallCond</th>\n",
       "      <th>YearBuilt</th>\n",
       "      <th>YearRemodAdd</th>\n",
       "      <th>MasVnrArea</th>\n",
       "      <th>BsmtFinSF1</th>\n",
       "      <th>...</th>\n",
       "      <th>WoodDeckSF</th>\n",
       "      <th>OpenPorchSF</th>\n",
       "      <th>EnclosedPorch</th>\n",
       "      <th>3SsnPorch</th>\n",
       "      <th>ScreenPorch</th>\n",
       "      <th>PoolArea</th>\n",
       "      <th>MiscVal</th>\n",
       "      <th>MoSold</th>\n",
       "      <th>YrSold</th>\n",
       "      <th>SalePrice</th>\n",
       "    </tr>\n",
       "  </thead>\n",
       "  <tbody>\n",
       "    <tr>\n",
       "      <th>count</th>\n",
       "      <td>1460.000000</td>\n",
       "      <td>1460.000000</td>\n",
       "      <td>1201.000000</td>\n",
       "      <td>1460.000000</td>\n",
       "      <td>1460.000000</td>\n",
       "      <td>1460.000000</td>\n",
       "      <td>1460.000000</td>\n",
       "      <td>1460.000000</td>\n",
       "      <td>1452.000000</td>\n",
       "      <td>1460.000000</td>\n",
       "      <td>...</td>\n",
       "      <td>1460.000000</td>\n",
       "      <td>1460.000000</td>\n",
       "      <td>1460.000000</td>\n",
       "      <td>1460.000000</td>\n",
       "      <td>1460.000000</td>\n",
       "      <td>1460.000000</td>\n",
       "      <td>1460.000000</td>\n",
       "      <td>1460.000000</td>\n",
       "      <td>1460.000000</td>\n",
       "      <td>1460.000000</td>\n",
       "    </tr>\n",
       "    <tr>\n",
       "      <th>mean</th>\n",
       "      <td>730.500000</td>\n",
       "      <td>56.897260</td>\n",
       "      <td>70.049958</td>\n",
       "      <td>10516.828082</td>\n",
       "      <td>6.099315</td>\n",
       "      <td>5.575342</td>\n",
       "      <td>1971.267808</td>\n",
       "      <td>1984.865753</td>\n",
       "      <td>103.685262</td>\n",
       "      <td>443.639726</td>\n",
       "      <td>...</td>\n",
       "      <td>94.244521</td>\n",
       "      <td>46.660274</td>\n",
       "      <td>21.954110</td>\n",
       "      <td>3.409589</td>\n",
       "      <td>15.060959</td>\n",
       "      <td>2.758904</td>\n",
       "      <td>43.489041</td>\n",
       "      <td>6.321918</td>\n",
       "      <td>2007.815753</td>\n",
       "      <td>180921.195890</td>\n",
       "    </tr>\n",
       "    <tr>\n",
       "      <th>std</th>\n",
       "      <td>421.610009</td>\n",
       "      <td>42.300571</td>\n",
       "      <td>24.284752</td>\n",
       "      <td>9981.264932</td>\n",
       "      <td>1.382997</td>\n",
       "      <td>1.112799</td>\n",
       "      <td>30.202904</td>\n",
       "      <td>20.645407</td>\n",
       "      <td>181.066207</td>\n",
       "      <td>456.098091</td>\n",
       "      <td>...</td>\n",
       "      <td>125.338794</td>\n",
       "      <td>66.256028</td>\n",
       "      <td>61.119149</td>\n",
       "      <td>29.317331</td>\n",
       "      <td>55.757415</td>\n",
       "      <td>40.177307</td>\n",
       "      <td>496.123024</td>\n",
       "      <td>2.703626</td>\n",
       "      <td>1.328095</td>\n",
       "      <td>79442.502883</td>\n",
       "    </tr>\n",
       "    <tr>\n",
       "      <th>min</th>\n",
       "      <td>1.000000</td>\n",
       "      <td>20.000000</td>\n",
       "      <td>21.000000</td>\n",
       "      <td>1300.000000</td>\n",
       "      <td>1.000000</td>\n",
       "      <td>1.000000</td>\n",
       "      <td>1872.000000</td>\n",
       "      <td>1950.000000</td>\n",
       "      <td>0.000000</td>\n",
       "      <td>0.000000</td>\n",
       "      <td>...</td>\n",
       "      <td>0.000000</td>\n",
       "      <td>0.000000</td>\n",
       "      <td>0.000000</td>\n",
       "      <td>0.000000</td>\n",
       "      <td>0.000000</td>\n",
       "      <td>0.000000</td>\n",
       "      <td>0.000000</td>\n",
       "      <td>1.000000</td>\n",
       "      <td>2006.000000</td>\n",
       "      <td>34900.000000</td>\n",
       "    </tr>\n",
       "    <tr>\n",
       "      <th>25%</th>\n",
       "      <td>365.750000</td>\n",
       "      <td>20.000000</td>\n",
       "      <td>59.000000</td>\n",
       "      <td>7553.500000</td>\n",
       "      <td>5.000000</td>\n",
       "      <td>5.000000</td>\n",
       "      <td>1954.000000</td>\n",
       "      <td>1967.000000</td>\n",
       "      <td>0.000000</td>\n",
       "      <td>0.000000</td>\n",
       "      <td>...</td>\n",
       "      <td>0.000000</td>\n",
       "      <td>0.000000</td>\n",
       "      <td>0.000000</td>\n",
       "      <td>0.000000</td>\n",
       "      <td>0.000000</td>\n",
       "      <td>0.000000</td>\n",
       "      <td>0.000000</td>\n",
       "      <td>5.000000</td>\n",
       "      <td>2007.000000</td>\n",
       "      <td>129975.000000</td>\n",
       "    </tr>\n",
       "    <tr>\n",
       "      <th>50%</th>\n",
       "      <td>730.500000</td>\n",
       "      <td>50.000000</td>\n",
       "      <td>69.000000</td>\n",
       "      <td>9478.500000</td>\n",
       "      <td>6.000000</td>\n",
       "      <td>5.000000</td>\n",
       "      <td>1973.000000</td>\n",
       "      <td>1994.000000</td>\n",
       "      <td>0.000000</td>\n",
       "      <td>383.500000</td>\n",
       "      <td>...</td>\n",
       "      <td>0.000000</td>\n",
       "      <td>25.000000</td>\n",
       "      <td>0.000000</td>\n",
       "      <td>0.000000</td>\n",
       "      <td>0.000000</td>\n",
       "      <td>0.000000</td>\n",
       "      <td>0.000000</td>\n",
       "      <td>6.000000</td>\n",
       "      <td>2008.000000</td>\n",
       "      <td>163000.000000</td>\n",
       "    </tr>\n",
       "    <tr>\n",
       "      <th>75%</th>\n",
       "      <td>1095.250000</td>\n",
       "      <td>70.000000</td>\n",
       "      <td>80.000000</td>\n",
       "      <td>11601.500000</td>\n",
       "      <td>7.000000</td>\n",
       "      <td>6.000000</td>\n",
       "      <td>2000.000000</td>\n",
       "      <td>2004.000000</td>\n",
       "      <td>166.000000</td>\n",
       "      <td>712.250000</td>\n",
       "      <td>...</td>\n",
       "      <td>168.000000</td>\n",
       "      <td>68.000000</td>\n",
       "      <td>0.000000</td>\n",
       "      <td>0.000000</td>\n",
       "      <td>0.000000</td>\n",
       "      <td>0.000000</td>\n",
       "      <td>0.000000</td>\n",
       "      <td>8.000000</td>\n",
       "      <td>2009.000000</td>\n",
       "      <td>214000.000000</td>\n",
       "    </tr>\n",
       "    <tr>\n",
       "      <th>max</th>\n",
       "      <td>1460.000000</td>\n",
       "      <td>190.000000</td>\n",
       "      <td>313.000000</td>\n",
       "      <td>215245.000000</td>\n",
       "      <td>10.000000</td>\n",
       "      <td>9.000000</td>\n",
       "      <td>2010.000000</td>\n",
       "      <td>2010.000000</td>\n",
       "      <td>1600.000000</td>\n",
       "      <td>5644.000000</td>\n",
       "      <td>...</td>\n",
       "      <td>857.000000</td>\n",
       "      <td>547.000000</td>\n",
       "      <td>552.000000</td>\n",
       "      <td>508.000000</td>\n",
       "      <td>480.000000</td>\n",
       "      <td>738.000000</td>\n",
       "      <td>15500.000000</td>\n",
       "      <td>12.000000</td>\n",
       "      <td>2010.000000</td>\n",
       "      <td>755000.000000</td>\n",
       "    </tr>\n",
       "  </tbody>\n",
       "</table>\n",
       "<p>8 rows × 38 columns</p>\n",
       "</div>"
      ],
      "text/plain": [
       "                Id   MSSubClass  LotFrontage        LotArea  OverallQual  \\\n",
       "count  1460.000000  1460.000000  1201.000000    1460.000000  1460.000000   \n",
       "mean    730.500000    56.897260    70.049958   10516.828082     6.099315   \n",
       "std     421.610009    42.300571    24.284752    9981.264932     1.382997   \n",
       "min       1.000000    20.000000    21.000000    1300.000000     1.000000   \n",
       "25%     365.750000    20.000000    59.000000    7553.500000     5.000000   \n",
       "50%     730.500000    50.000000    69.000000    9478.500000     6.000000   \n",
       "75%    1095.250000    70.000000    80.000000   11601.500000     7.000000   \n",
       "max    1460.000000   190.000000   313.000000  215245.000000    10.000000   \n",
       "\n",
       "       OverallCond    YearBuilt  YearRemodAdd   MasVnrArea   BsmtFinSF1  ...  \\\n",
       "count  1460.000000  1460.000000   1460.000000  1452.000000  1460.000000  ...   \n",
       "mean      5.575342  1971.267808   1984.865753   103.685262   443.639726  ...   \n",
       "std       1.112799    30.202904     20.645407   181.066207   456.098091  ...   \n",
       "min       1.000000  1872.000000   1950.000000     0.000000     0.000000  ...   \n",
       "25%       5.000000  1954.000000   1967.000000     0.000000     0.000000  ...   \n",
       "50%       5.000000  1973.000000   1994.000000     0.000000   383.500000  ...   \n",
       "75%       6.000000  2000.000000   2004.000000   166.000000   712.250000  ...   \n",
       "max       9.000000  2010.000000   2010.000000  1600.000000  5644.000000  ...   \n",
       "\n",
       "        WoodDeckSF  OpenPorchSF  EnclosedPorch    3SsnPorch  ScreenPorch  \\\n",
       "count  1460.000000  1460.000000    1460.000000  1460.000000  1460.000000   \n",
       "mean     94.244521    46.660274      21.954110     3.409589    15.060959   \n",
       "std     125.338794    66.256028      61.119149    29.317331    55.757415   \n",
       "min       0.000000     0.000000       0.000000     0.000000     0.000000   \n",
       "25%       0.000000     0.000000       0.000000     0.000000     0.000000   \n",
       "50%       0.000000    25.000000       0.000000     0.000000     0.000000   \n",
       "75%     168.000000    68.000000       0.000000     0.000000     0.000000   \n",
       "max     857.000000   547.000000     552.000000   508.000000   480.000000   \n",
       "\n",
       "          PoolArea       MiscVal       MoSold       YrSold      SalePrice  \n",
       "count  1460.000000   1460.000000  1460.000000  1460.000000    1460.000000  \n",
       "mean      2.758904     43.489041     6.321918  2007.815753  180921.195890  \n",
       "std      40.177307    496.123024     2.703626     1.328095   79442.502883  \n",
       "min       0.000000      0.000000     1.000000  2006.000000   34900.000000  \n",
       "25%       0.000000      0.000000     5.000000  2007.000000  129975.000000  \n",
       "50%       0.000000      0.000000     6.000000  2008.000000  163000.000000  \n",
       "75%       0.000000      0.000000     8.000000  2009.000000  214000.000000  \n",
       "max     738.000000  15500.000000    12.000000  2010.000000  755000.000000  \n",
       "\n",
       "[8 rows x 38 columns]"
      ]
     },
     "execution_count": 4,
     "metadata": {},
     "output_type": "execute_result"
    }
   ],
   "source": [
    "Row1=len(house)\n",
    "print(Row1)\n",
    "house.describe()"
   ]
  },
  {
   "cell_type": "code",
   "execution_count": 5,
   "metadata": {},
   "outputs": [
    {
     "name": "stdout",
     "output_type": "stream",
     "text": [
      "<class 'pandas.core.frame.DataFrame'>\n",
      "RangeIndex: 1460 entries, 0 to 1459\n",
      "Data columns (total 81 columns):\n",
      " #   Column         Non-Null Count  Dtype  \n",
      "---  ------         --------------  -----  \n",
      " 0   Id             1460 non-null   int64  \n",
      " 1   MSSubClass     1460 non-null   int64  \n",
      " 2   MSZoning       1460 non-null   object \n",
      " 3   LotFrontage    1201 non-null   float64\n",
      " 4   LotArea        1460 non-null   int64  \n",
      " 5   Street         1460 non-null   object \n",
      " 6   Alley          91 non-null     object \n",
      " 7   LotShape       1460 non-null   object \n",
      " 8   LandContour    1460 non-null   object \n",
      " 9   Utilities      1460 non-null   object \n",
      " 10  LotConfig      1460 non-null   object \n",
      " 11  LandSlope      1460 non-null   object \n",
      " 12  Neighborhood   1460 non-null   object \n",
      " 13  Condition1     1460 non-null   object \n",
      " 14  Condition2     1460 non-null   object \n",
      " 15  BldgType       1460 non-null   object \n",
      " 16  HouseStyle     1460 non-null   object \n",
      " 17  OverallQual    1460 non-null   int64  \n",
      " 18  OverallCond    1460 non-null   int64  \n",
      " 19  YearBuilt      1460 non-null   int64  \n",
      " 20  YearRemodAdd   1460 non-null   int64  \n",
      " 21  RoofStyle      1460 non-null   object \n",
      " 22  RoofMatl       1460 non-null   object \n",
      " 23  Exterior1st    1460 non-null   object \n",
      " 24  Exterior2nd    1460 non-null   object \n",
      " 25  MasVnrType     1452 non-null   object \n",
      " 26  MasVnrArea     1452 non-null   float64\n",
      " 27  ExterQual      1460 non-null   object \n",
      " 28  ExterCond      1460 non-null   object \n",
      " 29  Foundation     1460 non-null   object \n",
      " 30  BsmtQual       1423 non-null   object \n",
      " 31  BsmtCond       1423 non-null   object \n",
      " 32  BsmtExposure   1422 non-null   object \n",
      " 33  BsmtFinType1   1423 non-null   object \n",
      " 34  BsmtFinSF1     1460 non-null   int64  \n",
      " 35  BsmtFinType2   1422 non-null   object \n",
      " 36  BsmtFinSF2     1460 non-null   int64  \n",
      " 37  BsmtUnfSF      1460 non-null   int64  \n",
      " 38  TotalBsmtSF    1460 non-null   int64  \n",
      " 39  Heating        1460 non-null   object \n",
      " 40  HeatingQC      1460 non-null   object \n",
      " 41  CentralAir     1460 non-null   object \n",
      " 42  Electrical     1459 non-null   object \n",
      " 43  1stFlrSF       1460 non-null   int64  \n",
      " 44  2ndFlrSF       1460 non-null   int64  \n",
      " 45  LowQualFinSF   1460 non-null   int64  \n",
      " 46  GrLivArea      1460 non-null   int64  \n",
      " 47  BsmtFullBath   1460 non-null   int64  \n",
      " 48  BsmtHalfBath   1460 non-null   int64  \n",
      " 49  FullBath       1460 non-null   int64  \n",
      " 50  HalfBath       1460 non-null   int64  \n",
      " 51  BedroomAbvGr   1460 non-null   int64  \n",
      " 52  KitchenAbvGr   1460 non-null   int64  \n",
      " 53  KitchenQual    1460 non-null   object \n",
      " 54  TotRmsAbvGrd   1460 non-null   int64  \n",
      " 55  Functional     1460 non-null   object \n",
      " 56  Fireplaces     1460 non-null   int64  \n",
      " 57  FireplaceQu    770 non-null    object \n",
      " 58  GarageType     1379 non-null   object \n",
      " 59  GarageYrBlt    1379 non-null   float64\n",
      " 60  GarageFinish   1379 non-null   object \n",
      " 61  GarageCars     1460 non-null   int64  \n",
      " 62  GarageArea     1460 non-null   int64  \n",
      " 63  GarageQual     1379 non-null   object \n",
      " 64  GarageCond     1379 non-null   object \n",
      " 65  PavedDrive     1460 non-null   object \n",
      " 66  WoodDeckSF     1460 non-null   int64  \n",
      " 67  OpenPorchSF    1460 non-null   int64  \n",
      " 68  EnclosedPorch  1460 non-null   int64  \n",
      " 69  3SsnPorch      1460 non-null   int64  \n",
      " 70  ScreenPorch    1460 non-null   int64  \n",
      " 71  PoolArea       1460 non-null   int64  \n",
      " 72  PoolQC         7 non-null      object \n",
      " 73  Fence          281 non-null    object \n",
      " 74  MiscFeature    54 non-null     object \n",
      " 75  MiscVal        1460 non-null   int64  \n",
      " 76  MoSold         1460 non-null   int64  \n",
      " 77  YrSold         1460 non-null   int64  \n",
      " 78  SaleType       1460 non-null   object \n",
      " 79  SaleCondition  1460 non-null   object \n",
      " 80  SalePrice      1460 non-null   int64  \n",
      "dtypes: float64(3), int64(35), object(43)\n",
      "memory usage: 924.0+ KB\n"
     ]
    }
   ],
   "source": [
    "house.info()"
   ]
  },
  {
   "cell_type": "markdown",
   "metadata": {},
   "source": [
    "### To check for Null values"
   ]
  },
  {
   "cell_type": "code",
   "execution_count": 6,
   "metadata": {},
   "outputs": [
    {
     "data": {
      "text/plain": [
       "PoolQC          99.52\n",
       "MiscFeature     96.30\n",
       "Alley           93.77\n",
       "Fence           80.75\n",
       "FireplaceQu     47.26\n",
       "LotFrontage     17.74\n",
       "GarageCond       5.55\n",
       "GarageType       5.55\n",
       "GarageYrBlt      5.55\n",
       "GarageFinish     5.55\n",
       "GarageQual       5.55\n",
       "BsmtExposure     2.60\n",
       "BsmtFinType2     2.60\n",
       "BsmtFinType1     2.53\n",
       "BsmtCond         2.53\n",
       "BsmtQual         2.53\n",
       "MasVnrArea       0.55\n",
       "MasVnrType       0.55\n",
       "Electrical       0.07\n",
       "Utilities        0.00\n",
       "dtype: float64"
      ]
     },
     "execution_count": 6,
     "metadata": {},
     "output_type": "execute_result"
    }
   ],
   "source": [
    "round(100*(house.isnull().sum()/len(house.index)),2).sort_values(ascending=False).head(20)"
   ]
  },
  {
   "cell_type": "markdown",
   "metadata": {},
   "source": [
    "### The data dictionary gives us the information that the null values of Pool, Alley, Fireplace & Fence here is high as NA here does not stand for null. It just means the amenities are not present in the house, hence instead of dropping them retaining them might be beneficial here. "
   ]
  },
  {
   "cell_type": "code",
   "execution_count": 7,
   "metadata": {},
   "outputs": [
    {
     "name": "stdout",
     "output_type": "stream",
     "text": [
      "Gd    42.857143\n",
      "Ex    28.571429\n",
      "Fa    28.571429\n",
      "Name: PoolQC, dtype: float64\n"
     ]
    },
    {
     "data": {
      "text/plain": [
       "NoPool    99.520548\n",
       "Gd         0.205479\n",
       "Ex         0.136986\n",
       "Fa         0.136986\n",
       "Name: PoolQC, dtype: float64"
      ]
     },
     "execution_count": 7,
     "metadata": {},
     "output_type": "execute_result"
    }
   ],
   "source": [
    "print(100*house['PoolQC'].value_counts(normalize = True))\n",
    "house.PoolQC= house.PoolQC.replace(np.nan, 'NoPool')\n",
    "house.PoolQC.value_counts(normalize=True)\n",
    "100*house['PoolQC'].value_counts(normalize = True)"
   ]
  },
  {
   "cell_type": "code",
   "execution_count": 8,
   "metadata": {},
   "outputs": [
    {
     "name": "stdout",
     "output_type": "stream",
     "text": [
      "Shed    90.740741\n",
      "Gar2     3.703704\n",
      "Othr     3.703704\n",
      "TenC     1.851852\n",
      "Name: MiscFeature, dtype: float64\n"
     ]
    },
    {
     "data": {
      "text/plain": [
       "NoMiscFeature    96.301370\n",
       "Shed              3.356164\n",
       "Gar2              0.136986\n",
       "Othr              0.136986\n",
       "TenC              0.068493\n",
       "Name: MiscFeature, dtype: float64"
      ]
     },
     "execution_count": 8,
     "metadata": {},
     "output_type": "execute_result"
    }
   ],
   "source": [
    "print(100*house['MiscFeature'].value_counts(normalize = True))\n",
    "house.MiscFeature= house.MiscFeature.replace(np.nan, 'NoMiscFeature')\n",
    "house.MiscFeature.value_counts(normalize=True)\n",
    "100*house['MiscFeature'].value_counts(normalize = True)"
   ]
  },
  {
   "cell_type": "code",
   "execution_count": 9,
   "metadata": {},
   "outputs": [
    {
     "name": "stdout",
     "output_type": "stream",
     "text": [
      "MnPrv    55.871886\n",
      "GdPrv    20.996441\n",
      "GdWo     19.217082\n",
      "MnWw      3.914591\n",
      "Name: Fence, dtype: float64\n"
     ]
    },
    {
     "data": {
      "text/plain": [
       "NoFence    80.753425\n",
       "MnPrv      10.753425\n",
       "GdPrv       4.041096\n",
       "GdWo        3.698630\n",
       "MnWw        0.753425\n",
       "Name: Fence, dtype: float64"
      ]
     },
     "execution_count": 9,
     "metadata": {},
     "output_type": "execute_result"
    }
   ],
   "source": [
    "print(100*house['Fence'].value_counts(normalize = True))\n",
    "house.Fence= house.Fence.replace(np.nan, 'NoFence')\n",
    "house.Fence.value_counts(normalize=True)\n",
    "100*house['Fence'].value_counts(normalize = True)"
   ]
  },
  {
   "cell_type": "code",
   "execution_count": 10,
   "metadata": {},
   "outputs": [
    {
     "name": "stdout",
     "output_type": "stream",
     "text": [
      "Gd    49.350649\n",
      "TA    40.649351\n",
      "Fa     4.285714\n",
      "Ex     3.116883\n",
      "Po     2.597403\n",
      "Name: FireplaceQu, dtype: float64\n"
     ]
    },
    {
     "data": {
      "text/plain": [
       "NoFireplace    47.260274\n",
       "Gd             26.027397\n",
       "TA             21.438356\n",
       "Fa              2.260274\n",
       "Ex              1.643836\n",
       "Po              1.369863\n",
       "Name: FireplaceQu, dtype: float64"
      ]
     },
     "execution_count": 10,
     "metadata": {},
     "output_type": "execute_result"
    }
   ],
   "source": [
    "print(100*house['FireplaceQu'].value_counts(normalize = True))\n",
    "house.FireplaceQu= house.FireplaceQu.replace(np.nan, 'NoFireplace')\n",
    "house.FireplaceQu.value_counts(normalize=True)\n",
    "100*house['FireplaceQu'].value_counts(normalize = True)"
   ]
  },
  {
   "cell_type": "code",
   "execution_count": 11,
   "metadata": {},
   "outputs": [
    {
     "name": "stdout",
     "output_type": "stream",
     "text": [
      "Grvl    54.945055\n",
      "Pave    45.054945\n",
      "Name: Alley, dtype: float64\n"
     ]
    },
    {
     "data": {
      "text/plain": [
       "NoAlley    93.767123\n",
       "Grvl        3.424658\n",
       "Pave        2.808219\n",
       "Name: Alley, dtype: float64"
      ]
     },
     "execution_count": 11,
     "metadata": {},
     "output_type": "execute_result"
    }
   ],
   "source": [
    "print(100*house['Alley'].value_counts(normalize = True))\n",
    "house.Alley= house.Alley.replace(np.nan, 'NoAlley')\n",
    "house.Alley.value_counts(normalize=True)\n",
    "100*house['Alley'].value_counts(normalize = True)"
   ]
  },
  {
   "cell_type": "code",
   "execution_count": 12,
   "metadata": {},
   "outputs": [
    {
     "data": {
      "text/plain": [
       "LotFrontage     17.74\n",
       "GarageYrBlt      5.55\n",
       "GarageCond       5.55\n",
       "GarageType       5.55\n",
       "GarageFinish     5.55\n",
       "GarageQual       5.55\n",
       "BsmtExposure     2.60\n",
       "BsmtFinType2     2.60\n",
       "BsmtFinType1     2.53\n",
       "BsmtCond         2.53\n",
       "BsmtQual         2.53\n",
       "MasVnrArea       0.55\n",
       "MasVnrType       0.55\n",
       "Electrical       0.07\n",
       "LotShape         0.00\n",
       "RoofMatl         0.00\n",
       "Exterior1st      0.00\n",
       "Exterior2nd      0.00\n",
       "Foundation       0.00\n",
       "ExterQual        0.00\n",
       "dtype: float64"
      ]
     },
     "execution_count": 12,
     "metadata": {},
     "output_type": "execute_result"
    }
   ],
   "source": [
    "round(100*(house.isnull().sum()/len(house.index)),2).sort_values(ascending=False).head(20)"
   ]
  },
  {
   "cell_type": "markdown",
   "metadata": {},
   "source": [
    "### We can see that there are certain features which have high null values. We need to analyse them furthermore to determine what needs to be done next."
   ]
  },
  {
   "cell_type": "code",
   "execution_count": 13,
   "metadata": {},
   "outputs": [
    {
     "data": {
      "text/plain": [
       "60.0     143\n",
       "70.0      70\n",
       "80.0      69\n",
       "50.0      57\n",
       "75.0      53\n",
       "        ... \n",
       "138.0      1\n",
       "106.0      1\n",
       "46.0       1\n",
       "137.0      1\n",
       "182.0      1\n",
       "Name: LotFrontage, Length: 110, dtype: int64"
      ]
     },
     "execution_count": 13,
     "metadata": {},
     "output_type": "execute_result"
    }
   ],
   "source": [
    "#to check for the variable if they are continuous or categorical before imputing them\n",
    "house['LotFrontage'].astype('category').value_counts()"
   ]
  },
  {
   "cell_type": "code",
   "execution_count": 14,
   "metadata": {},
   "outputs": [
    {
     "data": {
      "text/html": [
       "<div>\n",
       "<style scoped>\n",
       "    .dataframe tbody tr th:only-of-type {\n",
       "        vertical-align: middle;\n",
       "    }\n",
       "\n",
       "    .dataframe tbody tr th {\n",
       "        vertical-align: top;\n",
       "    }\n",
       "\n",
       "    .dataframe thead th {\n",
       "        text-align: right;\n",
       "    }\n",
       "</style>\n",
       "<table border=\"1\" class=\"dataframe\">\n",
       "  <thead>\n",
       "    <tr style=\"text-align: right;\">\n",
       "      <th></th>\n",
       "      <th>LotFrontage</th>\n",
       "      <th>GarageYrBlt</th>\n",
       "      <th>MasVnrArea</th>\n",
       "    </tr>\n",
       "  </thead>\n",
       "  <tbody>\n",
       "    <tr>\n",
       "      <th>0</th>\n",
       "      <td>65.0</td>\n",
       "      <td>2003.0</td>\n",
       "      <td>196.0</td>\n",
       "    </tr>\n",
       "    <tr>\n",
       "      <th>1</th>\n",
       "      <td>80.0</td>\n",
       "      <td>1976.0</td>\n",
       "      <td>0.0</td>\n",
       "    </tr>\n",
       "    <tr>\n",
       "      <th>2</th>\n",
       "      <td>68.0</td>\n",
       "      <td>2001.0</td>\n",
       "      <td>162.0</td>\n",
       "    </tr>\n",
       "    <tr>\n",
       "      <th>3</th>\n",
       "      <td>60.0</td>\n",
       "      <td>1998.0</td>\n",
       "      <td>0.0</td>\n",
       "    </tr>\n",
       "    <tr>\n",
       "      <th>4</th>\n",
       "      <td>84.0</td>\n",
       "      <td>2000.0</td>\n",
       "      <td>350.0</td>\n",
       "    </tr>\n",
       "  </tbody>\n",
       "</table>\n",
       "</div>"
      ],
      "text/plain": [
       "   LotFrontage  GarageYrBlt  MasVnrArea\n",
       "0         65.0       2003.0       196.0\n",
       "1         80.0       1976.0         0.0\n",
       "2         68.0       2001.0       162.0\n",
       "3         60.0       1998.0         0.0\n",
       "4         84.0       2000.0       350.0"
      ]
     },
     "execution_count": 14,
     "metadata": {},
     "output_type": "execute_result"
    }
   ],
   "source": [
    "#to create a new dataset with numerical variables\n",
    "newdemo=house[['LotFrontage','GarageYrBlt','MasVnrArea']]\n",
    "newdemo.head()"
   ]
  },
  {
   "cell_type": "code",
   "execution_count": 15,
   "metadata": {},
   "outputs": [
    {
     "data": {
      "text/html": [
       "<div>\n",
       "<style scoped>\n",
       "    .dataframe tbody tr th:only-of-type {\n",
       "        vertical-align: middle;\n",
       "    }\n",
       "\n",
       "    .dataframe tbody tr th {\n",
       "        vertical-align: top;\n",
       "    }\n",
       "\n",
       "    .dataframe thead th {\n",
       "        text-align: right;\n",
       "    }\n",
       "</style>\n",
       "<table border=\"1\" class=\"dataframe\">\n",
       "  <thead>\n",
       "    <tr style=\"text-align: right;\">\n",
       "      <th></th>\n",
       "      <th>LotFrontage</th>\n",
       "      <th>GarageYrBlt</th>\n",
       "      <th>MasVnrArea</th>\n",
       "    </tr>\n",
       "  </thead>\n",
       "  <tbody>\n",
       "    <tr>\n",
       "      <th>0</th>\n",
       "      <td>65.0</td>\n",
       "      <td>2003.0</td>\n",
       "      <td>196.0</td>\n",
       "    </tr>\n",
       "    <tr>\n",
       "      <th>1</th>\n",
       "      <td>80.0</td>\n",
       "      <td>1976.0</td>\n",
       "      <td>0.0</td>\n",
       "    </tr>\n",
       "    <tr>\n",
       "      <th>2</th>\n",
       "      <td>68.0</td>\n",
       "      <td>2001.0</td>\n",
       "      <td>162.0</td>\n",
       "    </tr>\n",
       "    <tr>\n",
       "      <th>3</th>\n",
       "      <td>60.0</td>\n",
       "      <td>1998.0</td>\n",
       "      <td>0.0</td>\n",
       "    </tr>\n",
       "    <tr>\n",
       "      <th>4</th>\n",
       "      <td>84.0</td>\n",
       "      <td>2000.0</td>\n",
       "      <td>350.0</td>\n",
       "    </tr>\n",
       "  </tbody>\n",
       "</table>\n",
       "</div>"
      ],
      "text/plain": [
       "   LotFrontage  GarageYrBlt  MasVnrArea\n",
       "0         65.0       2003.0       196.0\n",
       "1         80.0       1976.0         0.0\n",
       "2         68.0       2001.0       162.0\n",
       "3         60.0       1998.0         0.0\n",
       "4         84.0       2000.0       350.0"
      ]
     },
     "execution_count": 15,
     "metadata": {},
     "output_type": "execute_result"
    }
   ],
   "source": [
    "#to impute the data more accurately for the continuous variables with Random Forest\n",
    "from sklearn.experimental import enable_iterative_imputer\n",
    "from sklearn.impute import IterativeImputer\n",
    "from sklearn.linear_model import LinearRegression\n",
    "from sklearn.ensemble import RandomForestRegressor\n",
    "it = IterativeImputer(estimator = RandomForestRegressor())\n",
    "newdemo2 = pd.DataFrame(it.fit_transform(newdemo))\n",
    "newdemo2.columns = newdemo.columns\n",
    "newdemo2.head()"
   ]
  },
  {
   "cell_type": "code",
   "execution_count": 16,
   "metadata": {},
   "outputs": [],
   "source": [
    "house = house.merge(newdemo2)"
   ]
  },
  {
   "cell_type": "code",
   "execution_count": 17,
   "metadata": {},
   "outputs": [
    {
     "data": {
      "text/html": [
       "<div>\n",
       "<style scoped>\n",
       "    .dataframe tbody tr th:only-of-type {\n",
       "        vertical-align: middle;\n",
       "    }\n",
       "\n",
       "    .dataframe tbody tr th {\n",
       "        vertical-align: top;\n",
       "    }\n",
       "\n",
       "    .dataframe thead th {\n",
       "        text-align: right;\n",
       "    }\n",
       "</style>\n",
       "<table border=\"1\" class=\"dataframe\">\n",
       "  <thead>\n",
       "    <tr style=\"text-align: right;\">\n",
       "      <th></th>\n",
       "      <th>Id</th>\n",
       "      <th>MSSubClass</th>\n",
       "      <th>MSZoning</th>\n",
       "      <th>LotFrontage</th>\n",
       "      <th>LotArea</th>\n",
       "      <th>Street</th>\n",
       "      <th>Alley</th>\n",
       "      <th>LotShape</th>\n",
       "      <th>LandContour</th>\n",
       "      <th>Utilities</th>\n",
       "      <th>...</th>\n",
       "      <th>PoolArea</th>\n",
       "      <th>PoolQC</th>\n",
       "      <th>Fence</th>\n",
       "      <th>MiscFeature</th>\n",
       "      <th>MiscVal</th>\n",
       "      <th>MoSold</th>\n",
       "      <th>YrSold</th>\n",
       "      <th>SaleType</th>\n",
       "      <th>SaleCondition</th>\n",
       "      <th>SalePrice</th>\n",
       "    </tr>\n",
       "  </thead>\n",
       "  <tbody>\n",
       "    <tr>\n",
       "      <th>0</th>\n",
       "      <td>1</td>\n",
       "      <td>60</td>\n",
       "      <td>RL</td>\n",
       "      <td>65.0</td>\n",
       "      <td>8450</td>\n",
       "      <td>Pave</td>\n",
       "      <td>NoAlley</td>\n",
       "      <td>Reg</td>\n",
       "      <td>Lvl</td>\n",
       "      <td>AllPub</td>\n",
       "      <td>...</td>\n",
       "      <td>0</td>\n",
       "      <td>NoPool</td>\n",
       "      <td>NoFence</td>\n",
       "      <td>NoMiscFeature</td>\n",
       "      <td>0</td>\n",
       "      <td>2</td>\n",
       "      <td>2008</td>\n",
       "      <td>WD</td>\n",
       "      <td>Normal</td>\n",
       "      <td>208500</td>\n",
       "    </tr>\n",
       "    <tr>\n",
       "      <th>1</th>\n",
       "      <td>2</td>\n",
       "      <td>20</td>\n",
       "      <td>RL</td>\n",
       "      <td>80.0</td>\n",
       "      <td>9600</td>\n",
       "      <td>Pave</td>\n",
       "      <td>NoAlley</td>\n",
       "      <td>Reg</td>\n",
       "      <td>Lvl</td>\n",
       "      <td>AllPub</td>\n",
       "      <td>...</td>\n",
       "      <td>0</td>\n",
       "      <td>NoPool</td>\n",
       "      <td>NoFence</td>\n",
       "      <td>NoMiscFeature</td>\n",
       "      <td>0</td>\n",
       "      <td>5</td>\n",
       "      <td>2007</td>\n",
       "      <td>WD</td>\n",
       "      <td>Normal</td>\n",
       "      <td>181500</td>\n",
       "    </tr>\n",
       "    <tr>\n",
       "      <th>2</th>\n",
       "      <td>3</td>\n",
       "      <td>60</td>\n",
       "      <td>RL</td>\n",
       "      <td>68.0</td>\n",
       "      <td>11250</td>\n",
       "      <td>Pave</td>\n",
       "      <td>NoAlley</td>\n",
       "      <td>IR1</td>\n",
       "      <td>Lvl</td>\n",
       "      <td>AllPub</td>\n",
       "      <td>...</td>\n",
       "      <td>0</td>\n",
       "      <td>NoPool</td>\n",
       "      <td>NoFence</td>\n",
       "      <td>NoMiscFeature</td>\n",
       "      <td>0</td>\n",
       "      <td>9</td>\n",
       "      <td>2008</td>\n",
       "      <td>WD</td>\n",
       "      <td>Normal</td>\n",
       "      <td>223500</td>\n",
       "    </tr>\n",
       "    <tr>\n",
       "      <th>3</th>\n",
       "      <td>4</td>\n",
       "      <td>70</td>\n",
       "      <td>RL</td>\n",
       "      <td>60.0</td>\n",
       "      <td>9550</td>\n",
       "      <td>Pave</td>\n",
       "      <td>NoAlley</td>\n",
       "      <td>IR1</td>\n",
       "      <td>Lvl</td>\n",
       "      <td>AllPub</td>\n",
       "      <td>...</td>\n",
       "      <td>0</td>\n",
       "      <td>NoPool</td>\n",
       "      <td>NoFence</td>\n",
       "      <td>NoMiscFeature</td>\n",
       "      <td>0</td>\n",
       "      <td>2</td>\n",
       "      <td>2006</td>\n",
       "      <td>WD</td>\n",
       "      <td>Abnorml</td>\n",
       "      <td>140000</td>\n",
       "    </tr>\n",
       "    <tr>\n",
       "      <th>4</th>\n",
       "      <td>4</td>\n",
       "      <td>70</td>\n",
       "      <td>RL</td>\n",
       "      <td>60.0</td>\n",
       "      <td>9550</td>\n",
       "      <td>Pave</td>\n",
       "      <td>NoAlley</td>\n",
       "      <td>IR1</td>\n",
       "      <td>Lvl</td>\n",
       "      <td>AllPub</td>\n",
       "      <td>...</td>\n",
       "      <td>0</td>\n",
       "      <td>NoPool</td>\n",
       "      <td>NoFence</td>\n",
       "      <td>NoMiscFeature</td>\n",
       "      <td>0</td>\n",
       "      <td>2</td>\n",
       "      <td>2006</td>\n",
       "      <td>WD</td>\n",
       "      <td>Abnorml</td>\n",
       "      <td>140000</td>\n",
       "    </tr>\n",
       "  </tbody>\n",
       "</table>\n",
       "<p>5 rows × 81 columns</p>\n",
       "</div>"
      ],
      "text/plain": [
       "   Id  MSSubClass MSZoning  LotFrontage  LotArea Street    Alley LotShape  \\\n",
       "0   1          60       RL         65.0     8450   Pave  NoAlley      Reg   \n",
       "1   2          20       RL         80.0     9600   Pave  NoAlley      Reg   \n",
       "2   3          60       RL         68.0    11250   Pave  NoAlley      IR1   \n",
       "3   4          70       RL         60.0     9550   Pave  NoAlley      IR1   \n",
       "4   4          70       RL         60.0     9550   Pave  NoAlley      IR1   \n",
       "\n",
       "  LandContour Utilities  ... PoolArea  PoolQC    Fence    MiscFeature MiscVal  \\\n",
       "0         Lvl    AllPub  ...        0  NoPool  NoFence  NoMiscFeature       0   \n",
       "1         Lvl    AllPub  ...        0  NoPool  NoFence  NoMiscFeature       0   \n",
       "2         Lvl    AllPub  ...        0  NoPool  NoFence  NoMiscFeature       0   \n",
       "3         Lvl    AllPub  ...        0  NoPool  NoFence  NoMiscFeature       0   \n",
       "4         Lvl    AllPub  ...        0  NoPool  NoFence  NoMiscFeature       0   \n",
       "\n",
       "  MoSold YrSold  SaleType  SaleCondition  SalePrice  \n",
       "0      2   2008        WD         Normal     208500  \n",
       "1      5   2007        WD         Normal     181500  \n",
       "2      9   2008        WD         Normal     223500  \n",
       "3      2   2006        WD        Abnorml     140000  \n",
       "4      2   2006        WD        Abnorml     140000  \n",
       "\n",
       "[5 rows x 81 columns]"
      ]
     },
     "execution_count": 17,
     "metadata": {},
     "output_type": "execute_result"
    }
   ],
   "source": [
    "house.head()"
   ]
  },
  {
   "cell_type": "code",
   "execution_count": 18,
   "metadata": {},
   "outputs": [
    {
     "data": {
      "text/plain": [
       "BsmtFinType2    3.65\n",
       "BsmtExposure    3.65\n",
       "BsmtQual        3.59\n",
       "BsmtFinType1    3.59\n",
       "BsmtCond        3.59\n",
       "Electrical      0.30\n",
       "ExterQual       0.00\n",
       "RoofMatl        0.00\n",
       "Exterior1st     0.00\n",
       "Exterior2nd     0.00\n",
       "MasVnrType      0.00\n",
       "MasVnrArea      0.00\n",
       "SalePrice       0.00\n",
       "ExterCond       0.00\n",
       "Foundation      0.00\n",
       "YearRemodAdd    0.00\n",
       "BsmtFinSF1      0.00\n",
       "BsmtFinSF2      0.00\n",
       "BsmtUnfSF       0.00\n",
       "RoofStyle       0.00\n",
       "dtype: float64"
      ]
     },
     "execution_count": 18,
     "metadata": {},
     "output_type": "execute_result"
    }
   ],
   "source": [
    "round(100*(house.isnull().sum()/len(house.index)),2).sort_values(ascending=False).head(20)"
   ]
  },
  {
   "cell_type": "markdown",
   "metadata": {},
   "source": [
    "### As we can see there are certain categorical values that still have some null values, so it would be better to check the variables and imbalance before imputing them. "
   ]
  },
  {
   "cell_type": "code",
   "execution_count": 19,
   "metadata": {},
   "outputs": [
    {
     "data": {
      "text/plain": [
       "Unf    88.275434\n",
       "Rec     3.784119\n",
       "BLQ     2.977667\n",
       "LwQ     2.915633\n",
       "GLQ     1.178660\n",
       "ALQ     0.868486\n",
       "Name: BsmtFinType2, dtype: float64"
      ]
     },
     "execution_count": 19,
     "metadata": {},
     "output_type": "execute_result"
    }
   ],
   "source": [
    "100*house['BsmtFinType2'].value_counts(normalize = True)"
   ]
  },
  {
   "cell_type": "code",
   "execution_count": 20,
   "metadata": {},
   "outputs": [
    {
     "data": {
      "text/plain": [
       "Unf           85.056784\n",
       "Rec            3.646145\n",
       "NoBasement     3.646145\n",
       "BLQ            2.869097\n",
       "LwQ            2.809325\n",
       "GLQ            1.135684\n",
       "ALQ            0.836820\n",
       "Name: BsmtFinType2, dtype: float64"
      ]
     },
     "execution_count": 20,
     "metadata": {},
     "output_type": "execute_result"
    }
   ],
   "source": [
    "#Instead of imputing them with any other value, we can club the values as missing here.\n",
    "house.BsmtFinType2= house.BsmtFinType2.replace(np.nan, 'NoBasement')\n",
    "house.BsmtFinType2.value_counts(normalize=True)\n",
    "100*house['BsmtFinType2'].value_counts(normalize = True)"
   ]
  },
  {
   "cell_type": "code",
   "execution_count": 21,
   "metadata": {},
   "outputs": [
    {
     "data": {
      "text/plain": [
       "No    70.781638\n",
       "Av    14.143921\n",
       "Mn     8.498759\n",
       "Gd     6.575682\n",
       "Name: BsmtExposure, dtype: float64"
      ]
     },
     "execution_count": 21,
     "metadata": {},
     "output_type": "execute_result"
    }
   ],
   "source": [
    "100*house['BsmtExposure'].value_counts(normalize = True)"
   ]
  },
  {
   "cell_type": "code",
   "execution_count": 22,
   "metadata": {},
   "outputs": [
    {
     "data": {
      "text/plain": [
       "No            68.200837\n",
       "Av            13.628213\n",
       "Mn             8.188882\n",
       "Gd             6.335923\n",
       "NoBasement     3.646145\n",
       "Name: BsmtExposure, dtype: float64"
      ]
     },
     "execution_count": 22,
     "metadata": {},
     "output_type": "execute_result"
    }
   ],
   "source": [
    "house.BsmtExposure= house.BsmtExposure.replace(np.nan, 'NoBasement')\n",
    "house.BsmtExposure.value_counts(normalize=True)\n",
    "100*house['BsmtExposure'].value_counts(normalize = True)"
   ]
  },
  {
   "cell_type": "code",
   "execution_count": 23,
   "metadata": {},
   "outputs": [
    {
     "data": {
      "text/plain": [
       "Unf    34.345939\n",
       "GLQ    25.294482\n",
       "ALQ    14.507130\n",
       "Rec    10.291383\n",
       "BLQ     9.733416\n",
       "LwQ     5.827650\n",
       "Name: BsmtFinType1, dtype: float64"
      ]
     },
     "execution_count": 23,
     "metadata": {},
     "output_type": "execute_result"
    }
   ],
   "source": [
    "100*house['BsmtFinType1'].value_counts(normalize = True)"
   ]
  },
  {
   "cell_type": "code",
   "execution_count": 24,
   "metadata": {},
   "outputs": [
    {
     "data": {
      "text/plain": [
       "Unf           33.114166\n",
       "GLQ           24.387328\n",
       "ALQ           13.986850\n",
       "Rec            9.922295\n",
       "BLQ            9.384340\n",
       "LwQ            5.618649\n",
       "NoBasement     3.586372\n",
       "Name: BsmtFinType1, dtype: float64"
      ]
     },
     "execution_count": 24,
     "metadata": {},
     "output_type": "execute_result"
    }
   ],
   "source": [
    "house.BsmtFinType1= house.BsmtFinType1.replace(np.nan, 'NoBasement')\n",
    "house.BsmtFinType1.value_counts(normalize=True)\n",
    "100*house['BsmtFinType1'].value_counts(normalize = True)"
   ]
  },
  {
   "cell_type": "code",
   "execution_count": 25,
   "metadata": {},
   "outputs": [
    {
     "data": {
      "text/plain": [
       "TA    90.328580\n",
       "Fa     4.649721\n",
       "Gd     4.587725\n",
       "Po     0.433974\n",
       "Name: BsmtCond, dtype: float64"
      ]
     },
     "execution_count": 25,
     "metadata": {},
     "output_type": "execute_result"
    }
   ],
   "source": [
    "100*house['BsmtCond'].value_counts(normalize = True)"
   ]
  },
  {
   "cell_type": "code",
   "execution_count": 26,
   "metadata": {},
   "outputs": [
    {
     "data": {
      "text/plain": [
       "TA            87.089062\n",
       "Fa             4.482965\n",
       "Gd             4.423192\n",
       "NoBasement     3.586372\n",
       "Po             0.418410\n",
       "Name: BsmtCond, dtype: float64"
      ]
     },
     "execution_count": 26,
     "metadata": {},
     "output_type": "execute_result"
    }
   ],
   "source": [
    "house.BsmtCond= house.BsmtCond.replace(np.nan, 'NoBasement')\n",
    "house.BsmtCond.value_counts(normalize=True)\n",
    "100*house['BsmtCond'].value_counts(normalize = True)"
   ]
  },
  {
   "cell_type": "code",
   "execution_count": 27,
   "metadata": {},
   "outputs": [
    {
     "name": "stdout",
     "output_type": "stream",
     "text": [
      "TA    48.419095\n",
      "Gd    38.995660\n",
      "Ex     7.439554\n",
      "Fa     5.145691\n",
      "Name: BsmtQual, dtype: float64\n"
     ]
    },
    {
     "data": {
      "text/plain": [
       "TA            87.089062\n",
       "Fa             4.482965\n",
       "Gd             4.423192\n",
       "NoBasement     3.586372\n",
       "Po             0.418410\n",
       "Name: BsmtQual, dtype: float64"
      ]
     },
     "execution_count": 27,
     "metadata": {},
     "output_type": "execute_result"
    }
   ],
   "source": [
    "print(100*house['BsmtQual'].value_counts(normalize = True))\n",
    "house.BsmtQual= house.BsmtCond.replace(np.nan, 'NoBasement')\n",
    "house.BsmtQual.value_counts(normalize=True)\n",
    "100*house['BsmtQual'].value_counts(normalize = True)"
   ]
  },
  {
   "cell_type": "code",
   "execution_count": 28,
   "metadata": {},
   "outputs": [
    {
     "name": "stdout",
     "output_type": "stream",
     "text": [
      "SBrkr    88.129496\n",
      "FuseA     8.752998\n",
      "FuseF     2.577938\n",
      "Mix       0.419664\n",
      "FuseP     0.119904\n",
      "Name: Electrical, dtype: float64\n"
     ]
    },
    {
     "data": {
      "text/plain": [
       "SBrkr         87.866109\n",
       "FuseA          8.726838\n",
       "FuseF          2.570233\n",
       "Mix            0.418410\n",
       "NoBasement     0.298864\n",
       "FuseP          0.119546\n",
       "Name: Electrical, dtype: float64"
      ]
     },
     "execution_count": 28,
     "metadata": {},
     "output_type": "execute_result"
    }
   ],
   "source": [
    "print(100*house['Electrical'].value_counts(normalize = True))\n",
    "house.Electrical= house.Electrical.replace(np.nan, 'NoBasement')\n",
    "house.Electrical.value_counts(normalize=True)\n",
    "100*house['Electrical'].value_counts(normalize = True)"
   ]
  },
  {
   "cell_type": "markdown",
   "metadata": {},
   "source": [
    "### Since the variables BsmtFinType2, BsmtCond, Electrical and BsmtQual have highly imabalanced data we can delete them."
   ]
  },
  {
   "cell_type": "code",
   "execution_count": 29,
   "metadata": {},
   "outputs": [],
   "source": [
    "house.drop(columns = ['BsmtFinType2', 'BsmtCond','Electrical', 'BsmtQual'], inplace = True)"
   ]
  },
  {
   "cell_type": "code",
   "execution_count": 30,
   "metadata": {},
   "outputs": [
    {
     "name": "stdout",
     "output_type": "stream",
     "text": [
      "Before: (1673, 77)\n",
      "After: (1673, 77)\n"
     ]
    }
   ],
   "source": [
    "print(\"Before:\",house.shape)\n",
    "house=house.dropna(axis = 0, how ='any')\n",
    "print(\"After:\",house.shape)"
   ]
  },
  {
   "cell_type": "code",
   "execution_count": 31,
   "metadata": {},
   "outputs": [],
   "source": [
    "#to drop the ID column\n",
    "house.drop(columns = ['Id'], inplace = True)"
   ]
  },
  {
   "cell_type": "code",
   "execution_count": 32,
   "metadata": {},
   "outputs": [
    {
     "name": "stdout",
     "output_type": "stream",
     "text": [
      "<class 'pandas.core.frame.DataFrame'>\n",
      "Int64Index: 1673 entries, 0 to 1672\n",
      "Data columns (total 76 columns):\n",
      " #   Column         Non-Null Count  Dtype  \n",
      "---  ------         --------------  -----  \n",
      " 0   MSSubClass     1673 non-null   int64  \n",
      " 1   MSZoning       1673 non-null   object \n",
      " 2   LotFrontage    1673 non-null   float64\n",
      " 3   LotArea        1673 non-null   int64  \n",
      " 4   Street         1673 non-null   object \n",
      " 5   Alley          1673 non-null   object \n",
      " 6   LotShape       1673 non-null   object \n",
      " 7   LandContour    1673 non-null   object \n",
      " 8   Utilities      1673 non-null   object \n",
      " 9   LotConfig      1673 non-null   object \n",
      " 10  LandSlope      1673 non-null   object \n",
      " 11  Neighborhood   1673 non-null   object \n",
      " 12  Condition1     1673 non-null   object \n",
      " 13  Condition2     1673 non-null   object \n",
      " 14  BldgType       1673 non-null   object \n",
      " 15  HouseStyle     1673 non-null   object \n",
      " 16  OverallQual    1673 non-null   int64  \n",
      " 17  OverallCond    1673 non-null   int64  \n",
      " 18  YearBuilt      1673 non-null   int64  \n",
      " 19  YearRemodAdd   1673 non-null   int64  \n",
      " 20  RoofStyle      1673 non-null   object \n",
      " 21  RoofMatl       1673 non-null   object \n",
      " 22  Exterior1st    1673 non-null   object \n",
      " 23  Exterior2nd    1673 non-null   object \n",
      " 24  MasVnrType     1673 non-null   object \n",
      " 25  MasVnrArea     1673 non-null   float64\n",
      " 26  ExterQual      1673 non-null   object \n",
      " 27  ExterCond      1673 non-null   object \n",
      " 28  Foundation     1673 non-null   object \n",
      " 29  BsmtExposure   1673 non-null   object \n",
      " 30  BsmtFinType1   1673 non-null   object \n",
      " 31  BsmtFinSF1     1673 non-null   int64  \n",
      " 32  BsmtFinSF2     1673 non-null   int64  \n",
      " 33  BsmtUnfSF      1673 non-null   int64  \n",
      " 34  TotalBsmtSF    1673 non-null   int64  \n",
      " 35  Heating        1673 non-null   object \n",
      " 36  HeatingQC      1673 non-null   object \n",
      " 37  CentralAir     1673 non-null   object \n",
      " 38  1stFlrSF       1673 non-null   int64  \n",
      " 39  2ndFlrSF       1673 non-null   int64  \n",
      " 40  LowQualFinSF   1673 non-null   int64  \n",
      " 41  GrLivArea      1673 non-null   int64  \n",
      " 42  BsmtFullBath   1673 non-null   int64  \n",
      " 43  BsmtHalfBath   1673 non-null   int64  \n",
      " 44  FullBath       1673 non-null   int64  \n",
      " 45  HalfBath       1673 non-null   int64  \n",
      " 46  BedroomAbvGr   1673 non-null   int64  \n",
      " 47  KitchenAbvGr   1673 non-null   int64  \n",
      " 48  KitchenQual    1673 non-null   object \n",
      " 49  TotRmsAbvGrd   1673 non-null   int64  \n",
      " 50  Functional     1673 non-null   object \n",
      " 51  Fireplaces     1673 non-null   int64  \n",
      " 52  FireplaceQu    1673 non-null   object \n",
      " 53  GarageType     1673 non-null   object \n",
      " 54  GarageYrBlt    1673 non-null   float64\n",
      " 55  GarageFinish   1673 non-null   object \n",
      " 56  GarageCars     1673 non-null   int64  \n",
      " 57  GarageArea     1673 non-null   int64  \n",
      " 58  GarageQual     1673 non-null   object \n",
      " 59  GarageCond     1673 non-null   object \n",
      " 60  PavedDrive     1673 non-null   object \n",
      " 61  WoodDeckSF     1673 non-null   int64  \n",
      " 62  OpenPorchSF    1673 non-null   int64  \n",
      " 63  EnclosedPorch  1673 non-null   int64  \n",
      " 64  3SsnPorch      1673 non-null   int64  \n",
      " 65  ScreenPorch    1673 non-null   int64  \n",
      " 66  PoolArea       1673 non-null   int64  \n",
      " 67  PoolQC         1673 non-null   object \n",
      " 68  Fence          1673 non-null   object \n",
      " 69  MiscFeature    1673 non-null   object \n",
      " 70  MiscVal        1673 non-null   int64  \n",
      " 71  MoSold         1673 non-null   int64  \n",
      " 72  YrSold         1673 non-null   int64  \n",
      " 73  SaleType       1673 non-null   object \n",
      " 74  SaleCondition  1673 non-null   object \n",
      " 75  SalePrice      1673 non-null   int64  \n",
      "dtypes: float64(3), int64(34), object(39)\n",
      "memory usage: 1006.4+ KB\n"
     ]
    }
   ],
   "source": [
    "house.info()"
   ]
  },
  {
   "cell_type": "code",
   "execution_count": 33,
   "metadata": {},
   "outputs": [
    {
     "name": "stdout",
     "output_type": "stream",
     "text": [
      "1673\n"
     ]
    }
   ],
   "source": [
    "Row2=len(house)\n",
    "print(Row2)"
   ]
  },
  {
   "cell_type": "code",
   "execution_count": 34,
   "metadata": {},
   "outputs": [
    {
     "name": "stdout",
     "output_type": "stream",
     "text": [
      "0.8726838015540944\n"
     ]
    }
   ],
   "source": [
    "print(Row1/Row2)"
   ]
  },
  {
   "cell_type": "markdown",
   "metadata": {},
   "source": [
    "### We can see that there are no null values and we have retained 87% of the values. So we can move ahead with the data preparaton next."
   ]
  },
  {
   "cell_type": "code",
   "execution_count": 35,
   "metadata": {},
   "outputs": [
    {
     "data": {
      "text/html": [
       "<div>\n",
       "<style scoped>\n",
       "    .dataframe tbody tr th:only-of-type {\n",
       "        vertical-align: middle;\n",
       "    }\n",
       "\n",
       "    .dataframe tbody tr th {\n",
       "        vertical-align: top;\n",
       "    }\n",
       "\n",
       "    .dataframe thead th {\n",
       "        text-align: right;\n",
       "    }\n",
       "</style>\n",
       "<table border=\"1\" class=\"dataframe\">\n",
       "  <thead>\n",
       "    <tr style=\"text-align: right;\">\n",
       "      <th></th>\n",
       "      <th>MSSubClass</th>\n",
       "      <th>MSZoning</th>\n",
       "      <th>LotFrontage</th>\n",
       "      <th>LotArea</th>\n",
       "      <th>Street</th>\n",
       "      <th>Alley</th>\n",
       "      <th>LotShape</th>\n",
       "      <th>LandContour</th>\n",
       "      <th>Utilities</th>\n",
       "      <th>LotConfig</th>\n",
       "      <th>...</th>\n",
       "      <th>PoolArea</th>\n",
       "      <th>PoolQC</th>\n",
       "      <th>Fence</th>\n",
       "      <th>MiscFeature</th>\n",
       "      <th>MiscVal</th>\n",
       "      <th>MoSold</th>\n",
       "      <th>YrSold</th>\n",
       "      <th>SaleType</th>\n",
       "      <th>SaleCondition</th>\n",
       "      <th>SalePrice</th>\n",
       "    </tr>\n",
       "  </thead>\n",
       "  <tbody>\n",
       "    <tr>\n",
       "      <th>0</th>\n",
       "      <td>60</td>\n",
       "      <td>RL</td>\n",
       "      <td>65.0</td>\n",
       "      <td>8450</td>\n",
       "      <td>Pave</td>\n",
       "      <td>NoAlley</td>\n",
       "      <td>Reg</td>\n",
       "      <td>Lvl</td>\n",
       "      <td>AllPub</td>\n",
       "      <td>Inside</td>\n",
       "      <td>...</td>\n",
       "      <td>0</td>\n",
       "      <td>NoPool</td>\n",
       "      <td>NoFence</td>\n",
       "      <td>NoMiscFeature</td>\n",
       "      <td>0</td>\n",
       "      <td>2</td>\n",
       "      <td>2008</td>\n",
       "      <td>WD</td>\n",
       "      <td>Normal</td>\n",
       "      <td>208500</td>\n",
       "    </tr>\n",
       "    <tr>\n",
       "      <th>1</th>\n",
       "      <td>20</td>\n",
       "      <td>RL</td>\n",
       "      <td>80.0</td>\n",
       "      <td>9600</td>\n",
       "      <td>Pave</td>\n",
       "      <td>NoAlley</td>\n",
       "      <td>Reg</td>\n",
       "      <td>Lvl</td>\n",
       "      <td>AllPub</td>\n",
       "      <td>FR2</td>\n",
       "      <td>...</td>\n",
       "      <td>0</td>\n",
       "      <td>NoPool</td>\n",
       "      <td>NoFence</td>\n",
       "      <td>NoMiscFeature</td>\n",
       "      <td>0</td>\n",
       "      <td>5</td>\n",
       "      <td>2007</td>\n",
       "      <td>WD</td>\n",
       "      <td>Normal</td>\n",
       "      <td>181500</td>\n",
       "    </tr>\n",
       "    <tr>\n",
       "      <th>2</th>\n",
       "      <td>60</td>\n",
       "      <td>RL</td>\n",
       "      <td>68.0</td>\n",
       "      <td>11250</td>\n",
       "      <td>Pave</td>\n",
       "      <td>NoAlley</td>\n",
       "      <td>IR1</td>\n",
       "      <td>Lvl</td>\n",
       "      <td>AllPub</td>\n",
       "      <td>Inside</td>\n",
       "      <td>...</td>\n",
       "      <td>0</td>\n",
       "      <td>NoPool</td>\n",
       "      <td>NoFence</td>\n",
       "      <td>NoMiscFeature</td>\n",
       "      <td>0</td>\n",
       "      <td>9</td>\n",
       "      <td>2008</td>\n",
       "      <td>WD</td>\n",
       "      <td>Normal</td>\n",
       "      <td>223500</td>\n",
       "    </tr>\n",
       "    <tr>\n",
       "      <th>3</th>\n",
       "      <td>70</td>\n",
       "      <td>RL</td>\n",
       "      <td>60.0</td>\n",
       "      <td>9550</td>\n",
       "      <td>Pave</td>\n",
       "      <td>NoAlley</td>\n",
       "      <td>IR1</td>\n",
       "      <td>Lvl</td>\n",
       "      <td>AllPub</td>\n",
       "      <td>Corner</td>\n",
       "      <td>...</td>\n",
       "      <td>0</td>\n",
       "      <td>NoPool</td>\n",
       "      <td>NoFence</td>\n",
       "      <td>NoMiscFeature</td>\n",
       "      <td>0</td>\n",
       "      <td>2</td>\n",
       "      <td>2006</td>\n",
       "      <td>WD</td>\n",
       "      <td>Abnorml</td>\n",
       "      <td>140000</td>\n",
       "    </tr>\n",
       "    <tr>\n",
       "      <th>4</th>\n",
       "      <td>70</td>\n",
       "      <td>RL</td>\n",
       "      <td>60.0</td>\n",
       "      <td>9550</td>\n",
       "      <td>Pave</td>\n",
       "      <td>NoAlley</td>\n",
       "      <td>IR1</td>\n",
       "      <td>Lvl</td>\n",
       "      <td>AllPub</td>\n",
       "      <td>Corner</td>\n",
       "      <td>...</td>\n",
       "      <td>0</td>\n",
       "      <td>NoPool</td>\n",
       "      <td>NoFence</td>\n",
       "      <td>NoMiscFeature</td>\n",
       "      <td>0</td>\n",
       "      <td>2</td>\n",
       "      <td>2006</td>\n",
       "      <td>WD</td>\n",
       "      <td>Abnorml</td>\n",
       "      <td>140000</td>\n",
       "    </tr>\n",
       "  </tbody>\n",
       "</table>\n",
       "<p>5 rows × 76 columns</p>\n",
       "</div>"
      ],
      "text/plain": [
       "   MSSubClass MSZoning  LotFrontage  LotArea Street    Alley LotShape  \\\n",
       "0          60       RL         65.0     8450   Pave  NoAlley      Reg   \n",
       "1          20       RL         80.0     9600   Pave  NoAlley      Reg   \n",
       "2          60       RL         68.0    11250   Pave  NoAlley      IR1   \n",
       "3          70       RL         60.0     9550   Pave  NoAlley      IR1   \n",
       "4          70       RL         60.0     9550   Pave  NoAlley      IR1   \n",
       "\n",
       "  LandContour Utilities LotConfig  ... PoolArea  PoolQC    Fence  \\\n",
       "0         Lvl    AllPub    Inside  ...        0  NoPool  NoFence   \n",
       "1         Lvl    AllPub       FR2  ...        0  NoPool  NoFence   \n",
       "2         Lvl    AllPub    Inside  ...        0  NoPool  NoFence   \n",
       "3         Lvl    AllPub    Corner  ...        0  NoPool  NoFence   \n",
       "4         Lvl    AllPub    Corner  ...        0  NoPool  NoFence   \n",
       "\n",
       "     MiscFeature MiscVal MoSold  YrSold  SaleType  SaleCondition  SalePrice  \n",
       "0  NoMiscFeature       0      2    2008        WD         Normal     208500  \n",
       "1  NoMiscFeature       0      5    2007        WD         Normal     181500  \n",
       "2  NoMiscFeature       0      9    2008        WD         Normal     223500  \n",
       "3  NoMiscFeature       0      2    2006        WD        Abnorml     140000  \n",
       "4  NoMiscFeature       0      2    2006        WD        Abnorml     140000  \n",
       "\n",
       "[5 rows x 76 columns]"
      ]
     },
     "execution_count": 35,
     "metadata": {},
     "output_type": "execute_result"
    }
   ],
   "source": [
    "house.head()"
   ]
  },
  {
   "cell_type": "code",
   "execution_count": 36,
   "metadata": {},
   "outputs": [
    {
     "data": {
      "text/html": [
       "<div>\n",
       "<style scoped>\n",
       "    .dataframe tbody tr th:only-of-type {\n",
       "        vertical-align: middle;\n",
       "    }\n",
       "\n",
       "    .dataframe tbody tr th {\n",
       "        vertical-align: top;\n",
       "    }\n",
       "\n",
       "    .dataframe thead th {\n",
       "        text-align: right;\n",
       "    }\n",
       "</style>\n",
       "<table border=\"1\" class=\"dataframe\">\n",
       "  <thead>\n",
       "    <tr style=\"text-align: right;\">\n",
       "      <th></th>\n",
       "      <th>MSSubClass</th>\n",
       "      <th>LotFrontage</th>\n",
       "      <th>LotArea</th>\n",
       "      <th>OverallQual</th>\n",
       "      <th>OverallCond</th>\n",
       "      <th>YearBuilt</th>\n",
       "      <th>YearRemodAdd</th>\n",
       "      <th>MasVnrArea</th>\n",
       "      <th>BsmtFinSF1</th>\n",
       "      <th>BsmtFinSF2</th>\n",
       "      <th>...</th>\n",
       "      <th>WoodDeckSF</th>\n",
       "      <th>OpenPorchSF</th>\n",
       "      <th>EnclosedPorch</th>\n",
       "      <th>3SsnPorch</th>\n",
       "      <th>ScreenPorch</th>\n",
       "      <th>PoolArea</th>\n",
       "      <th>MiscVal</th>\n",
       "      <th>MoSold</th>\n",
       "      <th>YrSold</th>\n",
       "      <th>SalePrice</th>\n",
       "    </tr>\n",
       "  </thead>\n",
       "  <tbody>\n",
       "    <tr>\n",
       "      <th>0</th>\n",
       "      <td>60</td>\n",
       "      <td>65.0</td>\n",
       "      <td>8450</td>\n",
       "      <td>7</td>\n",
       "      <td>5</td>\n",
       "      <td>2003</td>\n",
       "      <td>2003</td>\n",
       "      <td>196.0</td>\n",
       "      <td>706</td>\n",
       "      <td>0</td>\n",
       "      <td>...</td>\n",
       "      <td>0</td>\n",
       "      <td>61</td>\n",
       "      <td>0</td>\n",
       "      <td>0</td>\n",
       "      <td>0</td>\n",
       "      <td>0</td>\n",
       "      <td>0</td>\n",
       "      <td>2</td>\n",
       "      <td>2008</td>\n",
       "      <td>208500</td>\n",
       "    </tr>\n",
       "    <tr>\n",
       "      <th>1</th>\n",
       "      <td>20</td>\n",
       "      <td>80.0</td>\n",
       "      <td>9600</td>\n",
       "      <td>6</td>\n",
       "      <td>8</td>\n",
       "      <td>1976</td>\n",
       "      <td>1976</td>\n",
       "      <td>0.0</td>\n",
       "      <td>978</td>\n",
       "      <td>0</td>\n",
       "      <td>...</td>\n",
       "      <td>298</td>\n",
       "      <td>0</td>\n",
       "      <td>0</td>\n",
       "      <td>0</td>\n",
       "      <td>0</td>\n",
       "      <td>0</td>\n",
       "      <td>0</td>\n",
       "      <td>5</td>\n",
       "      <td>2007</td>\n",
       "      <td>181500</td>\n",
       "    </tr>\n",
       "    <tr>\n",
       "      <th>2</th>\n",
       "      <td>60</td>\n",
       "      <td>68.0</td>\n",
       "      <td>11250</td>\n",
       "      <td>7</td>\n",
       "      <td>5</td>\n",
       "      <td>2001</td>\n",
       "      <td>2002</td>\n",
       "      <td>162.0</td>\n",
       "      <td>486</td>\n",
       "      <td>0</td>\n",
       "      <td>...</td>\n",
       "      <td>0</td>\n",
       "      <td>42</td>\n",
       "      <td>0</td>\n",
       "      <td>0</td>\n",
       "      <td>0</td>\n",
       "      <td>0</td>\n",
       "      <td>0</td>\n",
       "      <td>9</td>\n",
       "      <td>2008</td>\n",
       "      <td>223500</td>\n",
       "    </tr>\n",
       "    <tr>\n",
       "      <th>3</th>\n",
       "      <td>70</td>\n",
       "      <td>60.0</td>\n",
       "      <td>9550</td>\n",
       "      <td>7</td>\n",
       "      <td>5</td>\n",
       "      <td>1915</td>\n",
       "      <td>1970</td>\n",
       "      <td>0.0</td>\n",
       "      <td>216</td>\n",
       "      <td>0</td>\n",
       "      <td>...</td>\n",
       "      <td>0</td>\n",
       "      <td>35</td>\n",
       "      <td>272</td>\n",
       "      <td>0</td>\n",
       "      <td>0</td>\n",
       "      <td>0</td>\n",
       "      <td>0</td>\n",
       "      <td>2</td>\n",
       "      <td>2006</td>\n",
       "      <td>140000</td>\n",
       "    </tr>\n",
       "    <tr>\n",
       "      <th>4</th>\n",
       "      <td>70</td>\n",
       "      <td>60.0</td>\n",
       "      <td>9550</td>\n",
       "      <td>7</td>\n",
       "      <td>5</td>\n",
       "      <td>1915</td>\n",
       "      <td>1970</td>\n",
       "      <td>0.0</td>\n",
       "      <td>216</td>\n",
       "      <td>0</td>\n",
       "      <td>...</td>\n",
       "      <td>0</td>\n",
       "      <td>35</td>\n",
       "      <td>272</td>\n",
       "      <td>0</td>\n",
       "      <td>0</td>\n",
       "      <td>0</td>\n",
       "      <td>0</td>\n",
       "      <td>2</td>\n",
       "      <td>2006</td>\n",
       "      <td>140000</td>\n",
       "    </tr>\n",
       "  </tbody>\n",
       "</table>\n",
       "<p>5 rows × 37 columns</p>\n",
       "</div>"
      ],
      "text/plain": [
       "   MSSubClass  LotFrontage  LotArea  OverallQual  OverallCond  YearBuilt  \\\n",
       "0          60         65.0     8450            7            5       2003   \n",
       "1          20         80.0     9600            6            8       1976   \n",
       "2          60         68.0    11250            7            5       2001   \n",
       "3          70         60.0     9550            7            5       1915   \n",
       "4          70         60.0     9550            7            5       1915   \n",
       "\n",
       "   YearRemodAdd  MasVnrArea  BsmtFinSF1  BsmtFinSF2  ...  WoodDeckSF  \\\n",
       "0          2003       196.0         706           0  ...           0   \n",
       "1          1976         0.0         978           0  ...         298   \n",
       "2          2002       162.0         486           0  ...           0   \n",
       "3          1970         0.0         216           0  ...           0   \n",
       "4          1970         0.0         216           0  ...           0   \n",
       "\n",
       "   OpenPorchSF  EnclosedPorch  3SsnPorch  ScreenPorch  PoolArea  MiscVal  \\\n",
       "0           61              0          0            0         0        0   \n",
       "1            0              0          0            0         0        0   \n",
       "2           42              0          0            0         0        0   \n",
       "3           35            272          0            0         0        0   \n",
       "4           35            272          0            0         0        0   \n",
       "\n",
       "   MoSold  YrSold  SalePrice  \n",
       "0       2    2008     208500  \n",
       "1       5    2007     181500  \n",
       "2       9    2008     223500  \n",
       "3       2    2006     140000  \n",
       "4       2    2006     140000  \n",
       "\n",
       "[5 rows x 37 columns]"
      ]
     },
     "execution_count": 36,
     "metadata": {},
     "output_type": "execute_result"
    }
   ],
   "source": [
    "house_numeric = house.select_dtypes(include=['float64', 'int64'])\n",
    "house_numeric.head()"
   ]
  },
  {
   "cell_type": "code",
   "execution_count": 37,
   "metadata": {},
   "outputs": [
    {
     "data": {
      "image/png": "[encoded data removed]",
      "text/plain": [
       "<Figure size 432x288 with 1 Axes>"
      ]
     },
     "metadata": {
      "needs_background": "light"
     },
     "output_type": "display_data"
    },
    {
     "data": {
      "image/png": "[encoded data removed]",
      "text/plain": [
       "<Figure size 432x288 with 1 Axes>"
      ]
     },
     "metadata": {
      "needs_background": "light"
     },
     "output_type": "display_data"
    },
    {
     "data": {
      "image/png": "[encoded data removed]",
      "text/plain": [
       "<Figure size 432x288 with 1 Axes>"
      ]
     },
     "metadata": {
      "needs_background": "light"
     },
     "output_type": "display_data"
    },
    {
     "data": {
      "image/png": "[encoded data removed]",
      "text/plain": [
       "<Figure size 432x288 with 1 Axes>"
      ]
     },
     "metadata": {
      "needs_background": "light"
     },
     "output_type": "display_data"
    },
    {
     "data": {
      "image/png": "[encoded data removed]",
      "text/plain": [
       "<Figure size 432x288 with 1 Axes>"
      ]
     },
     "metadata": {
      "needs_background": "light"
     },
     "output_type": "display_data"
    },
    {
     "data": {
      "image/png": "[encoded data removed]",
      "text/plain": [
       "<Figure size 432x288 with 1 Axes>"
      ]
     },
     "metadata": {
      "needs_background": "light"
     },
     "output_type": "display_data"
    },
    {
     "data": {
      "image/png": "[encoded data removed]",
      "text/plain": [
       "<Figure size 432x288 with 1 Axes>"
      ]
     },
     "metadata": {
      "needs_background": "light"
     },
     "output_type": "display_data"
    },
    {
     "data": {
      "image/png": "[encoded data removed]",
      "text/plain": [
       "<Figure size 432x288 with 1 Axes>"
      ]
     },
     "metadata": {
      "needs_background": "light"
     },
     "output_type": "display_data"
    },
    {
     "data": {
      "image/png": "[encoded data removed]",
      "text/plain": [
       "<Figure size 432x288 with 1 Axes>"
      ]
     },
     "metadata": {
      "needs_background": "light"
     },
     "output_type": "display_data"
    },
    {
     "data": {
      "image/png": "[encoded data removed]",
      "text/plain": [
       "<Figure size 432x288 with 1 Axes>"
      ]
     },
     "metadata": {
      "needs_background": "light"
     },
     "output_type": "display_data"
    },
    {
     "data": {
      "image/png": "[encoded data removed]",
      "text/plain": [
       "<Figure size 432x288 with 1 Axes>"
      ]
     },
     "metadata": {
      "needs_background": "light"
     },
     "output_type": "display_data"
    },
    {
     "data": {
      "image/png": "[encoded data removed]",
      "text/plain": [
       "<Figure size 432x288 with 1 Axes>"
      ]
     },
     "metadata": {
      "needs_background": "light"
     },
     "output_type": "display_data"
    },
    {
     "data": {
      "image/png": "[encoded data removed]",
      "text/plain": [
       "<Figure size 432x288 with 1 Axes>"
      ]
     },
     "metadata": {
      "needs_background": "light"
     },
     "output_type": "display_data"
    },
    {
     "data": {
      "image/png": "[encoded data removed]",
      "text/plain": [
       "<Figure size 432x288 with 1 Axes>"
      ]
     },
     "metadata": {
      "needs_background": "light"
     },
     "output_type": "display_data"
    },
    {
     "data": {
      "image/png": "[encoded data removed]",
      "text/plain": [
       "<Figure size 432x288 with 1 Axes>"
      ]
     },
     "metadata": {
      "needs_background": "light"
     },
     "output_type": "display_data"
    },
    {
     "data": {
      "image/png": "[encoded data removed]",
      "text/plain": [
       "<Figure size 432x288 with 1 Axes>"
      ]
     },
     "metadata": {
      "needs_background": "light"
     },
     "output_type": "display_data"
    },
    {
     "data": {
      "image/png": "[encoded data removed]",
      "text/plain": [
       "<Figure size 432x288 with 1 Axes>"
      ]
     },
     "metadata": {
      "needs_background": "light"
     },
     "output_type": "display_data"
    },
    {
     "data": {
      "image/png": "[encoded data removed]",
      "text/plain": [
       "<Figure size 432x288 with 1 Axes>"
      ]
     },
     "metadata": {
      "needs_background": "light"
     },
     "output_type": "display_data"
    },
    {
     "data": {
      "image/png": "[encoded data removed]",
      "text/plain": [
       "<Figure size 432x288 with 1 Axes>"
      ]
     },
     "metadata": {
      "needs_background": "light"
     },
     "output_type": "display_data"
    },
    {
     "data": {
      "image/png": "[encoded data removed]",
      "text/plain": [
       "<Figure size 432x288 with 1 Axes>"
      ]
     },
     "metadata": {
      "needs_background": "light"
     },
     "output_type": "display_data"
    },
    {
     "data": {
      "image/png": "[encoded data removed]",
      "text/plain": [
       "<Figure size 432x288 with 1 Axes>"
      ]
     },
     "metadata": {
      "needs_background": "light"
     },
     "output_type": "display_data"
    },
    {
     "data": {
      "image/png": "[encoded data removed]",
      "text/plain": [
       "<Figure size 432x288 with 1 Axes>"
      ]
     },
     "metadata": {
      "needs_background": "light"
     },
     "output_type": "display_data"
    },
    {
     "data": {
      "image/png": "[encoded data removed]",
      "text/plain": [
       "<Figure size 432x288 with 1 Axes>"
      ]
     },
     "metadata": {
      "needs_background": "light"
     },
     "output_type": "display_data"
    },
    {
     "data": {
      "image/png": "[encoded data removed]",
      "text/plain": [
       "<Figure size 432x288 with 1 Axes>"
      ]
     },
     "metadata": {
      "needs_background": "light"
     },
     "output_type": "display_data"
    },
    {
     "data": {
      "image/png": "[encoded data removed]",
      "text/plain": [
       "<Figure size 432x288 with 1 Axes>"
      ]
     },
     "metadata": {
      "needs_background": "light"
     },
     "output_type": "display_data"
    },
    {
     "data": {
      "image/png": "[encoded data removed]",
      "text/plain": [
       "<Figure size 432x288 with 1 Axes>"
      ]
     },
     "metadata": {
      "needs_background": "light"
     },
     "output_type": "display_data"
    },
    {
     "data": {
      "image/png": "[encoded data removed]",
      "text/plain": [
       "<Figure size 432x288 with 1 Axes>"
      ]
     },
     "metadata": {
      "needs_background": "light"
     },
     "output_type": "display_data"
    },
    {
     "data": {
      "image/png": "[encoded data removed]",
      "text/plain": [
       "<Figure size 432x288 with 1 Axes>"
      ]
     },
     "metadata": {
      "needs_background": "light"
     },
     "output_type": "display_data"
    },
    {
     "data": {
      "image/png": "[encoded data removed]",
      "text/plain": [
       "<Figure size 432x288 with 1 Axes>"
      ]
     },
     "metadata": {
      "needs_background": "light"
     },
     "output_type": "display_data"
    },
    {
     "data": {
      "image/png": "[encoded data removed]",
      "text/plain": [
       "<Figure size 432x288 with 1 Axes>"
      ]
     },
     "metadata": {
      "needs_background": "light"
     },
     "output_type": "display_data"
    },
    {
     "data": {
      "image/png": "[encoded data removed]",
      "text/plain": [
       "<Figure size 432x288 with 1 Axes>"
      ]
     },
     "metadata": {
      "needs_background": "light"
     },
     "output_type": "display_data"
    },
    {
     "data": {
      "image/png": "[encoded data removed]",
      "text/plain": [
       "<Figure size 432x288 with 1 Axes>"
      ]
     },
     "metadata": {
      "needs_background": "light"
     },
     "output_type": "display_data"
    },
    {
     "data": {
      "image/png": "[encoded data removed]",
      "text/plain": [
       "<Figure size 432x288 with 1 Axes>"
      ]
     },
     "metadata": {
      "needs_background": "light"
     },
     "output_type": "display_data"
    },
    {
     "data": {
      "image/png": "[encoded data removed]",
      "text/plain": [
       "<Figure size 432x288 with 1 Axes>"
      ]
     },
     "metadata": {
      "needs_background": "light"
     },
     "output_type": "display_data"
    },
    {
     "data": {
      "image/png": "[encoded data removed]",
      "text/plain": [
       "<Figure size 432x288 with 1 Axes>"
      ]
     },
     "metadata": {
      "needs_background": "light"
     },
     "output_type": "display_data"
    },
    {
     "data": {
      "image/png": "[encoded data removed]",
      "text/plain": [
       "<Figure size 432x288 with 1 Axes>"
      ]
     },
     "metadata": {
      "needs_background": "light"
     },
     "output_type": "display_data"
    }
   ],
   "source": [
    "plt.figure()\n",
    "for col in range(1, house_numeric.shape[1]):\n",
    "    plt.scatter(house_numeric[\"SalePrice\"], house_numeric.iloc[:, col])\n",
    "    plt.ylabel(house_numeric.columns[col])\n",
    "    plt.xlabel(\"SalePrice\")\n",
    "    plt.show()\n"
   ]
  },
  {
   "cell_type": "markdown",
   "metadata": {},
   "source": [
    "##### From the above it can be seen that there is positive corelation between price and a lot of other numerical variables like LotArea, Yearbuilt, YearRemodAdd, MasVnrArea, BsmtFinSF1, BsmtUnfSF, TotalBsmtSF, 1stFlrSF, 2ndFlrSF,GrLivArea,GarageYrBuilt,GarageArea,WoodDeckSF, and OpenPorchSF. \n",
    "#### We can see certain features may have outliers like LotArea, LotFrontage, MasVnrArea, BsmtFinSF1, Total BsmntSF, KitchenAbvGr."
   ]
  },
  {
   "cell_type": "code",
   "execution_count": 38,
   "metadata": {},
   "outputs": [
    {
     "data": {
      "image/png": "[encoded data removed]",
      "text/plain": [
       "<Figure size 432x288 with 1 Axes>"
      ]
     },
     "metadata": {
      "needs_background": "light"
     },
     "output_type": "display_data"
    }
   ],
   "source": [
    "sns.boxplot(house.MasVnrType,house.SalePrice)\n",
    "plt.show()"
   ]
  },
  {
   "cell_type": "code",
   "execution_count": 39,
   "metadata": {},
   "outputs": [
    {
     "data": {
      "image/png": "[encoded data removed]",
      "text/plain": [
       "<Figure size 432x288 with 1 Axes>"
      ]
     },
     "metadata": {
      "needs_background": "light"
     },
     "output_type": "display_data"
    }
   ],
   "source": [
    "sns.boxplot(house.KitchenAbvGr,house.SalePrice)\n",
    "plt.show()"
   ]
  },
  {
   "cell_type": "code",
   "execution_count": 40,
   "metadata": {},
   "outputs": [
    {
     "data": {
      "text/plain": [
       "<matplotlib.axes._subplots.AxesSubplot at 0x23e6b3a4048>"
      ]
     },
     "execution_count": 40,
     "metadata": {},
     "output_type": "execute_result"
    },
    {
     "data": {
      "image/png": "[encoded data removed]",
      "text/plain": [
       "<Figure size 432x288 with 1 Axes>"
      ]
     },
     "metadata": {
      "needs_background": "light"
     },
     "output_type": "display_data"
    }
   ],
   "source": [
    "sns.boxplot(house.LotArea)"
   ]
  },
  {
   "cell_type": "code",
   "execution_count": 41,
   "metadata": {},
   "outputs": [
    {
     "data": {
      "text/plain": [
       "<matplotlib.axes._subplots.AxesSubplot at 0x23e6c3c0f08>"
      ]
     },
     "execution_count": 41,
     "metadata": {},
     "output_type": "execute_result"
    },
    {
     "data": {
      "image/png": "[encoded data removed]",
      "text/plain": [
       "<Figure size 432x288 with 1 Axes>"
      ]
     },
     "metadata": {
      "needs_background": "light"
     },
     "output_type": "display_data"
    }
   ],
   "source": [
    "sns.boxplot(house.BsmtFinSF1)"
   ]
  },
  {
   "cell_type": "markdown",
   "metadata": {},
   "source": [
    "#### We can see that most variables do seem to have outliers here but since these are about basement, masonry and other aspects of the house which can be exceptions so retaining them would be the best case scenario here. "
   ]
  },
  {
   "cell_type": "markdown",
   "metadata": {},
   "source": [
    "### Data Preparation"
   ]
  },
  {
   "cell_type": "code",
   "execution_count": 42,
   "metadata": {},
   "outputs": [
    {
     "data": {
      "text/plain": [
       "count      1673.000000\n",
       "mean     170350.959354\n",
       "std       75445.650265\n",
       "min       35311.000000\n",
       "25%      124500.000000\n",
       "50%      151000.000000\n",
       "75%      193500.000000\n",
       "max      755000.000000\n",
       "Name: SalePrice, dtype: float64"
      ]
     },
     "execution_count": 42,
     "metadata": {},
     "output_type": "execute_result"
    }
   ],
   "source": [
    "house.SalePrice.describe()"
   ]
  },
  {
   "cell_type": "code",
   "execution_count": 43,
   "metadata": {},
   "outputs": [
    {
     "data": {
      "image/png": "[encoded data removed]",
      "text/plain": [
       "<Figure size 432x288 with 1 Axes>"
      ]
     },
     "metadata": {
      "needs_background": "light"
     },
     "output_type": "display_data"
    }
   ],
   "source": [
    "sns.distplot(house['SalePrice'])\n",
    "plt.show()"
   ]
  },
  {
   "cell_type": "code",
   "execution_count": 44,
   "metadata": {},
   "outputs": [
    {
     "data": {
      "text/plain": [
       "array([[<matplotlib.axes._subplots.AxesSubplot object at 0x0000023E6C677108>]],\n",
       "      dtype=object)"
      ]
     },
     "execution_count": 44,
     "metadata": {},
     "output_type": "execute_result"
    },
    {
     "data": {
      "image/png": "[encoded data removed]",
      "text/plain": [
       "<Figure size 576x360 with 1 Axes>"
      ]
     },
     "metadata": {
      "needs_background": "light"
     },
     "output_type": "display_data"
    }
   ],
   "source": [
    "house.hist('SalePrice',figsize=(8,5))"
   ]
  },
  {
   "cell_type": "markdown",
   "metadata": {},
   "source": [
    "### We can see that the target variable \"SalePrice\" seems to be heavily skewed to the right here. In this case we need to do a transformation to balance the skewness. We can do log transformation in this case. "
   ]
  },
  {
   "cell_type": "code",
   "execution_count": 45,
   "metadata": {},
   "outputs": [
    {
     "data": {
      "text/plain": [
       "array([[<matplotlib.axes._subplots.AxesSubplot object at 0x0000023E6C40DE08>]],\n",
       "      dtype=object)"
      ]
     },
     "execution_count": 45,
     "metadata": {},
     "output_type": "execute_result"
    },
    {
     "data": {
      "image/png": "[encoded data removed]",
      "text/plain": [
       "<Figure size 576x360 with 1 Axes>"
      ]
     },
     "metadata": {
      "needs_background": "light"
     },
     "output_type": "display_data"
    }
   ],
   "source": [
    "house['SalePrice'] = np.log(house['SalePrice'])\n",
    "house.hist('SalePrice',figsize=(8,5))"
   ]
  },
  {
   "cell_type": "code",
   "execution_count": 46,
   "metadata": {},
   "outputs": [
    {
     "data": {
      "text/plain": [
       "count    1673.000000\n",
       "mean       11.966730\n",
       "std         0.386248\n",
       "min        10.471950\n",
       "25%        11.732061\n",
       "50%        11.925035\n",
       "75%        12.173033\n",
       "max        13.534473\n",
       "Name: SalePrice, dtype: float64"
      ]
     },
     "execution_count": 46,
     "metadata": {},
     "output_type": "execute_result"
    }
   ],
   "source": [
    "house.SalePrice.describe()"
   ]
  },
  {
   "cell_type": "code",
   "execution_count": 47,
   "metadata": {},
   "outputs": [
    {
     "data": {
      "image/png": "[encoded data removed]",
      "text/plain": [
       "<Figure size 432x288 with 1 Axes>"
      ]
     },
     "metadata": {
      "needs_background": "light"
     },
     "output_type": "display_data"
    }
   ],
   "source": [
    "sns.distplot(house['SalePrice'])\n",
    "plt.show()"
   ]
  },
  {
   "cell_type": "code",
   "execution_count": 48,
   "metadata": {},
   "outputs": [
    {
     "name": "stdout",
     "output_type": "stream",
     "text": [
      "<class 'pandas.core.frame.DataFrame'>\n",
      "Int64Index: 1673 entries, 0 to 1672\n",
      "Data columns (total 76 columns):\n",
      " #   Column         Non-Null Count  Dtype  \n",
      "---  ------         --------------  -----  \n",
      " 0   MSSubClass     1673 non-null   int64  \n",
      " 1   MSZoning       1673 non-null   object \n",
      " 2   LotFrontage    1673 non-null   float64\n",
      " 3   LotArea        1673 non-null   int64  \n",
      " 4   Street         1673 non-null   object \n",
      " 5   Alley          1673 non-null   object \n",
      " 6   LotShape       1673 non-null   object \n",
      " 7   LandContour    1673 non-null   object \n",
      " 8   Utilities      1673 non-null   object \n",
      " 9   LotConfig      1673 non-null   object \n",
      " 10  LandSlope      1673 non-null   object \n",
      " 11  Neighborhood   1673 non-null   object \n",
      " 12  Condition1     1673 non-null   object \n",
      " 13  Condition2     1673 non-null   object \n",
      " 14  BldgType       1673 non-null   object \n",
      " 15  HouseStyle     1673 non-null   object \n",
      " 16  OverallQual    1673 non-null   int64  \n",
      " 17  OverallCond    1673 non-null   int64  \n",
      " 18  YearBuilt      1673 non-null   int64  \n",
      " 19  YearRemodAdd   1673 non-null   int64  \n",
      " 20  RoofStyle      1673 non-null   object \n",
      " 21  RoofMatl       1673 non-null   object \n",
      " 22  Exterior1st    1673 non-null   object \n",
      " 23  Exterior2nd    1673 non-null   object \n",
      " 24  MasVnrType     1673 non-null   object \n",
      " 25  MasVnrArea     1673 non-null   float64\n",
      " 26  ExterQual      1673 non-null   object \n",
      " 27  ExterCond      1673 non-null   object \n",
      " 28  Foundation     1673 non-null   object \n",
      " 29  BsmtExposure   1673 non-null   object \n",
      " 30  BsmtFinType1   1673 non-null   object \n",
      " 31  BsmtFinSF1     1673 non-null   int64  \n",
      " 32  BsmtFinSF2     1673 non-null   int64  \n",
      " 33  BsmtUnfSF      1673 non-null   int64  \n",
      " 34  TotalBsmtSF    1673 non-null   int64  \n",
      " 35  Heating        1673 non-null   object \n",
      " 36  HeatingQC      1673 non-null   object \n",
      " 37  CentralAir     1673 non-null   object \n",
      " 38  1stFlrSF       1673 non-null   int64  \n",
      " 39  2ndFlrSF       1673 non-null   int64  \n",
      " 40  LowQualFinSF   1673 non-null   int64  \n",
      " 41  GrLivArea      1673 non-null   int64  \n",
      " 42  BsmtFullBath   1673 non-null   int64  \n",
      " 43  BsmtHalfBath   1673 non-null   int64  \n",
      " 44  FullBath       1673 non-null   int64  \n",
      " 45  HalfBath       1673 non-null   int64  \n",
      " 46  BedroomAbvGr   1673 non-null   int64  \n",
      " 47  KitchenAbvGr   1673 non-null   int64  \n",
      " 48  KitchenQual    1673 non-null   object \n",
      " 49  TotRmsAbvGrd   1673 non-null   int64  \n",
      " 50  Functional     1673 non-null   object \n",
      " 51  Fireplaces     1673 non-null   int64  \n",
      " 52  FireplaceQu    1673 non-null   object \n",
      " 53  GarageType     1673 non-null   object \n",
      " 54  GarageYrBlt    1673 non-null   float64\n",
      " 55  GarageFinish   1673 non-null   object \n",
      " 56  GarageCars     1673 non-null   int64  \n",
      " 57  GarageArea     1673 non-null   int64  \n",
      " 58  GarageQual     1673 non-null   object \n",
      " 59  GarageCond     1673 non-null   object \n",
      " 60  PavedDrive     1673 non-null   object \n",
      " 61  WoodDeckSF     1673 non-null   int64  \n",
      " 62  OpenPorchSF    1673 non-null   int64  \n",
      " 63  EnclosedPorch  1673 non-null   int64  \n",
      " 64  3SsnPorch      1673 non-null   int64  \n",
      " 65  ScreenPorch    1673 non-null   int64  \n",
      " 66  PoolArea       1673 non-null   int64  \n",
      " 67  PoolQC         1673 non-null   object \n",
      " 68  Fence          1673 non-null   object \n",
      " 69  MiscFeature    1673 non-null   object \n",
      " 70  MiscVal        1673 non-null   int64  \n",
      " 71  MoSold         1673 non-null   int64  \n",
      " 72  YrSold         1673 non-null   int64  \n",
      " 73  SaleType       1673 non-null   object \n",
      " 74  SaleCondition  1673 non-null   object \n",
      " 75  SalePrice      1673 non-null   float64\n",
      "dtypes: float64(4), int64(33), object(39)\n",
      "memory usage: 1.1+ MB\n"
     ]
    }
   ],
   "source": [
    "house.info()"
   ]
  },
  {
   "cell_type": "code",
   "execution_count": 49,
   "metadata": {},
   "outputs": [
    {
     "name": "stdout",
     "output_type": "stream",
     "text": [
      "1950    19.784818\n",
      "2006     7.471608\n",
      "2007     5.857741\n",
      "2005     5.857741\n",
      "2004     4.243873\n",
      "          ...    \n",
      "2010     0.298864\n",
      "1984     0.239091\n",
      "1951     0.239091\n",
      "1986     0.179319\n",
      "1983     0.119546\n",
      "Name: YearRemodAdd, Length: 61, dtype: float64\n"
     ]
    }
   ],
   "source": [
    "print(100*house['YearRemodAdd'].value_counts(normalize = True))"
   ]
  },
  {
   "cell_type": "code",
   "execution_count": 50,
   "metadata": {},
   "outputs": [
    {
     "name": "stdout",
     "output_type": "stream",
     "text": [
      "2005    6.694561\n",
      "1950    5.080693\n",
      "2006    4.781829\n",
      "2004    3.765690\n",
      "1920    3.646145\n",
      "          ...   \n",
      "1893    0.059773\n",
      "1985    0.059773\n",
      "1942    0.059773\n",
      "1882    0.059773\n",
      "2010    0.059773\n",
      "Name: YearBuilt, Length: 109, dtype: float64\n"
     ]
    }
   ],
   "source": [
    "print(100*house['YearBuilt'].value_counts(normalize = True))"
   ]
  },
  {
   "cell_type": "code",
   "execution_count": 51,
   "metadata": {},
   "outputs": [
    {
     "name": "stdout",
     "output_type": "stream",
     "text": [
      "2005.0    7.232516\n",
      "1950.0    6.634788\n",
      "2006.0    3.945009\n",
      "2007.0    3.885236\n",
      "2003.0    3.825463\n",
      "            ...   \n",
      "1927.0    0.059773\n",
      "1908.0    0.059773\n",
      "1906.0    0.059773\n",
      "1900.0    0.059773\n",
      "1942.0    0.059773\n",
      "Name: GarageYrBlt, Length: 97, dtype: float64\n"
     ]
    }
   ],
   "source": [
    "print(100*house['GarageYrBlt'].value_counts(normalize = True))"
   ]
  },
  {
   "cell_type": "code",
   "execution_count": 52,
   "metadata": {},
   "outputs": [
    {
     "name": "stdout",
     "output_type": "stream",
     "text": [
      "2009    24.805738\n",
      "2006    22.594142\n",
      "2007    21.876868\n",
      "2008    20.681411\n",
      "2010    10.041841\n",
      "Name: YrSold, dtype: float64\n"
     ]
    }
   ],
   "source": [
    "print(100*house['YrSold'].value_counts(normalize = True))"
   ]
  },
  {
   "cell_type": "markdown",
   "metadata": {},
   "source": [
    "### We need to convert all the year columns to age for better prediction. "
   ]
  },
  {
   "cell_type": "code",
   "execution_count": 53,
   "metadata": {},
   "outputs": [
    {
     "name": "stdout",
     "output_type": "stream",
     "text": [
      "2020\n"
     ]
    }
   ],
   "source": [
    "import datetime\n",
    "now = datetime.datetime.now()\n",
    "current_year = now.year\n",
    "print(current_year)"
   ]
  },
  {
   "cell_type": "code",
   "execution_count": 54,
   "metadata": {},
   "outputs": [
    {
     "name": "stdout",
     "output_type": "stream",
     "text": [
      "0       17.0\n",
      "1       44.0\n",
      "2       19.0\n",
      "3       22.0\n",
      "4       22.0\n",
      "        ... \n",
      "1668    25.0\n",
      "1669    12.0\n",
      "1670    21.0\n",
      "1671    42.0\n",
      "1672    79.0\n",
      "Name: GarageYrBlt, Length: 1673, dtype: float64\n"
     ]
    }
   ],
   "source": [
    "#to change the GarageYrBlt variable\n",
    "house.GarageYrBlt = current_year - house.GarageYrBlt\n",
    "print(house.GarageYrBlt)"
   ]
  },
  {
   "cell_type": "code",
   "execution_count": 55,
   "metadata": {},
   "outputs": [
    {
     "name": "stdout",
     "output_type": "stream",
     "text": [
      "0       17\n",
      "1       44\n",
      "2       18\n",
      "3       50\n",
      "4       50\n",
      "        ..\n",
      "1668    24\n",
      "1669    11\n",
      "1670    20\n",
      "1671    32\n",
      "1672    14\n",
      "Name: YearRemodAdd, Length: 1673, dtype: int64\n"
     ]
    }
   ],
   "source": [
    "#to change the YearRemodAdd variable\n",
    "house.YearRemodAdd = current_year - house.YearRemodAdd\n",
    "print(house.YearRemodAdd)"
   ]
  },
  {
   "cell_type": "code",
   "execution_count": 56,
   "metadata": {},
   "outputs": [
    {
     "name": "stdout",
     "output_type": "stream",
     "text": [
      "0        17\n",
      "1        44\n",
      "2        19\n",
      "3       105\n",
      "4       105\n",
      "       ... \n",
      "1668     25\n",
      "1669     12\n",
      "1670     21\n",
      "1671     42\n",
      "1672     79\n",
      "Name: YearBuilt, Length: 1673, dtype: int64\n"
     ]
    }
   ],
   "source": [
    "#to change the YearBuilt variable\n",
    "house.YearBuilt = current_year - house.YearBuilt\n",
    "print(house.YearBuilt)"
   ]
  },
  {
   "cell_type": "code",
   "execution_count": 57,
   "metadata": {},
   "outputs": [
    {
     "name": "stdout",
     "output_type": "stream",
     "text": [
      "0       12\n",
      "1       13\n",
      "2       12\n",
      "3       14\n",
      "4       14\n",
      "        ..\n",
      "1668    13\n",
      "1669    11\n",
      "1670    13\n",
      "1671    10\n",
      "1672    10\n",
      "Name: YrSold, Length: 1673, dtype: int64\n"
     ]
    }
   ],
   "source": [
    "#to change the YrSold variable\n",
    "house.YrSold = current_year - house.YrSold\n",
    "print(house.YrSold)"
   ]
  },
  {
   "cell_type": "markdown",
   "metadata": {},
   "source": [
    "#### There are certain categorical variables that can be label encoded to reduce the frequency of the dummy variables."
   ]
  },
  {
   "cell_type": "code",
   "execution_count": 58,
   "metadata": {},
   "outputs": [
    {
     "name": "stdout",
     "output_type": "stream",
     "text": [
      "TA    65.630604\n",
      "Gd    30.603706\n",
      "Ex     2.749552\n",
      "Fa     1.016139\n",
      "Name: ExterQual, dtype: float64\n"
     ]
    },
    {
     "data": {
      "text/plain": [
       "2    65.630604\n",
       "3    30.603706\n",
       "4     2.749552\n",
       "1     1.016139\n",
       "Name: ExterQual, dtype: float64"
      ]
     },
     "execution_count": 58,
     "metadata": {},
     "output_type": "execute_result"
    }
   ],
   "source": [
    "#to map the categorical variable 'ExterQual'\n",
    "print(100*house['ExterQual'].value_counts(normalize = True))\n",
    "var=['ExterQual']\n",
    "def binary_map(x):\n",
    "    return x.map({'Po': 0, 'Fa': 1, 'TA':2, 'Gd':3, 'Ex':4})\n",
    "\n",
    "# Applying the function to the housing list\n",
    "house[var] = house[var].apply(binary_map)\n",
    "100*house['ExterQual'].value_counts(normalize = True)"
   ]
  },
  {
   "cell_type": "code",
   "execution_count": 59,
   "metadata": {},
   "outputs": [
    {
     "name": "stdout",
     "output_type": "stream",
     "text": [
      "TA    88.284519\n",
      "Gd     9.384340\n",
      "Fa     2.151823\n",
      "Ex     0.179319\n",
      "Name: ExterCond, dtype: float64\n"
     ]
    },
    {
     "data": {
      "text/plain": [
       "2    88.284519\n",
       "3     9.384340\n",
       "1     2.151823\n",
       "4     0.179319\n",
       "Name: ExterCond, dtype: float64"
      ]
     },
     "execution_count": 59,
     "metadata": {},
     "output_type": "execute_result"
    }
   ],
   "source": [
    "#to map the categorical variable 'ExterCond'\n",
    "print(100*house['ExterCond'].value_counts(normalize = True))\n",
    "var=['ExterCond']\n",
    "def binary_map(x):\n",
    "    return x.map({'Po': 0, 'Fa': 1, 'TA':2, 'Gd':3, 'Ex':4})\n",
    "\n",
    "# Applying the function to the housing list\n",
    "house[var] = house[var].apply(binary_map)\n",
    "100*house['ExterCond'].value_counts(normalize = True)"
   ]
  },
  {
   "cell_type": "code",
   "execution_count": 60,
   "metadata": {},
   "outputs": [
    {
     "name": "stdout",
     "output_type": "stream",
     "text": [
      "No            68.200837\n",
      "Av            13.628213\n",
      "Mn             8.188882\n",
      "Gd             6.335923\n",
      "NoBasement     3.646145\n",
      "Name: BsmtExposure, dtype: float64\n"
     ]
    },
    {
     "data": {
      "text/plain": [
       "1    68.200837\n",
       "3    13.628213\n",
       "2     8.188882\n",
       "4     6.335923\n",
       "0     3.646145\n",
       "Name: BsmtExposure, dtype: float64"
      ]
     },
     "execution_count": 60,
     "metadata": {},
     "output_type": "execute_result"
    }
   ],
   "source": [
    "#to map the categorical variable 'BsmtExposure'\n",
    "print(100*house['BsmtExposure'].value_counts(normalize = True))\n",
    "var=['BsmtExposure']\n",
    "def binary_map(x):\n",
    "    return x.map({'NoBasement': 0, 'No': 1, 'Mn':2, 'Av':3, 'Gd':4})\n",
    "\n",
    "# Applying the function to the housing list\n",
    "house[var] = house[var].apply(binary_map)\n",
    "100*house['BsmtExposure'].value_counts(normalize = True)"
   ]
  },
  {
   "cell_type": "code",
   "execution_count": 61,
   "metadata": {},
   "outputs": [
    {
     "name": "stdout",
     "output_type": "stream",
     "text": [
      "Ex    49.731022\n",
      "TA    28.870293\n",
      "Gd    17.095039\n",
      "Fa     4.184100\n",
      "Po     0.119546\n",
      "Name: HeatingQC, dtype: float64\n"
     ]
    },
    {
     "data": {
      "text/plain": [
       "4    49.731022\n",
       "2    28.870293\n",
       "3    17.095039\n",
       "1     4.184100\n",
       "0     0.119546\n",
       "Name: HeatingQC, dtype: float64"
      ]
     },
     "execution_count": 61,
     "metadata": {},
     "output_type": "execute_result"
    }
   ],
   "source": [
    "#to map the categorical variable 'HeatingQC'\n",
    "print(100*house['HeatingQC'].value_counts(normalize = True))\n",
    "var=['HeatingQC']\n",
    "def binary_map(x):\n",
    "    return x.map({'Po': 0, 'Fa': 1, 'TA':2, 'Gd':3, 'Ex':4})\n",
    "\n",
    "# Applying the function to the housing list\n",
    "house[var] = house[var].apply(binary_map)\n",
    "100*house['HeatingQC'].value_counts(normalize = True)"
   ]
  },
  {
   "cell_type": "code",
   "execution_count": 62,
   "metadata": {},
   "outputs": [
    {
     "name": "stdout",
     "output_type": "stream",
     "text": [
      "Y    91.930663\n",
      "N     8.069337\n",
      "Name: CentralAir, dtype: float64\n"
     ]
    },
    {
     "data": {
      "text/plain": [
       "1    91.930663\n",
       "0     8.069337\n",
       "Name: CentralAir, dtype: float64"
      ]
     },
     "execution_count": 62,
     "metadata": {},
     "output_type": "execute_result"
    }
   ],
   "source": [
    "#to map the categorical variable 'CentralAir'\n",
    "print(100*house['CentralAir'].value_counts(normalize = True))\n",
    "var=['CentralAir']\n",
    "def binary_map(x):\n",
    "    return x.map({'N': 0, 'Y': 1})\n",
    "\n",
    "# Applying the function to the housing list\n",
    "house[var] = house[var].apply(binary_map)\n",
    "100*house['CentralAir'].value_counts(normalize = True)"
   ]
  },
  {
   "cell_type": "code",
   "execution_count": 63,
   "metadata": {},
   "outputs": [
    {
     "name": "stdout",
     "output_type": "stream",
     "text": [
      "TA    54.154214\n",
      "Gd    37.298267\n",
      "Ex     6.276151\n",
      "Fa     2.271369\n",
      "Name: KitchenQual, dtype: float64\n"
     ]
    },
    {
     "data": {
      "text/plain": [
       "2    54.154214\n",
       "3    37.298267\n",
       "4     6.276151\n",
       "1     2.271369\n",
       "Name: KitchenQual, dtype: float64"
      ]
     },
     "execution_count": 63,
     "metadata": {},
     "output_type": "execute_result"
    }
   ],
   "source": [
    "#to map the categorical variable 'KitchenQual'\n",
    "print(100*house['KitchenQual'].value_counts(normalize = True))\n",
    "var=['KitchenQual']\n",
    "def binary_map(x):\n",
    "    return x.map({'Po': 0, 'Fa': 1, 'TA':2, 'Gd':3, 'Ex':4})\n",
    "\n",
    "# Applying the function to the housing list\n",
    "house[var] = house[var].apply(binary_map)\n",
    "100*house['KitchenQual'].value_counts(normalize = True)"
   ]
  },
  {
   "cell_type": "code",
   "execution_count": 64,
   "metadata": {},
   "outputs": [
    {
     "name": "stdout",
     "output_type": "stream",
     "text": [
      "NoFireplace    53.257621\n",
      "Gd             26.300060\n",
      "TA             16.317992\n",
      "Fa              1.733413\n",
      "Ex              1.255230\n",
      "Po              1.135684\n",
      "Name: FireplaceQu, dtype: float64\n"
     ]
    },
    {
     "data": {
      "text/plain": [
       "0    53.257621\n",
       "4    26.300060\n",
       "3    16.317992\n",
       "2     1.733413\n",
       "5     1.255230\n",
       "1     1.135684\n",
       "Name: FireplaceQu, dtype: float64"
      ]
     },
     "execution_count": 64,
     "metadata": {},
     "output_type": "execute_result"
    }
   ],
   "source": [
    "#to map the categorical variable 'FireplaceQu'\n",
    "print(100*house['FireplaceQu'].value_counts(normalize = True))\n",
    "var=['FireplaceQu']\n",
    "def binary_map(x):\n",
    "    return x.map({'NoFireplace': 0, 'Po': 1, 'Fa':2, 'TA':3, 'Gd':4, 'Ex':5})\n",
    "\n",
    "# Applying the function to the housing list\n",
    "house[var] = house[var].apply(binary_map)\n",
    "100*house['FireplaceQu'].value_counts(normalize = True)"
   ]
  },
  {
   "cell_type": "code",
   "execution_count": 65,
   "metadata": {},
   "outputs": [
    {
     "name": "stdout",
     "output_type": "stream",
     "text": [
      "TA    91.392708\n",
      "Fa     6.933652\n",
      "Gd     0.956366\n",
      "Po     0.537956\n",
      "Ex     0.179319\n",
      "Name: GarageQual, dtype: float64\n"
     ]
    },
    {
     "data": {
      "text/plain": [
       "3    91.392708\n",
       "2     6.933652\n",
       "4     0.956366\n",
       "1     0.537956\n",
       "5     0.179319\n",
       "Name: GarageQual, dtype: float64"
      ]
     },
     "execution_count": 65,
     "metadata": {},
     "output_type": "execute_result"
    }
   ],
   "source": [
    "#to map the categorical variable 'GarageQual'\n",
    "print(100*house['GarageQual'].value_counts(normalize = True))\n",
    "var=['GarageQual']\n",
    "def binary_map(x):\n",
    "    return x.map({'NoGarage': 0, 'Po': 1, 'Fa':2, 'TA':3, 'Gd':4, 'Ex':5})\n",
    "\n",
    "# Applying the function to the housing list\n",
    "house[var] = house[var].apply(binary_map)\n",
    "100*house['GarageQual'].value_counts(normalize = True)"
   ]
  },
  {
   "cell_type": "code",
   "execution_count": 66,
   "metadata": {},
   "outputs": [
    {
     "name": "stdout",
     "output_type": "stream",
     "text": [
      "TA    93.664077\n",
      "Fa     4.722056\n",
      "Po     1.135684\n",
      "Gd     0.358637\n",
      "Ex     0.119546\n",
      "Name: GarageCond, dtype: float64\n"
     ]
    },
    {
     "data": {
      "text/plain": [
       "3    93.664077\n",
       "2     4.722056\n",
       "1     1.135684\n",
       "4     0.358637\n",
       "5     0.119546\n",
       "Name: GarageCond, dtype: float64"
      ]
     },
     "execution_count": 66,
     "metadata": {},
     "output_type": "execute_result"
    }
   ],
   "source": [
    "#to map the categorical variable 'GarageCond'\n",
    "print(100*house['GarageCond'].value_counts(normalize = True))\n",
    "var=['GarageCond']\n",
    "def binary_map(x):\n",
    "    return x.map({'NoGarage': 0, 'Po': 1, 'Fa':2, 'TA':3, 'Gd':4, 'Ex':5})\n",
    "\n",
    "# Applying the function to the housing list\n",
    "house[var] = house[var].apply(binary_map)\n",
    "100*house['GarageCond'].value_counts(normalize = True)"
   ]
  },
  {
   "cell_type": "code",
   "execution_count": 67,
   "metadata": {},
   "outputs": [
    {
     "name": "stdout",
     "output_type": "stream",
     "text": [
      "NoPool    99.641363\n",
      "Ex         0.119546\n",
      "Fa         0.119546\n",
      "Gd         0.119546\n",
      "Name: PoolQC, dtype: float64\n"
     ]
    },
    {
     "data": {
      "text/plain": [
       "0    99.641363\n",
       "4     0.119546\n",
       "3     0.119546\n",
       "1     0.119546\n",
       "Name: PoolQC, dtype: float64"
      ]
     },
     "execution_count": 67,
     "metadata": {},
     "output_type": "execute_result"
    }
   ],
   "source": [
    "#to map the categorical variable 'PoolQC'\n",
    "print(100*house['PoolQC'].value_counts(normalize = True))\n",
    "var=['PoolQC']\n",
    "def binary_map(x):\n",
    "    return x.map({'NoPool': 0, 'Fa':1, 'TA':2, 'Gd':3, 'Ex':4})\n",
    "\n",
    "# Applying the function to the housing list\n",
    "house[var] = house[var].apply(binary_map)\n",
    "100*house['PoolQC'].value_counts(normalize = True)"
   ]
  },
  {
   "cell_type": "code",
   "execution_count": 68,
   "metadata": {},
   "outputs": [
    {
     "data": {
      "text/plain": [
       "Paved          89.539749\n",
       "Dirt            7.292289\n",
       "PartialPave     3.167962\n",
       "Name: PavedDrive, dtype: float64"
      ]
     },
     "execution_count": 68,
     "metadata": {},
     "output_type": "execute_result"
    }
   ],
   "source": [
    "var=['PavedDrive']\n",
    "def binary_map(x):\n",
    "    return x.map({'N': 'Dirt', 'P':'PartialPave', 'Y':'Paved'})\n",
    "\n",
    "# Applying the function to the housing list\n",
    "house[var] = house[var].apply(binary_map)\n",
    "100*house['PavedDrive'].value_counts(normalize = True)"
   ]
  },
  {
   "cell_type": "code",
   "execution_count": 69,
   "metadata": {},
   "outputs": [
    {
     "name": "stdout",
     "output_type": "stream",
     "text": [
      "NoAlley    90.914525\n",
      "Grvl        5.379558\n",
      "Pave        3.705918\n",
      "Name: Alley, dtype: float64\n"
     ]
    },
    {
     "data": {
      "text/plain": [
       "NoAL        90.914525\n",
       "GravelAL     5.379558\n",
       "PaveAL       3.705918\n",
       "Name: Alley, dtype: float64"
      ]
     },
     "execution_count": 69,
     "metadata": {},
     "output_type": "execute_result"
    }
   ],
   "source": [
    "print(100*house['Alley'].value_counts(normalize = True))\n",
    "var=['Alley']\n",
    "def binary_map(x):\n",
    "    return x.map({'NoAlley': 'NoAL', 'Grvl':'GravelAL', 'Pave':'PaveAL'})\n",
    "\n",
    "# Applying the function to the housing list\n",
    "house[var] = house[var].apply(binary_map)\n",
    "100*house['Alley'].value_counts(normalize = True)"
   ]
  },
  {
   "cell_type": "code",
   "execution_count": 70,
   "metadata": {},
   "outputs": [
    {
     "name": "stdout",
     "output_type": "stream",
     "text": [
      "Pave    99.760909\n",
      "Grvl     0.239091\n",
      "Name: Street, dtype: float64\n"
     ]
    },
    {
     "data": {
      "text/plain": [
       "1    99.760909\n",
       "0     0.239091\n",
       "Name: Street, dtype: float64"
      ]
     },
     "execution_count": 70,
     "metadata": {},
     "output_type": "execute_result"
    }
   ],
   "source": [
    "print(100*house['Street'].value_counts(normalize = True))\n",
    "var=['Street']\n",
    "def binary_map(x):\n",
    "    return x.map({'Grvl':0, 'Pave':1})\n",
    "\n",
    "# Applying the function to the housing list\n",
    "house[var] = house[var].apply(binary_map)\n",
    "100*house['Street'].value_counts(normalize = True)"
   ]
  },
  {
   "cell_type": "markdown",
   "metadata": {},
   "source": [
    "### Creating Dummy Variables"
   ]
  },
  {
   "cell_type": "code",
   "execution_count": 71,
   "metadata": {},
   "outputs": [
    {
     "data": {
      "text/plain": [
       "Utilities         1\n",
       "Street            2\n",
       "CentralAir        2\n",
       "PavedDrive        3\n",
       "Alley             3\n",
       "GarageFinish      3\n",
       "BsmtHalfBath      3\n",
       "LandSlope         3\n",
       "KitchenAbvGr      3\n",
       "HalfBath          3\n",
       "BsmtFullBath      3\n",
       "ExterQual         4\n",
       "MasVnrType        4\n",
       "PoolQC            4\n",
       "MiscFeature       4\n",
       "GarageCars        4\n",
       "ExterCond         4\n",
       "Fireplaces        4\n",
       "FullBath          4\n",
       "LandContour       4\n",
       "LotShape          4\n",
       "KitchenQual       4\n",
       "GarageQual        5\n",
       "GarageCond        5\n",
       "MSZoning          5\n",
       "HeatingQC         5\n",
       "BsmtExposure      5\n",
       "YrSold            5\n",
       "LotConfig         5\n",
       "RoofStyle         5\n",
       "Fence             5\n",
       "BldgType          5\n",
       "Heating           5\n",
       "SaleCondition     6\n",
       "GarageType        6\n",
       "FireplaceQu       6\n",
       "Functional        6\n",
       "Foundation        6\n",
       "Condition2        6\n",
       "RoofMatl          7\n",
       "BedroomAbvGr      7\n",
       "BsmtFinType1      7\n",
       "PoolArea          7\n",
       "OverallCond       8\n",
       "HouseStyle        8\n",
       "OverallQual       9\n",
       "Condition1        9\n",
       "SaleType          9\n",
       "TotRmsAbvGrd     10\n",
       "MoSold           12\n",
       "dtype: int64"
      ]
     },
     "execution_count": 71,
     "metadata": {},
     "output_type": "execute_result"
    }
   ],
   "source": [
    "house.nunique().sort_values(ascending=True).head(50)"
   ]
  },
  {
   "cell_type": "code",
   "execution_count": 72,
   "metadata": {},
   "outputs": [
    {
     "data": {
      "text/plain": [
       "array(['MSSubClass', 'MSZoning', 'Street', 'Alley', 'LotShape',\n",
       "       'LandContour', 'Utilities', 'LotConfig', 'LandSlope',\n",
       "       'Neighborhood', 'Condition1', 'Condition2', 'BldgType',\n",
       "       'HouseStyle', 'OverallQual', 'OverallCond', 'RoofStyle',\n",
       "       'RoofMatl', 'Exterior1st', 'Exterior2nd', 'MasVnrType',\n",
       "       'ExterQual', 'ExterCond', 'Foundation', 'BsmtExposure',\n",
       "       'BsmtFinType1', 'Heating', 'HeatingQC', 'CentralAir',\n",
       "       'LowQualFinSF', 'BsmtFullBath', 'BsmtHalfBath', 'FullBath',\n",
       "       'HalfBath', 'BedroomAbvGr', 'KitchenAbvGr', 'KitchenQual',\n",
       "       'TotRmsAbvGrd', 'Functional', 'Fireplaces', 'FireplaceQu',\n",
       "       'GarageType', 'GarageFinish', 'GarageCars', 'GarageQual',\n",
       "       'GarageCond', 'PavedDrive', '3SsnPorch', 'PoolArea', 'PoolQC',\n",
       "       'Fence', 'MiscFeature', 'MiscVal', 'MoSold', 'YrSold', 'SaleType',\n",
       "       'SaleCondition'], dtype=object)"
      ]
     },
     "execution_count": 72,
     "metadata": {},
     "output_type": "execute_result"
    }
   ],
   "source": [
    "#to list the categorical variables with less than 30 unique values\n",
    "categorical_col = np.array(house.columns.where(house.nunique()<30).dropna())\n",
    "categorical_col"
   ]
  },
  {
   "cell_type": "code",
   "execution_count": 73,
   "metadata": {},
   "outputs": [],
   "source": [
    "#Lot of variables seem to be imbalanced here hence we need to delete them before creating dummy variables\n",
    "house.drop(columns = ['GarageQual','GarageCond','3SsnPorch', 'PoolArea','PoolQC','MiscVal','MiscFeature','PavedDrive','Functional','SaleType','CentralAir','ExterCond','GarageQual','GarageCond','Alley','Street','LandContour','Utilities','LandSlope','Condition2','RoofMatl','Heating','BsmtHalfBath','KitchenAbvGr'], inplace = True)"
   ]
  },
  {
   "cell_type": "code",
   "execution_count": 74,
   "metadata": {},
   "outputs": [
    {
     "data": {
      "text/plain": [
       "VinylSd    35.564854\n",
       "MetalSd    17.692767\n",
       "Wd Sdng    16.975493\n",
       "HdBoard    11.057980\n",
       "Plywood     5.080693\n",
       "BrkFace     4.722056\n",
       "CemntBd     3.347280\n",
       "AsbShng     2.032277\n",
       "WdShing     1.733413\n",
       "Stucco      1.434549\n",
       "BrkComm     0.179319\n",
       "CBlock      0.059773\n",
       "Stone       0.059773\n",
       "ImStucc     0.059773\n",
       "Name: Exterior1st, dtype: float64"
      ]
     },
     "execution_count": 74,
     "metadata": {},
     "output_type": "execute_result"
    }
   ],
   "source": [
    "100*house['Exterior1st'].value_counts(normalize = True)"
   ]
  },
  {
   "cell_type": "code",
   "execution_count": 75,
   "metadata": {},
   "outputs": [],
   "source": [
    "# to dummify the variable\n",
    "dummy_SaleCondition = pd.get_dummies(house['SaleCondition'], drop_first = False)\n",
    "dummy_GarageFinish= dummy_SaleCondition.drop(columns = ['AdjLand'])\n",
    "house = pd.concat([house,dummy_SaleCondition], axis =1)\n",
    "house.drop(columns = ['SaleCondition'], inplace = True)"
   ]
  },
  {
   "cell_type": "code",
   "execution_count": 76,
   "metadata": {},
   "outputs": [],
   "source": [
    "# to dummify the variable\n",
    "dummy_GarageFinish = pd.get_dummies(house['GarageFinish'], drop_first = False)\n",
    "dummy_GarageFinish= dummy_GarageFinish.drop(columns = ['Fin'])\n",
    "house = pd.concat([house,dummy_GarageFinish], axis =1)\n",
    "house.drop(columns = ['GarageFinish'], inplace = True)"
   ]
  },
  {
   "cell_type": "code",
   "execution_count": 77,
   "metadata": {},
   "outputs": [],
   "source": [
    "# to dummify the variable\n",
    "dummy_Fence = pd.get_dummies(house['Fence'], drop_first = False)\n",
    "dummy_Fence= dummy_Fence.drop(columns = ['MnWw'])\n",
    "house = pd.concat([house,dummy_Fence], axis =1)\n",
    "house.drop(columns = ['Fence'], inplace = True)"
   ]
  },
  {
   "cell_type": "code",
   "execution_count": 78,
   "metadata": {},
   "outputs": [],
   "source": [
    "# to dummify the variable\n",
    "dummy_GarageType = pd.get_dummies(house['GarageType'], drop_first = False)\n",
    "dummy_GarageType= dummy_GarageType.drop(columns = ['2Types'])\n",
    "house = pd.concat([house,dummy_GarageType], axis =1)\n",
    "house.drop(columns = ['GarageType'], inplace = True)"
   ]
  },
  {
   "cell_type": "code",
   "execution_count": 79,
   "metadata": {},
   "outputs": [],
   "source": [
    "# to dummify the variable\n",
    "dummy_BsmtFinType1 = pd.get_dummies(house['BsmtFinType1'], drop_first = False)\n",
    "dummy_BsmtFinType1= dummy_BsmtFinType1.drop(columns = ['Unf'])\n",
    "house = pd.concat([house,dummy_BsmtFinType1], axis =1)\n",
    "house.drop(columns = ['BsmtFinType1'], inplace = True)"
   ]
  },
  {
   "cell_type": "code",
   "execution_count": 80,
   "metadata": {},
   "outputs": [],
   "source": [
    "#to dummify multiple variables\n",
    "house= pd.get_dummies(house, columns=['MasVnrType'], drop_first=True)\n",
    "house= pd.get_dummies(house, columns=['Exterior2nd'], drop_first=True)\n",
    "house= pd.get_dummies(house, columns=['Foundation'], drop_first=True)"
   ]
  },
  {
   "cell_type": "code",
   "execution_count": 81,
   "metadata": {},
   "outputs": [],
   "source": [
    "# to dummify the variable\n",
    "dummy_Exterior1st = pd.get_dummies(house['Exterior1st'],drop_first = True)\n",
    "house = pd.concat([house,dummy_Exterior1st], axis =1)\n",
    "house.drop(columns = ['Exterior1st'], inplace = True)"
   ]
  },
  {
   "cell_type": "code",
   "execution_count": 82,
   "metadata": {},
   "outputs": [],
   "source": [
    "# to dummify the variable\n",
    "dummy_RoofStyle = pd.get_dummies(house['RoofStyle'], drop_first = False)\n",
    "dummy_RoofStyle= dummy_RoofStyle.drop(columns = ['Mansard'])\n",
    "house = pd.concat([house,dummy_RoofStyle], axis =1)\n",
    "house.drop(columns = ['RoofStyle'], inplace = True)"
   ]
  },
  {
   "cell_type": "code",
   "execution_count": 83,
   "metadata": {},
   "outputs": [],
   "source": [
    "# to dummify the variable\n",
    "dummy_HouseStyle = pd.get_dummies(house['HouseStyle'], drop_first = False)\n",
    "dummy_HouseStyle= dummy_HouseStyle.drop(columns = ['2.5Fin'])\n",
    "house = pd.concat([house,dummy_HouseStyle], axis =1)\n",
    "house.drop(columns = ['HouseStyle'], inplace = True)"
   ]
  },
  {
   "cell_type": "code",
   "execution_count": 84,
   "metadata": {},
   "outputs": [],
   "source": [
    "# to dummify the variable\n",
    "dummy_BldgType = pd.get_dummies(house['BldgType'], drop_first = False)\n",
    "dummy_BldgType = dummy_BldgType.drop(columns = ['2fmCon'])\n",
    "house = pd.concat([house,dummy_BldgType], axis =1)\n",
    "house.drop(columns = ['BldgType'], inplace = True)"
   ]
  },
  {
   "cell_type": "code",
   "execution_count": 85,
   "metadata": {},
   "outputs": [],
   "source": [
    "# to dummify the variable\n",
    "dummy_LotShape = pd.get_dummies(house['LotShape'], drop_first = False)\n",
    "dummy_LotShape = dummy_LotShape.drop(columns = ['IR3'])\n",
    "house = pd.concat([house,dummy_LotShape], axis =1)\n",
    "house.drop(columns = ['LotShape'], inplace = True)"
   ]
  },
  {
   "cell_type": "code",
   "execution_count": 86,
   "metadata": {},
   "outputs": [],
   "source": [
    "#to dummify the variable\n",
    "dummy_LotConfig = pd.get_dummies(house['LotConfig'], drop_first = False)\n",
    "dummy_LotConfig = dummy_LotConfig.drop(columns = ['FR3'])\n",
    "house = pd.concat([house,dummy_LotConfig], axis =1)\n",
    "house.drop(columns = ['LotConfig'], inplace = True)\n"
   ]
  },
  {
   "cell_type": "code",
   "execution_count": 87,
   "metadata": {},
   "outputs": [],
   "source": [
    "#to dummify the variable\n",
    "dummy_Neighborhood = pd.get_dummies(house['Neighborhood'], drop_first = False)\n",
    "dummy_Neighborhood = dummy_Neighborhood.drop(columns = ['Blueste'])\n",
    "house = pd.concat([house,dummy_Neighborhood], axis =1)\n",
    "house.drop(columns = ['Neighborhood'], inplace = True)"
   ]
  },
  {
   "cell_type": "code",
   "execution_count": 88,
   "metadata": {},
   "outputs": [],
   "source": [
    "#to dummify the variable\n",
    "dummy_MSZoning = pd.get_dummies(house['MSZoning'], drop_first = False)\n",
    "dummy_MSZoning = dummy_MSZoning.drop(columns = ['C (all)'])\n",
    "house = pd.concat([house,dummy_MSZoning], axis =1)\n",
    "house.drop(columns = ['MSZoning'], inplace = True)"
   ]
  },
  {
   "cell_type": "code",
   "execution_count": 89,
   "metadata": {},
   "outputs": [],
   "source": [
    "#to dummify the variable\n",
    "dummy_Condition1 = pd.get_dummies(house['Condition1'], drop_first = False)\n",
    "dummy_Condition1 = dummy_Condition1.drop(columns = ['RRNe'])\n",
    "house = pd.concat([house,dummy_Condition1], axis =1)\n",
    "house.drop(columns = ['Condition1'], inplace = True)"
   ]
  },
  {
   "cell_type": "code",
   "execution_count": 90,
   "metadata": {},
   "outputs": [
    {
     "data": {
      "text/plain": [
       "RL                     1\n",
       "RRAn                   1\n",
       "BrkComm                1\n",
       "Exterior2nd_Stucco     1\n",
       "GarageCars             1\n",
       "1.5Unf                 1\n",
       "SFoyer                 1\n",
       "GdWo                   1\n",
       "SWISU                  1\n",
       "Exterior2nd_Stone      1\n",
       "BsmtExposure           1\n",
       "KitchenQual            1\n",
       "BrkFace                1\n",
       "Reg                    1\n",
       "CemntBd                1\n",
       "Timber                 1\n",
       "2ndFlrSF               1\n",
       "2.5Unf                 1\n",
       "NPkVill                1\n",
       "RRAe                   1\n",
       "Attchd                 1\n",
       "Normal                 1\n",
       "SLvl                   1\n",
       "Exterior2nd_Wd Shng    1\n",
       "ImStucc                1\n",
       "Gable                  1\n",
       "MoSold                 1\n",
       "MetalSd                1\n",
       "Foundation_Stone       1\n",
       "Mitchel                1\n",
       "PosA                   1\n",
       "OldTown                1\n",
       "Foundation_Wood        1\n",
       "MasVnrType_BrkFace     1\n",
       "MasVnrArea             1\n",
       "Flat                   1\n",
       "PosN                   1\n",
       "Partial                1\n",
       "Exterior2nd_CmentBd    1\n",
       "EnclosedPorch          1\n",
       "BedroomAbvGr           1\n",
       "2Story                 1\n",
       "Exterior2nd_Brk Cmn    1\n",
       "IR1                    1\n",
       "Unf                    1\n",
       "NoFence                1\n",
       "WoodDeckSF             1\n",
       "Exterior2nd_CBlock     1\n",
       "Exterior2nd_MetalSd    1\n",
       "GarageYrBlt            1\n",
       "dtype: int64"
      ]
     },
     "execution_count": 90,
     "metadata": {},
     "output_type": "execute_result"
    }
   ],
   "source": [
    "#to check if all variables have single instances\n",
    "house.columns.value_counts().head(50)"
   ]
  },
  {
   "cell_type": "code",
   "execution_count": 91,
   "metadata": {},
   "outputs": [
    {
     "data": {
      "text/html": [
       "<div>\n",
       "<style scoped>\n",
       "    .dataframe tbody tr th:only-of-type {\n",
       "        vertical-align: middle;\n",
       "    }\n",
       "\n",
       "    .dataframe tbody tr th {\n",
       "        vertical-align: top;\n",
       "    }\n",
       "\n",
       "    .dataframe thead th {\n",
       "        text-align: right;\n",
       "    }\n",
       "</style>\n",
       "<table border=\"1\" class=\"dataframe\">\n",
       "  <thead>\n",
       "    <tr style=\"text-align: right;\">\n",
       "      <th></th>\n",
       "      <th>MSSubClass</th>\n",
       "      <th>LotFrontage</th>\n",
       "      <th>LotArea</th>\n",
       "      <th>OverallQual</th>\n",
       "      <th>OverallCond</th>\n",
       "      <th>YearBuilt</th>\n",
       "      <th>YearRemodAdd</th>\n",
       "      <th>MasVnrArea</th>\n",
       "      <th>ExterQual</th>\n",
       "      <th>BsmtExposure</th>\n",
       "      <th>...</th>\n",
       "      <th>RL</th>\n",
       "      <th>RM</th>\n",
       "      <th>Artery</th>\n",
       "      <th>Feedr</th>\n",
       "      <th>Norm</th>\n",
       "      <th>PosA</th>\n",
       "      <th>PosN</th>\n",
       "      <th>RRAe</th>\n",
       "      <th>RRAn</th>\n",
       "      <th>RRNn</th>\n",
       "    </tr>\n",
       "  </thead>\n",
       "  <tbody>\n",
       "    <tr>\n",
       "      <th>0</th>\n",
       "      <td>60</td>\n",
       "      <td>65.0</td>\n",
       "      <td>8450</td>\n",
       "      <td>7</td>\n",
       "      <td>5</td>\n",
       "      <td>17</td>\n",
       "      <td>17</td>\n",
       "      <td>196.0</td>\n",
       "      <td>3</td>\n",
       "      <td>1</td>\n",
       "      <td>...</td>\n",
       "      <td>1</td>\n",
       "      <td>0</td>\n",
       "      <td>0</td>\n",
       "      <td>0</td>\n",
       "      <td>1</td>\n",
       "      <td>0</td>\n",
       "      <td>0</td>\n",
       "      <td>0</td>\n",
       "      <td>0</td>\n",
       "      <td>0</td>\n",
       "    </tr>\n",
       "    <tr>\n",
       "      <th>1</th>\n",
       "      <td>20</td>\n",
       "      <td>80.0</td>\n",
       "      <td>9600</td>\n",
       "      <td>6</td>\n",
       "      <td>8</td>\n",
       "      <td>44</td>\n",
       "      <td>44</td>\n",
       "      <td>0.0</td>\n",
       "      <td>2</td>\n",
       "      <td>4</td>\n",
       "      <td>...</td>\n",
       "      <td>1</td>\n",
       "      <td>0</td>\n",
       "      <td>0</td>\n",
       "      <td>1</td>\n",
       "      <td>0</td>\n",
       "      <td>0</td>\n",
       "      <td>0</td>\n",
       "      <td>0</td>\n",
       "      <td>0</td>\n",
       "      <td>0</td>\n",
       "    </tr>\n",
       "    <tr>\n",
       "      <th>2</th>\n",
       "      <td>60</td>\n",
       "      <td>68.0</td>\n",
       "      <td>11250</td>\n",
       "      <td>7</td>\n",
       "      <td>5</td>\n",
       "      <td>19</td>\n",
       "      <td>18</td>\n",
       "      <td>162.0</td>\n",
       "      <td>3</td>\n",
       "      <td>2</td>\n",
       "      <td>...</td>\n",
       "      <td>1</td>\n",
       "      <td>0</td>\n",
       "      <td>0</td>\n",
       "      <td>0</td>\n",
       "      <td>1</td>\n",
       "      <td>0</td>\n",
       "      <td>0</td>\n",
       "      <td>0</td>\n",
       "      <td>0</td>\n",
       "      <td>0</td>\n",
       "    </tr>\n",
       "    <tr>\n",
       "      <th>3</th>\n",
       "      <td>70</td>\n",
       "      <td>60.0</td>\n",
       "      <td>9550</td>\n",
       "      <td>7</td>\n",
       "      <td>5</td>\n",
       "      <td>105</td>\n",
       "      <td>50</td>\n",
       "      <td>0.0</td>\n",
       "      <td>2</td>\n",
       "      <td>1</td>\n",
       "      <td>...</td>\n",
       "      <td>1</td>\n",
       "      <td>0</td>\n",
       "      <td>0</td>\n",
       "      <td>0</td>\n",
       "      <td>1</td>\n",
       "      <td>0</td>\n",
       "      <td>0</td>\n",
       "      <td>0</td>\n",
       "      <td>0</td>\n",
       "      <td>0</td>\n",
       "    </tr>\n",
       "    <tr>\n",
       "      <th>4</th>\n",
       "      <td>70</td>\n",
       "      <td>60.0</td>\n",
       "      <td>9550</td>\n",
       "      <td>7</td>\n",
       "      <td>5</td>\n",
       "      <td>105</td>\n",
       "      <td>50</td>\n",
       "      <td>0.0</td>\n",
       "      <td>2</td>\n",
       "      <td>1</td>\n",
       "      <td>...</td>\n",
       "      <td>1</td>\n",
       "      <td>0</td>\n",
       "      <td>0</td>\n",
       "      <td>0</td>\n",
       "      <td>1</td>\n",
       "      <td>0</td>\n",
       "      <td>0</td>\n",
       "      <td>0</td>\n",
       "      <td>0</td>\n",
       "      <td>0</td>\n",
       "    </tr>\n",
       "  </tbody>\n",
       "</table>\n",
       "<p>5 rows × 154 columns</p>\n",
       "</div>"
      ],
      "text/plain": [
       "   MSSubClass  LotFrontage  LotArea  OverallQual  OverallCond  YearBuilt  \\\n",
       "0          60         65.0     8450            7            5         17   \n",
       "1          20         80.0     9600            6            8         44   \n",
       "2          60         68.0    11250            7            5         19   \n",
       "3          70         60.0     9550            7            5        105   \n",
       "4          70         60.0     9550            7            5        105   \n",
       "\n",
       "   YearRemodAdd  MasVnrArea  ExterQual  BsmtExposure  ...  RL  RM  Artery  \\\n",
       "0            17       196.0          3             1  ...   1   0       0   \n",
       "1            44         0.0          2             4  ...   1   0       0   \n",
       "2            18       162.0          3             2  ...   1   0       0   \n",
       "3            50         0.0          2             1  ...   1   0       0   \n",
       "4            50         0.0          2             1  ...   1   0       0   \n",
       "\n",
       "   Feedr  Norm  PosA  PosN  RRAe  RRAn  RRNn  \n",
       "0      0     1     0     0     0     0     0  \n",
       "1      1     0     0     0     0     0     0  \n",
       "2      0     1     0     0     0     0     0  \n",
       "3      0     1     0     0     0     0     0  \n",
       "4      0     1     0     0     0     0     0  \n",
       "\n",
       "[5 rows x 154 columns]"
      ]
     },
     "execution_count": 91,
     "metadata": {},
     "output_type": "execute_result"
    }
   ],
   "source": [
    "house.head()"
   ]
  },
  {
   "cell_type": "markdown",
   "metadata": {},
   "source": [
    "### Building the model\n",
    "\n",
    "\n",
    "##### Test-Train split"
   ]
  },
  {
   "cell_type": "code",
   "execution_count": 92,
   "metadata": {},
   "outputs": [
    {
     "data": {
      "text/html": [
       "<div>\n",
       "<style scoped>\n",
       "    .dataframe tbody tr th:only-of-type {\n",
       "        vertical-align: middle;\n",
       "    }\n",
       "\n",
       "    .dataframe tbody tr th {\n",
       "        vertical-align: top;\n",
       "    }\n",
       "\n",
       "    .dataframe thead th {\n",
       "        text-align: right;\n",
       "    }\n",
       "</style>\n",
       "<table border=\"1\" class=\"dataframe\">\n",
       "  <thead>\n",
       "    <tr style=\"text-align: right;\">\n",
       "      <th></th>\n",
       "      <th>MSSubClass</th>\n",
       "      <th>LotFrontage</th>\n",
       "      <th>LotArea</th>\n",
       "      <th>OverallQual</th>\n",
       "      <th>OverallCond</th>\n",
       "      <th>YearBuilt</th>\n",
       "      <th>YearRemodAdd</th>\n",
       "      <th>MasVnrArea</th>\n",
       "      <th>ExterQual</th>\n",
       "      <th>BsmtExposure</th>\n",
       "      <th>...</th>\n",
       "      <th>RL</th>\n",
       "      <th>RM</th>\n",
       "      <th>Artery</th>\n",
       "      <th>Feedr</th>\n",
       "      <th>Norm</th>\n",
       "      <th>PosA</th>\n",
       "      <th>PosN</th>\n",
       "      <th>RRAe</th>\n",
       "      <th>RRAn</th>\n",
       "      <th>RRNn</th>\n",
       "    </tr>\n",
       "  </thead>\n",
       "  <tbody>\n",
       "    <tr>\n",
       "      <th>0</th>\n",
       "      <td>0.102152</td>\n",
       "      <td>-0.107208</td>\n",
       "      <td>-0.158479</td>\n",
       "      <td>0.779785</td>\n",
       "      <td>-0.503679</td>\n",
       "      <td>-1.117773</td>\n",
       "      <td>-0.900296</td>\n",
       "      <td>0.740785</td>\n",
       "      <td>1.179126</td>\n",
       "      <td>-0.514390</td>\n",
       "      <td>...</td>\n",
       "      <td>0.57528</td>\n",
       "      <td>-0.472179</td>\n",
       "      <td>-0.208969</td>\n",
       "      <td>-0.227024</td>\n",
       "      <td>0.404254</td>\n",
       "      <td>-0.05475</td>\n",
       "      <td>-0.084997</td>\n",
       "      <td>-0.088495</td>\n",
       "      <td>-0.160471</td>\n",
       "      <td>-0.077545</td>\n",
       "    </tr>\n",
       "    <tr>\n",
       "      <th>1</th>\n",
       "      <td>-0.854601</td>\n",
       "      <td>0.588162</td>\n",
       "      <td>0.007979</td>\n",
       "      <td>0.020867</td>\n",
       "      <td>2.099788</td>\n",
       "      <td>-0.272439</td>\n",
       "      <td>0.302593</td>\n",
       "      <td>-0.456125</td>\n",
       "      <td>-0.637336</td>\n",
       "      <td>2.522929</td>\n",
       "      <td>...</td>\n",
       "      <td>0.57528</td>\n",
       "      <td>-0.472179</td>\n",
       "      <td>-0.208969</td>\n",
       "      <td>4.404820</td>\n",
       "      <td>-2.473691</td>\n",
       "      <td>-0.05475</td>\n",
       "      <td>-0.084997</td>\n",
       "      <td>-0.088495</td>\n",
       "      <td>-0.160471</td>\n",
       "      <td>-0.077545</td>\n",
       "    </tr>\n",
       "    <tr>\n",
       "      <th>2</th>\n",
       "      <td>0.102152</td>\n",
       "      <td>0.031866</td>\n",
       "      <td>0.246810</td>\n",
       "      <td>0.779785</td>\n",
       "      <td>-0.503679</td>\n",
       "      <td>-1.055156</td>\n",
       "      <td>-0.855744</td>\n",
       "      <td>0.533158</td>\n",
       "      <td>1.179126</td>\n",
       "      <td>0.498050</td>\n",
       "      <td>...</td>\n",
       "      <td>0.57528</td>\n",
       "      <td>-0.472179</td>\n",
       "      <td>-0.208969</td>\n",
       "      <td>-0.227024</td>\n",
       "      <td>0.404254</td>\n",
       "      <td>-0.05475</td>\n",
       "      <td>-0.084997</td>\n",
       "      <td>-0.088495</td>\n",
       "      <td>-0.160471</td>\n",
       "      <td>-0.077545</td>\n",
       "    </tr>\n",
       "    <tr>\n",
       "      <th>3</th>\n",
       "      <td>0.341340</td>\n",
       "      <td>-0.338998</td>\n",
       "      <td>0.000741</td>\n",
       "      <td>0.779785</td>\n",
       "      <td>-0.503679</td>\n",
       "      <td>1.637388</td>\n",
       "      <td>0.569901</td>\n",
       "      <td>-0.456125</td>\n",
       "      <td>-0.637336</td>\n",
       "      <td>-0.514390</td>\n",
       "      <td>...</td>\n",
       "      <td>0.57528</td>\n",
       "      <td>-0.472179</td>\n",
       "      <td>-0.208969</td>\n",
       "      <td>-0.227024</td>\n",
       "      <td>0.404254</td>\n",
       "      <td>-0.05475</td>\n",
       "      <td>-0.084997</td>\n",
       "      <td>-0.088495</td>\n",
       "      <td>-0.160471</td>\n",
       "      <td>-0.077545</td>\n",
       "    </tr>\n",
       "    <tr>\n",
       "      <th>4</th>\n",
       "      <td>0.341340</td>\n",
       "      <td>-0.338998</td>\n",
       "      <td>0.000741</td>\n",
       "      <td>0.779785</td>\n",
       "      <td>-0.503679</td>\n",
       "      <td>1.637388</td>\n",
       "      <td>0.569901</td>\n",
       "      <td>-0.456125</td>\n",
       "      <td>-0.637336</td>\n",
       "      <td>-0.514390</td>\n",
       "      <td>...</td>\n",
       "      <td>0.57528</td>\n",
       "      <td>-0.472179</td>\n",
       "      <td>-0.208969</td>\n",
       "      <td>-0.227024</td>\n",
       "      <td>0.404254</td>\n",
       "      <td>-0.05475</td>\n",
       "      <td>-0.084997</td>\n",
       "      <td>-0.088495</td>\n",
       "      <td>-0.160471</td>\n",
       "      <td>-0.077545</td>\n",
       "    </tr>\n",
       "  </tbody>\n",
       "</table>\n",
       "<p>5 rows × 154 columns</p>\n",
       "</div>"
      ],
      "text/plain": [
       "   MSSubClass  LotFrontage   LotArea  OverallQual  OverallCond  YearBuilt  \\\n",
       "0    0.102152    -0.107208 -0.158479     0.779785    -0.503679  -1.117773   \n",
       "1   -0.854601     0.588162  0.007979     0.020867     2.099788  -0.272439   \n",
       "2    0.102152     0.031866  0.246810     0.779785    -0.503679  -1.055156   \n",
       "3    0.341340    -0.338998  0.000741     0.779785    -0.503679   1.637388   \n",
       "4    0.341340    -0.338998  0.000741     0.779785    -0.503679   1.637388   \n",
       "\n",
       "   YearRemodAdd  MasVnrArea  ExterQual  BsmtExposure  ...       RL        RM  \\\n",
       "0     -0.900296    0.740785   1.179126     -0.514390  ...  0.57528 -0.472179   \n",
       "1      0.302593   -0.456125  -0.637336      2.522929  ...  0.57528 -0.472179   \n",
       "2     -0.855744    0.533158   1.179126      0.498050  ...  0.57528 -0.472179   \n",
       "3      0.569901   -0.456125  -0.637336     -0.514390  ...  0.57528 -0.472179   \n",
       "4      0.569901   -0.456125  -0.637336     -0.514390  ...  0.57528 -0.472179   \n",
       "\n",
       "     Artery     Feedr      Norm     PosA      PosN      RRAe      RRAn  \\\n",
       "0 -0.208969 -0.227024  0.404254 -0.05475 -0.084997 -0.088495 -0.160471   \n",
       "1 -0.208969  4.404820 -2.473691 -0.05475 -0.084997 -0.088495 -0.160471   \n",
       "2 -0.208969 -0.227024  0.404254 -0.05475 -0.084997 -0.088495 -0.160471   \n",
       "3 -0.208969 -0.227024  0.404254 -0.05475 -0.084997 -0.088495 -0.160471   \n",
       "4 -0.208969 -0.227024  0.404254 -0.05475 -0.084997 -0.088495 -0.160471   \n",
       "\n",
       "       RRNn  \n",
       "0 -0.077545  \n",
       "1 -0.077545  \n",
       "2 -0.077545  \n",
       "3 -0.077545  \n",
       "4 -0.077545  \n",
       "\n",
       "[5 rows x 154 columns]"
      ]
     },
     "execution_count": 92,
     "metadata": {},
     "output_type": "execute_result"
    }
   ],
   "source": [
    "# Putting feature variable to X and scaling\n",
    "from sklearn.preprocessing import scale\n",
    "X = house\n",
    "cols = X.columns\n",
    "X = pd.DataFrame(scale(X))\n",
    "X.columns = cols\n",
    "X.head()"
   ]
  },
  {
   "cell_type": "code",
   "execution_count": 93,
   "metadata": {},
   "outputs": [],
   "source": [
    "# Putting response variable to y\n",
    "y = house.pop('SalePrice')\n",
    "X = house"
   ]
  },
  {
   "cell_type": "code",
   "execution_count": 94,
   "metadata": {},
   "outputs": [
    {
     "data": {
      "text/html": [
       "<div>\n",
       "<style scoped>\n",
       "    .dataframe tbody tr th:only-of-type {\n",
       "        vertical-align: middle;\n",
       "    }\n",
       "\n",
       "    .dataframe tbody tr th {\n",
       "        vertical-align: top;\n",
       "    }\n",
       "\n",
       "    .dataframe thead th {\n",
       "        text-align: right;\n",
       "    }\n",
       "</style>\n",
       "<table border=\"1\" class=\"dataframe\">\n",
       "  <thead>\n",
       "    <tr style=\"text-align: right;\">\n",
       "      <th></th>\n",
       "      <th>MSSubClass</th>\n",
       "      <th>LotFrontage</th>\n",
       "      <th>LotArea</th>\n",
       "      <th>OverallQual</th>\n",
       "      <th>OverallCond</th>\n",
       "      <th>YearBuilt</th>\n",
       "      <th>YearRemodAdd</th>\n",
       "      <th>MasVnrArea</th>\n",
       "      <th>ExterQual</th>\n",
       "      <th>BsmtExposure</th>\n",
       "      <th>...</th>\n",
       "      <th>RL</th>\n",
       "      <th>RM</th>\n",
       "      <th>Artery</th>\n",
       "      <th>Feedr</th>\n",
       "      <th>Norm</th>\n",
       "      <th>PosA</th>\n",
       "      <th>PosN</th>\n",
       "      <th>RRAe</th>\n",
       "      <th>RRAn</th>\n",
       "      <th>RRNn</th>\n",
       "    </tr>\n",
       "  </thead>\n",
       "  <tbody>\n",
       "    <tr>\n",
       "      <th>0</th>\n",
       "      <td>60</td>\n",
       "      <td>65.0</td>\n",
       "      <td>8450</td>\n",
       "      <td>7</td>\n",
       "      <td>5</td>\n",
       "      <td>17</td>\n",
       "      <td>17</td>\n",
       "      <td>196.0</td>\n",
       "      <td>3</td>\n",
       "      <td>1</td>\n",
       "      <td>...</td>\n",
       "      <td>1</td>\n",
       "      <td>0</td>\n",
       "      <td>0</td>\n",
       "      <td>0</td>\n",
       "      <td>1</td>\n",
       "      <td>0</td>\n",
       "      <td>0</td>\n",
       "      <td>0</td>\n",
       "      <td>0</td>\n",
       "      <td>0</td>\n",
       "    </tr>\n",
       "    <tr>\n",
       "      <th>1</th>\n",
       "      <td>20</td>\n",
       "      <td>80.0</td>\n",
       "      <td>9600</td>\n",
       "      <td>6</td>\n",
       "      <td>8</td>\n",
       "      <td>44</td>\n",
       "      <td>44</td>\n",
       "      <td>0.0</td>\n",
       "      <td>2</td>\n",
       "      <td>4</td>\n",
       "      <td>...</td>\n",
       "      <td>1</td>\n",
       "      <td>0</td>\n",
       "      <td>0</td>\n",
       "      <td>1</td>\n",
       "      <td>0</td>\n",
       "      <td>0</td>\n",
       "      <td>0</td>\n",
       "      <td>0</td>\n",
       "      <td>0</td>\n",
       "      <td>0</td>\n",
       "    </tr>\n",
       "    <tr>\n",
       "      <th>2</th>\n",
       "      <td>60</td>\n",
       "      <td>68.0</td>\n",
       "      <td>11250</td>\n",
       "      <td>7</td>\n",
       "      <td>5</td>\n",
       "      <td>19</td>\n",
       "      <td>18</td>\n",
       "      <td>162.0</td>\n",
       "      <td>3</td>\n",
       "      <td>2</td>\n",
       "      <td>...</td>\n",
       "      <td>1</td>\n",
       "      <td>0</td>\n",
       "      <td>0</td>\n",
       "      <td>0</td>\n",
       "      <td>1</td>\n",
       "      <td>0</td>\n",
       "      <td>0</td>\n",
       "      <td>0</td>\n",
       "      <td>0</td>\n",
       "      <td>0</td>\n",
       "    </tr>\n",
       "    <tr>\n",
       "      <th>3</th>\n",
       "      <td>70</td>\n",
       "      <td>60.0</td>\n",
       "      <td>9550</td>\n",
       "      <td>7</td>\n",
       "      <td>5</td>\n",
       "      <td>105</td>\n",
       "      <td>50</td>\n",
       "      <td>0.0</td>\n",
       "      <td>2</td>\n",
       "      <td>1</td>\n",
       "      <td>...</td>\n",
       "      <td>1</td>\n",
       "      <td>0</td>\n",
       "      <td>0</td>\n",
       "      <td>0</td>\n",
       "      <td>1</td>\n",
       "      <td>0</td>\n",
       "      <td>0</td>\n",
       "      <td>0</td>\n",
       "      <td>0</td>\n",
       "      <td>0</td>\n",
       "    </tr>\n",
       "    <tr>\n",
       "      <th>4</th>\n",
       "      <td>70</td>\n",
       "      <td>60.0</td>\n",
       "      <td>9550</td>\n",
       "      <td>7</td>\n",
       "      <td>5</td>\n",
       "      <td>105</td>\n",
       "      <td>50</td>\n",
       "      <td>0.0</td>\n",
       "      <td>2</td>\n",
       "      <td>1</td>\n",
       "      <td>...</td>\n",
       "      <td>1</td>\n",
       "      <td>0</td>\n",
       "      <td>0</td>\n",
       "      <td>0</td>\n",
       "      <td>1</td>\n",
       "      <td>0</td>\n",
       "      <td>0</td>\n",
       "      <td>0</td>\n",
       "      <td>0</td>\n",
       "      <td>0</td>\n",
       "    </tr>\n",
       "  </tbody>\n",
       "</table>\n",
       "<p>5 rows × 153 columns</p>\n",
       "</div>"
      ],
      "text/plain": [
       "   MSSubClass  LotFrontage  LotArea  OverallQual  OverallCond  YearBuilt  \\\n",
       "0          60         65.0     8450            7            5         17   \n",
       "1          20         80.0     9600            6            8         44   \n",
       "2          60         68.0    11250            7            5         19   \n",
       "3          70         60.0     9550            7            5        105   \n",
       "4          70         60.0     9550            7            5        105   \n",
       "\n",
       "   YearRemodAdd  MasVnrArea  ExterQual  BsmtExposure  ...  RL  RM  Artery  \\\n",
       "0            17       196.0          3             1  ...   1   0       0   \n",
       "1            44         0.0          2             4  ...   1   0       0   \n",
       "2            18       162.0          3             2  ...   1   0       0   \n",
       "3            50         0.0          2             1  ...   1   0       0   \n",
       "4            50         0.0          2             1  ...   1   0       0   \n",
       "\n",
       "   Feedr  Norm  PosA  PosN  RRAe  RRAn  RRNn  \n",
       "0      0     1     0     0     0     0     0  \n",
       "1      1     0     0     0     0     0     0  \n",
       "2      0     1     0     0     0     0     0  \n",
       "3      0     1     0     0     0     0     0  \n",
       "4      0     1     0     0     0     0     0  \n",
       "\n",
       "[5 rows x 153 columns]"
      ]
     },
     "execution_count": 94,
     "metadata": {},
     "output_type": "execute_result"
    }
   ],
   "source": [
    "X.head()"
   ]
  },
  {
   "cell_type": "code",
   "execution_count": 95,
   "metadata": {},
   "outputs": [
    {
     "data": {
      "text/plain": [
       "0    12.247694\n",
       "1    12.109011\n",
       "2    12.317167\n",
       "3    11.849398\n",
       "4    11.849398\n",
       "Name: SalePrice, dtype: float64"
      ]
     },
     "execution_count": 95,
     "metadata": {},
     "output_type": "execute_result"
    }
   ],
   "source": [
    "y.head()"
   ]
  },
  {
   "cell_type": "code",
   "execution_count": 96,
   "metadata": {},
   "outputs": [],
   "source": [
    "# split into train and test\n",
    "X_train, X_test, y_train, y_test = train_test_split(X, y, train_size=0.7, test_size=0.3, random_state=100)"
   ]
  },
  {
   "cell_type": "code",
   "execution_count": 97,
   "metadata": {},
   "outputs": [],
   "source": [
    "lm = LinearRegression()\n",
    "lm.fit(X_train, y_train)\n",
    "rfe = RFE(lm, 25)\n",
    "rfe = rfe.fit(X_train, y_train)"
   ]
  },
  {
   "cell_type": "code",
   "execution_count": 98,
   "metadata": {},
   "outputs": [
    {
     "data": {
      "text/plain": [
       "[('MSSubClass', False, 103),\n",
       " ('LotFrontage', False, 115),\n",
       " ('LotArea', False, 125),\n",
       " ('OverallQual', True, 1),\n",
       " ('OverallCond', False, 64),\n",
       " ('YearBuilt', False, 105),\n",
       " ('YearRemodAdd', False, 109),\n",
       " ('MasVnrArea', False, 123),\n",
       " ('ExterQual', False, 101),\n",
       " ('BsmtExposure', False, 82),\n",
       " ('BsmtFinSF1', False, 127),\n",
       " ('BsmtFinSF2', False, 124),\n",
       " ('BsmtUnfSF', False, 126),\n",
       " ('TotalBsmtSF', False, 122),\n",
       " ('HeatingQC', False, 73),\n",
       " ('1stFlrSF', False, 119),\n",
       " ('2ndFlrSF', False, 118),\n",
       " ('LowQualFinSF', False, 117),\n",
       " ('GrLivArea', False, 108),\n",
       " ('BsmtFullBath', False, 6),\n",
       " ('FullBath', False, 4),\n",
       " ('HalfBath', False, 15),\n",
       " ('BedroomAbvGr', False, 93),\n",
       " ('KitchenQual', False, 35),\n",
       " ('TotRmsAbvGrd', False, 66),\n",
       " ('Fireplaces', False, 53),\n",
       " ('FireplaceQu', False, 97),\n",
       " ('GarageYrBlt', False, 106),\n",
       " ('GarageCars', True, 1),\n",
       " ('GarageArea', False, 114),\n",
       " ('WoodDeckSF', False, 113),\n",
       " ('OpenPorchSF', False, 110),\n",
       " ('EnclosedPorch', False, 111),\n",
       " ('ScreenPorch', False, 107),\n",
       " ('MoSold', False, 121),\n",
       " ('YrSold', False, 99),\n",
       " ('Abnorml', False, 2),\n",
       " ('AdjLand', False, 92),\n",
       " ('Alloca', False, 79),\n",
       " ('Family', False, 80),\n",
       " ('Normal', False, 112),\n",
       " ('Partial', False, 70),\n",
       " ('RFn', False, 91),\n",
       " ('Unf', False, 58),\n",
       " ('GdPrv', False, 61),\n",
       " ('GdWo', False, 83),\n",
       " ('MnPrv', False, 62),\n",
       " ('NoFence', False, 63),\n",
       " ('Attchd', False, 116),\n",
       " ('Basment', False, 72),\n",
       " ('BuiltIn', False, 120),\n",
       " ('CarPort', True, 1),\n",
       " ('Detchd', False, 67),\n",
       " ('ALQ', False, 31),\n",
       " ('BLQ', False, 32),\n",
       " ('GLQ', False, 30),\n",
       " ('LwQ', False, 33),\n",
       " ('NoBasement', True, 1),\n",
       " ('Rec', False, 34),\n",
       " ('MasVnrType_BrkFace', False, 86),\n",
       " ('MasVnrType_None', False, 87),\n",
       " ('MasVnrType_Stone', False, 85),\n",
       " ('Exterior2nd_AsphShn', False, 3),\n",
       " ('Exterior2nd_Brk Cmn', False, 102),\n",
       " ('Exterior2nd_BrkFace', False, 13),\n",
       " ('Exterior2nd_CBlock', False, 75),\n",
       " ('Exterior2nd_CmentBd', True, 1),\n",
       " ('Exterior2nd_HdBoard', False, 100),\n",
       " ('Exterior2nd_ImStucc', False, 60),\n",
       " ('Exterior2nd_MetalSd', False, 55),\n",
       " ('Exterior2nd_Other', False, 128),\n",
       " ('Exterior2nd_Plywood', False, 81),\n",
       " ('Exterior2nd_Stone', True, 1),\n",
       " ('Exterior2nd_Stucco', True, 1),\n",
       " ('Exterior2nd_VinylSd', False, 77),\n",
       " ('Exterior2nd_Wd Sdng', False, 78),\n",
       " ('Exterior2nd_Wd Shng', True, 1),\n",
       " ('Foundation_CBlock', False, 18),\n",
       " ('Foundation_PConc', False, 19),\n",
       " ('Foundation_Slab', False, 17),\n",
       " ('Foundation_Stone', True, 1),\n",
       " ('Foundation_Wood', True, 1),\n",
       " ('BrkComm', False, 71),\n",
       " ('BrkFace', True, 1),\n",
       " ('CBlock', False, 74),\n",
       " ('CemntBd', True, 1),\n",
       " ('HdBoard', False, 25),\n",
       " ('ImStucc', False, 129),\n",
       " ('MetalSd', False, 27),\n",
       " ('Plywood', False, 26),\n",
       " ('Stone', True, 1),\n",
       " ('Stucco', True, 1),\n",
       " ('VinylSd', False, 24),\n",
       " ('Wd Sdng', False, 28),\n",
       " ('WdShing', False, 20),\n",
       " ('Flat', False, 37),\n",
       " ('Gable', False, 38),\n",
       " ('Gambrel', False, 84),\n",
       " ('Hip', False, 76),\n",
       " ('1.5Fin', False, 12),\n",
       " ('1.5Unf', True, 1),\n",
       " ('1Story', False, 9),\n",
       " ('2.5Unf', False, 7),\n",
       " ('2Story', False, 10),\n",
       " ('SFoyer', False, 8),\n",
       " ('SLvl', False, 11),\n",
       " ('1Fam', False, 5),\n",
       " ('Duplex', False, 95),\n",
       " ('Twnhs', False, 16),\n",
       " ('TwnhsE', False, 96),\n",
       " ('IR1', False, 88),\n",
       " ('IR2', False, 98),\n",
       " ('Reg', False, 89),\n",
       " ('Corner', False, 22),\n",
       " ('CulDSac', False, 14),\n",
       " ('FR2', False, 57),\n",
       " ('Inside', False, 23),\n",
       " ('Blmngtn', False, 42),\n",
       " ('BrDale', False, 52),\n",
       " ('BrkSide', False, 21),\n",
       " ('ClearCr', True, 1),\n",
       " ('CollgCr', False, 46),\n",
       " ('Crawfor', True, 1),\n",
       " ('Edwards', False, 47),\n",
       " ('Gilbert', False, 48),\n",
       " ('IDOTRR', False, 49),\n",
       " ('MeadowV', False, 65),\n",
       " ('Mitchel', False, 45),\n",
       " ('NAmes', False, 39),\n",
       " ('NPkVill', False, 56),\n",
       " ('NWAmes', False, 51),\n",
       " ('NoRidge', True, 1),\n",
       " ('NridgHt', True, 1),\n",
       " ('OldTown', False, 41),\n",
       " ('SWISU', False, 50),\n",
       " ('Sawyer', False, 40),\n",
       " ('SawyerW', False, 44),\n",
       " ('Somerst', False, 29),\n",
       " ('StoneBr', True, 1),\n",
       " ('Timber', False, 43),\n",
       " ('Veenker', True, 1),\n",
       " ('FV', True, 1),\n",
       " ('RH', True, 1),\n",
       " ('RL', True, 1),\n",
       " ('RM', True, 1),\n",
       " ('Artery', False, 68),\n",
       " ('Feedr', False, 69),\n",
       " ('Norm', False, 54),\n",
       " ('PosA', False, 94),\n",
       " ('PosN', False, 59),\n",
       " ('RRAe', False, 90),\n",
       " ('RRAn', False, 36),\n",
       " ('RRNn', False, 104)]"
      ]
     },
     "execution_count": 98,
     "metadata": {},
     "output_type": "execute_result"
    }
   ],
   "source": [
    "#to identify the ranking of the variables\n",
    "list(zip(X_train.columns,rfe.support_,rfe.ranking_))"
   ]
  },
  {
   "cell_type": "code",
   "execution_count": 99,
   "metadata": {},
   "outputs": [
    {
     "data": {
      "text/plain": [
       "Index(['OverallQual', 'GarageCars', 'CarPort', 'NoBasement',\n",
       "       'Exterior2nd_CmentBd', 'Exterior2nd_Stone', 'Exterior2nd_Stucco',\n",
       "       'Exterior2nd_Wd Shng', 'Foundation_Stone', 'Foundation_Wood', 'BrkFace',\n",
       "       'CemntBd', 'Stone', 'Stucco', '1.5Unf', 'ClearCr', 'Crawfor', 'NoRidge',\n",
       "       'NridgHt', 'StoneBr', 'Veenker', 'FV', 'RH', 'RL', 'RM'],\n",
       "      dtype='object')"
      ]
     },
     "execution_count": 99,
     "metadata": {},
     "output_type": "execute_result"
    }
   ],
   "source": [
    "col = X_train.columns[rfe.support_]\n",
    "col"
   ]
  },
  {
   "cell_type": "code",
   "execution_count": 100,
   "metadata": {},
   "outputs": [],
   "source": [
    "X_train_rfe = X_train[col]"
   ]
  },
  {
   "cell_type": "code",
   "execution_count": 101,
   "metadata": {},
   "outputs": [
    {
     "data": {
      "text/html": [
       "<div>\n",
       "<style scoped>\n",
       "    .dataframe tbody tr th:only-of-type {\n",
       "        vertical-align: middle;\n",
       "    }\n",
       "\n",
       "    .dataframe tbody tr th {\n",
       "        vertical-align: top;\n",
       "    }\n",
       "\n",
       "    .dataframe thead th {\n",
       "        text-align: right;\n",
       "    }\n",
       "</style>\n",
       "<table border=\"1\" class=\"dataframe\">\n",
       "  <thead>\n",
       "    <tr style=\"text-align: right;\">\n",
       "      <th></th>\n",
       "      <th>OverallQual</th>\n",
       "      <th>GarageCars</th>\n",
       "      <th>CarPort</th>\n",
       "      <th>NoBasement</th>\n",
       "      <th>Exterior2nd_CmentBd</th>\n",
       "      <th>Exterior2nd_Stone</th>\n",
       "      <th>Exterior2nd_Stucco</th>\n",
       "      <th>Exterior2nd_Wd Shng</th>\n",
       "      <th>Foundation_Stone</th>\n",
       "      <th>Foundation_Wood</th>\n",
       "      <th>...</th>\n",
       "      <th>ClearCr</th>\n",
       "      <th>Crawfor</th>\n",
       "      <th>NoRidge</th>\n",
       "      <th>NridgHt</th>\n",
       "      <th>StoneBr</th>\n",
       "      <th>Veenker</th>\n",
       "      <th>FV</th>\n",
       "      <th>RH</th>\n",
       "      <th>RL</th>\n",
       "      <th>RM</th>\n",
       "    </tr>\n",
       "  </thead>\n",
       "  <tbody>\n",
       "    <tr>\n",
       "      <th>1344</th>\n",
       "      <td>6</td>\n",
       "      <td>2</td>\n",
       "      <td>0</td>\n",
       "      <td>0</td>\n",
       "      <td>0</td>\n",
       "      <td>0</td>\n",
       "      <td>0</td>\n",
       "      <td>0</td>\n",
       "      <td>0</td>\n",
       "      <td>0</td>\n",
       "      <td>...</td>\n",
       "      <td>0</td>\n",
       "      <td>0</td>\n",
       "      <td>0</td>\n",
       "      <td>0</td>\n",
       "      <td>0</td>\n",
       "      <td>0</td>\n",
       "      <td>0</td>\n",
       "      <td>0</td>\n",
       "      <td>1</td>\n",
       "      <td>0</td>\n",
       "    </tr>\n",
       "    <tr>\n",
       "      <th>946</th>\n",
       "      <td>5</td>\n",
       "      <td>1</td>\n",
       "      <td>0</td>\n",
       "      <td>0</td>\n",
       "      <td>0</td>\n",
       "      <td>0</td>\n",
       "      <td>0</td>\n",
       "      <td>0</td>\n",
       "      <td>0</td>\n",
       "      <td>0</td>\n",
       "      <td>...</td>\n",
       "      <td>0</td>\n",
       "      <td>0</td>\n",
       "      <td>0</td>\n",
       "      <td>0</td>\n",
       "      <td>0</td>\n",
       "      <td>0</td>\n",
       "      <td>0</td>\n",
       "      <td>0</td>\n",
       "      <td>0</td>\n",
       "      <td>1</td>\n",
       "    </tr>\n",
       "    <tr>\n",
       "      <th>590</th>\n",
       "      <td>6</td>\n",
       "      <td>1</td>\n",
       "      <td>0</td>\n",
       "      <td>0</td>\n",
       "      <td>0</td>\n",
       "      <td>0</td>\n",
       "      <td>0</td>\n",
       "      <td>0</td>\n",
       "      <td>0</td>\n",
       "      <td>0</td>\n",
       "      <td>...</td>\n",
       "      <td>0</td>\n",
       "      <td>0</td>\n",
       "      <td>0</td>\n",
       "      <td>0</td>\n",
       "      <td>0</td>\n",
       "      <td>0</td>\n",
       "      <td>0</td>\n",
       "      <td>0</td>\n",
       "      <td>1</td>\n",
       "      <td>0</td>\n",
       "    </tr>\n",
       "    <tr>\n",
       "      <th>108</th>\n",
       "      <td>4</td>\n",
       "      <td>3</td>\n",
       "      <td>0</td>\n",
       "      <td>0</td>\n",
       "      <td>0</td>\n",
       "      <td>0</td>\n",
       "      <td>1</td>\n",
       "      <td>0</td>\n",
       "      <td>0</td>\n",
       "      <td>0</td>\n",
       "      <td>...</td>\n",
       "      <td>0</td>\n",
       "      <td>0</td>\n",
       "      <td>0</td>\n",
       "      <td>0</td>\n",
       "      <td>0</td>\n",
       "      <td>0</td>\n",
       "      <td>0</td>\n",
       "      <td>0</td>\n",
       "      <td>0</td>\n",
       "      <td>1</td>\n",
       "    </tr>\n",
       "    <tr>\n",
       "      <th>1278</th>\n",
       "      <td>7</td>\n",
       "      <td>1</td>\n",
       "      <td>0</td>\n",
       "      <td>0</td>\n",
       "      <td>0</td>\n",
       "      <td>0</td>\n",
       "      <td>0</td>\n",
       "      <td>0</td>\n",
       "      <td>0</td>\n",
       "      <td>0</td>\n",
       "      <td>...</td>\n",
       "      <td>0</td>\n",
       "      <td>1</td>\n",
       "      <td>0</td>\n",
       "      <td>0</td>\n",
       "      <td>0</td>\n",
       "      <td>0</td>\n",
       "      <td>0</td>\n",
       "      <td>0</td>\n",
       "      <td>1</td>\n",
       "      <td>0</td>\n",
       "    </tr>\n",
       "  </tbody>\n",
       "</table>\n",
       "<p>5 rows × 25 columns</p>\n",
       "</div>"
      ],
      "text/plain": [
       "      OverallQual  GarageCars  CarPort  NoBasement  Exterior2nd_CmentBd  \\\n",
       "1344            6           2        0           0                    0   \n",
       "946             5           1        0           0                    0   \n",
       "590             6           1        0           0                    0   \n",
       "108             4           3        0           0                    0   \n",
       "1278            7           1        0           0                    0   \n",
       "\n",
       "      Exterior2nd_Stone  Exterior2nd_Stucco  Exterior2nd_Wd Shng  \\\n",
       "1344                  0                   0                    0   \n",
       "946                   0                   0                    0   \n",
       "590                   0                   0                    0   \n",
       "108                   0                   1                    0   \n",
       "1278                  0                   0                    0   \n",
       "\n",
       "      Foundation_Stone  Foundation_Wood  ...  ClearCr  Crawfor  NoRidge  \\\n",
       "1344                 0                0  ...        0        0        0   \n",
       "946                  0                0  ...        0        0        0   \n",
       "590                  0                0  ...        0        0        0   \n",
       "108                  0                0  ...        0        0        0   \n",
       "1278                 0                0  ...        0        1        0   \n",
       "\n",
       "      NridgHt  StoneBr  Veenker  FV  RH  RL  RM  \n",
       "1344        0        0        0   0   0   1   0  \n",
       "946         0        0        0   0   0   0   1  \n",
       "590         0        0        0   0   0   1   0  \n",
       "108         0        0        0   0   0   0   1  \n",
       "1278        0        0        0   0   0   1   0  \n",
       "\n",
       "[5 rows x 25 columns]"
      ]
     },
     "execution_count": 101,
     "metadata": {},
     "output_type": "execute_result"
    }
   ],
   "source": [
    "X_train_rfe.head()"
   ]
  },
  {
   "cell_type": "code",
   "execution_count": null,
   "metadata": {},
   "outputs": [],
   "source": []
  },
  {
   "cell_type": "markdown",
   "metadata": {},
   "source": [
    "### Ridge"
   ]
  },
  {
   "cell_type": "code",
   "execution_count": 102,
   "metadata": {},
   "outputs": [
    {
     "name": "stdout",
     "output_type": "stream",
     "text": [
      "Fitting 5 folds for each of 11 candidates, totalling 55 fits\n"
     ]
    },
    {
     "name": "stderr",
     "output_type": "stream",
     "text": [
      "[Parallel(n_jobs=1)]: Using backend SequentialBackend with 1 concurrent workers.\n",
      "[Parallel(n_jobs=1)]: Done  55 out of  55 | elapsed:    0.3s finished\n"
     ]
    },
    {
     "data": {
      "text/plain": [
       "GridSearchCV(cv=5, error_score=nan,\n",
       "             estimator=Ridge(alpha=1.0, copy_X=True, fit_intercept=True,\n",
       "                             max_iter=None, normalize=False, random_state=None,\n",
       "                             solver='auto', tol=0.001),\n",
       "             iid='deprecated', n_jobs=None,\n",
       "             param_grid={'alpha': [0.01, 0.05, 0.1, 0.25, 0.75, 1.0, 5.0, 10,\n",
       "                                   20, 50, 100]},\n",
       "             pre_dispatch='2*n_jobs', refit=True, return_train_score=True,\n",
       "             scoring='neg_mean_absolute_error', verbose=1)"
      ]
     },
     "execution_count": 102,
     "metadata": {},
     "output_type": "execute_result"
    }
   ],
   "source": [
    "params = {'alpha': [0.01, 0.05, 0.10, 0.25, 0.75,1.0, 5.0,10,20,50,100 ]}\n",
    "\n",
    "\n",
    "ridge = Ridge()\n",
    "\n",
    "# cross validation\n",
    "folds = 5\n",
    "model_cv = GridSearchCV(estimator = ridge, \n",
    "                        param_grid = params, \n",
    "                        scoring= 'neg_mean_absolute_error', \n",
    "                        cv = folds, \n",
    "                        return_train_score=True,\n",
    "                        verbose = 1)            \n",
    "model_cv.fit(X_train, y_train) "
   ]
  },
  {
   "cell_type": "code",
   "execution_count": 103,
   "metadata": {},
   "outputs": [
    {
     "data": {
      "text/html": [
       "<div>\n",
       "<style scoped>\n",
       "    .dataframe tbody tr th:only-of-type {\n",
       "        vertical-align: middle;\n",
       "    }\n",
       "\n",
       "    .dataframe tbody tr th {\n",
       "        vertical-align: top;\n",
       "    }\n",
       "\n",
       "    .dataframe thead th {\n",
       "        text-align: right;\n",
       "    }\n",
       "</style>\n",
       "<table border=\"1\" class=\"dataframe\">\n",
       "  <thead>\n",
       "    <tr style=\"text-align: right;\">\n",
       "      <th></th>\n",
       "      <th>mean_fit_time</th>\n",
       "      <th>std_fit_time</th>\n",
       "      <th>mean_score_time</th>\n",
       "      <th>std_score_time</th>\n",
       "      <th>param_alpha</th>\n",
       "      <th>params</th>\n",
       "      <th>split0_test_score</th>\n",
       "      <th>split1_test_score</th>\n",
       "      <th>split2_test_score</th>\n",
       "      <th>split3_test_score</th>\n",
       "      <th>...</th>\n",
       "      <th>mean_test_score</th>\n",
       "      <th>std_test_score</th>\n",
       "      <th>rank_test_score</th>\n",
       "      <th>split0_train_score</th>\n",
       "      <th>split1_train_score</th>\n",
       "      <th>split2_train_score</th>\n",
       "      <th>split3_train_score</th>\n",
       "      <th>split4_train_score</th>\n",
       "      <th>mean_train_score</th>\n",
       "      <th>std_train_score</th>\n",
       "    </tr>\n",
       "  </thead>\n",
       "  <tbody>\n",
       "    <tr>\n",
       "      <th>0</th>\n",
       "      <td>0.004389</td>\n",
       "      <td>0.000798</td>\n",
       "      <td>0.000998</td>\n",
       "      <td>2.433272e-06</td>\n",
       "      <td>0.01</td>\n",
       "      <td>{'alpha': 0.01}</td>\n",
       "      <td>-0.095169</td>\n",
       "      <td>-0.087217</td>\n",
       "      <td>-0.088299</td>\n",
       "      <td>-0.079013</td>\n",
       "      <td>...</td>\n",
       "      <td>-0.088275</td>\n",
       "      <td>0.005403</td>\n",
       "      <td>11</td>\n",
       "      <td>-0.072590</td>\n",
       "      <td>-0.071272</td>\n",
       "      <td>-0.062572</td>\n",
       "      <td>-0.073988</td>\n",
       "      <td>-0.071374</td>\n",
       "      <td>-0.070359</td>\n",
       "      <td>0.004016</td>\n",
       "    </tr>\n",
       "    <tr>\n",
       "      <th>1</th>\n",
       "      <td>0.005187</td>\n",
       "      <td>0.000747</td>\n",
       "      <td>0.001396</td>\n",
       "      <td>4.885199e-04</td>\n",
       "      <td>0.05</td>\n",
       "      <td>{'alpha': 0.05}</td>\n",
       "      <td>-0.094666</td>\n",
       "      <td>-0.087031</td>\n",
       "      <td>-0.087718</td>\n",
       "      <td>-0.078772</td>\n",
       "      <td>...</td>\n",
       "      <td>-0.087923</td>\n",
       "      <td>0.005335</td>\n",
       "      <td>10</td>\n",
       "      <td>-0.072546</td>\n",
       "      <td>-0.071264</td>\n",
       "      <td>-0.062560</td>\n",
       "      <td>-0.073914</td>\n",
       "      <td>-0.071257</td>\n",
       "      <td>-0.070308</td>\n",
       "      <td>0.003996</td>\n",
       "    </tr>\n",
       "    <tr>\n",
       "      <th>2</th>\n",
       "      <td>0.004588</td>\n",
       "      <td>0.000798</td>\n",
       "      <td>0.001396</td>\n",
       "      <td>4.883832e-04</td>\n",
       "      <td>0.1</td>\n",
       "      <td>{'alpha': 0.1}</td>\n",
       "      <td>-0.094215</td>\n",
       "      <td>-0.086869</td>\n",
       "      <td>-0.087179</td>\n",
       "      <td>-0.078564</td>\n",
       "      <td>...</td>\n",
       "      <td>-0.087615</td>\n",
       "      <td>0.005281</td>\n",
       "      <td>9</td>\n",
       "      <td>-0.072523</td>\n",
       "      <td>-0.071274</td>\n",
       "      <td>-0.062558</td>\n",
       "      <td>-0.073860</td>\n",
       "      <td>-0.071179</td>\n",
       "      <td>-0.070279</td>\n",
       "      <td>0.003982</td>\n",
       "    </tr>\n",
       "    <tr>\n",
       "      <th>3</th>\n",
       "      <td>0.005387</td>\n",
       "      <td>0.001353</td>\n",
       "      <td>0.001398</td>\n",
       "      <td>4.852367e-04</td>\n",
       "      <td>0.25</td>\n",
       "      <td>{'alpha': 0.25}</td>\n",
       "      <td>-0.093346</td>\n",
       "      <td>-0.086480</td>\n",
       "      <td>-0.086074</td>\n",
       "      <td>-0.078130</td>\n",
       "      <td>...</td>\n",
       "      <td>-0.086992</td>\n",
       "      <td>0.005206</td>\n",
       "      <td>7</td>\n",
       "      <td>-0.072564</td>\n",
       "      <td>-0.071379</td>\n",
       "      <td>-0.062683</td>\n",
       "      <td>-0.073771</td>\n",
       "      <td>-0.071066</td>\n",
       "      <td>-0.070293</td>\n",
       "      <td>0.003923</td>\n",
       "    </tr>\n",
       "    <tr>\n",
       "      <th>4</th>\n",
       "      <td>0.004787</td>\n",
       "      <td>0.001163</td>\n",
       "      <td>0.000997</td>\n",
       "      <td>3.873843e-07</td>\n",
       "      <td>0.75</td>\n",
       "      <td>{'alpha': 0.75}</td>\n",
       "      <td>-0.092434</td>\n",
       "      <td>-0.085684</td>\n",
       "      <td>-0.084468</td>\n",
       "      <td>-0.077296</td>\n",
       "      <td>...</td>\n",
       "      <td>-0.086115</td>\n",
       "      <td>0.005321</td>\n",
       "      <td>5</td>\n",
       "      <td>-0.072766</td>\n",
       "      <td>-0.071785</td>\n",
       "      <td>-0.063166</td>\n",
       "      <td>-0.073767</td>\n",
       "      <td>-0.071347</td>\n",
       "      <td>-0.070566</td>\n",
       "      <td>0.003793</td>\n",
       "    </tr>\n",
       "  </tbody>\n",
       "</table>\n",
       "<p>5 rows × 21 columns</p>\n",
       "</div>"
      ],
      "text/plain": [
       "   mean_fit_time  std_fit_time  mean_score_time  std_score_time param_alpha  \\\n",
       "0       0.004389      0.000798         0.000998    2.433272e-06        0.01   \n",
       "1       0.005187      0.000747         0.001396    4.885199e-04        0.05   \n",
       "2       0.004588      0.000798         0.001396    4.883832e-04         0.1   \n",
       "3       0.005387      0.001353         0.001398    4.852367e-04        0.25   \n",
       "4       0.004787      0.001163         0.000997    3.873843e-07        0.75   \n",
       "\n",
       "            params  split0_test_score  split1_test_score  split2_test_score  \\\n",
       "0  {'alpha': 0.01}          -0.095169          -0.087217          -0.088299   \n",
       "1  {'alpha': 0.05}          -0.094666          -0.087031          -0.087718   \n",
       "2   {'alpha': 0.1}          -0.094215          -0.086869          -0.087179   \n",
       "3  {'alpha': 0.25}          -0.093346          -0.086480          -0.086074   \n",
       "4  {'alpha': 0.75}          -0.092434          -0.085684          -0.084468   \n",
       "\n",
       "   split3_test_score  ...  mean_test_score  std_test_score  rank_test_score  \\\n",
       "0          -0.079013  ...        -0.088275        0.005403               11   \n",
       "1          -0.078772  ...        -0.087923        0.005335               10   \n",
       "2          -0.078564  ...        -0.087615        0.005281                9   \n",
       "3          -0.078130  ...        -0.086992        0.005206                7   \n",
       "4          -0.077296  ...        -0.086115        0.005321                5   \n",
       "\n",
       "   split0_train_score  split1_train_score  split2_train_score  \\\n",
       "0           -0.072590           -0.071272           -0.062572   \n",
       "1           -0.072546           -0.071264           -0.062560   \n",
       "2           -0.072523           -0.071274           -0.062558   \n",
       "3           -0.072564           -0.071379           -0.062683   \n",
       "4           -0.072766           -0.071785           -0.063166   \n",
       "\n",
       "   split3_train_score  split4_train_score  mean_train_score  std_train_score  \n",
       "0           -0.073988           -0.071374         -0.070359         0.004016  \n",
       "1           -0.073914           -0.071257         -0.070308         0.003996  \n",
       "2           -0.073860           -0.071179         -0.070279         0.003982  \n",
       "3           -0.073771           -0.071066         -0.070293         0.003923  \n",
       "4           -0.073767           -0.071347         -0.070566         0.003793  \n",
       "\n",
       "[5 rows x 21 columns]"
      ]
     },
     "execution_count": 103,
     "metadata": {},
     "output_type": "execute_result"
    }
   ],
   "source": [
    "cv_results = pd.DataFrame(model_cv.cv_results_)\n",
    "cv_results = cv_results[cv_results['param_alpha']<=200]\n",
    "cv_results.head()"
   ]
  },
  {
   "cell_type": "code",
   "execution_count": 104,
   "metadata": {},
   "outputs": [
    {
     "data": {
      "image/png": "[encoded data removed]",
      "text/plain": [
       "<Figure size 432x288 with 1 Axes>"
      ]
     },
     "metadata": {
      "needs_background": "light"
     },
     "output_type": "display_data"
    }
   ],
   "source": [
    "# plotting mean test and train scoes with alpha \n",
    "cv_results['param_alpha'] = cv_results['param_alpha'].astype('int32')\n",
    "\n",
    "# plotting\n",
    "plt.plot(cv_results['param_alpha'], cv_results['mean_train_score'])\n",
    "plt.plot(cv_results['param_alpha'], cv_results['mean_test_score'])\n",
    "plt.xlabel('alpha')\n",
    "plt.ylabel('Negative Mean Absolute Error')\n",
    "plt.title(\"Negative Mean Absolute Error and alpha\")\n",
    "plt.legend(['train score', 'test score'], loc='upper left')\n",
    "plt.show()"
   ]
  },
  {
   "cell_type": "code",
   "execution_count": 105,
   "metadata": {},
   "outputs": [
    {
     "name": "stdout",
     "output_type": "stream",
     "text": [
      "0.9197867099002597\n",
      "0.9005010549814116\n"
     ]
    }
   ],
   "source": [
    "lm = Ridge(alpha=5)\n",
    "lm.fit(X_train, y_train)\n",
    "\n",
    "# predict\n",
    "y_train_pred = lm.predict(X_train)\n",
    "print(metrics.r2_score(y_true=y_train, y_pred=y_train_pred))\n",
    "y_test_pred = lm.predict(X_test)\n",
    "print(metrics.r2_score(y_true=y_test, y_pred=y_test_pred))"
   ]
  },
  {
   "cell_type": "code",
   "execution_count": 106,
   "metadata": {},
   "outputs": [
    {
     "data": {
      "text/plain": [
       "[('constant', 10.354),\n",
       " ('MSSubClass', -0.0),\n",
       " ('LotFrontage', -0.0),\n",
       " ('LotArea', 0.0),\n",
       " ('OverallQual', 0.059),\n",
       " ('OverallCond', 0.046),\n",
       " ('YearBuilt', -0.002),\n",
       " ('YearRemodAdd', -0.0),\n",
       " ('MasVnrArea', 0.0),\n",
       " ('ExterQual', -0.002),\n",
       " ('BsmtExposure', 0.014),\n",
       " ('BsmtFinSF1', 0.0),\n",
       " ('BsmtFinSF2', -0.0),\n",
       " ('BsmtUnfSF', -0.0),\n",
       " ('TotalBsmtSF', -0.0),\n",
       " ('HeatingQC', 0.02),\n",
       " ('1stFlrSF', 0.0),\n",
       " ('2ndFlrSF', 0.0),\n",
       " ('LowQualFinSF', 0.0),\n",
       " ('GrLivArea', 0.0),\n",
       " ('BsmtFullBath', 0.041),\n",
       " ('FullBath', 0.041),\n",
       " ('HalfBath', 0.042),\n",
       " ('BedroomAbvGr', -0.001),\n",
       " ('KitchenQual', 0.024),\n",
       " ('TotRmsAbvGrd', 0.01),\n",
       " ('Fireplaces', -0.016),\n",
       " ('FireplaceQu', 0.017),\n",
       " ('GarageYrBlt', -0.0),\n",
       " ('GarageCars', 0.08),\n",
       " ('GarageArea', -0.0),\n",
       " ('WoodDeckSF', 0.0),\n",
       " ('OpenPorchSF', 0.0),\n",
       " ('EnclosedPorch', 0.0),\n",
       " ('ScreenPorch', 0.0),\n",
       " ('MoSold', 0.0),\n",
       " ('YrSold', 0.005),\n",
       " ('Abnorml', -0.055),\n",
       " ('AdjLand', 0.055),\n",
       " ('Alloca', -0.028),\n",
       " ('Family', -0.002),\n",
       " ('Normal', 0.007),\n",
       " ('Partial', 0.023),\n",
       " ('RFn', 0.01),\n",
       " ('Unf', -0.014),\n",
       " ('GdPrv', 0.009),\n",
       " ('GdWo', -0.018),\n",
       " ('MnPrv', 0.017),\n",
       " ('NoFence', 0.011),\n",
       " ('Attchd', 0.009),\n",
       " ('Basment', -0.017),\n",
       " ('BuiltIn', 0.004),\n",
       " ('CarPort', 0.047),\n",
       " ('Detchd', -0.007),\n",
       " ('ALQ', 0.061),\n",
       " ('BLQ', 0.048),\n",
       " ('GLQ', 0.068),\n",
       " ('LwQ', 0.033),\n",
       " ('NoBasement', -0.072),\n",
       " ('Rec', 0.037),\n",
       " ('MasVnrType_BrkFace', 0.001),\n",
       " ('MasVnrType_None', 0.001),\n",
       " ('MasVnrType_Stone', 0.021),\n",
       " ('Exterior2nd_AsphShn', 0.019),\n",
       " ('Exterior2nd_Brk Cmn', 0.017),\n",
       " ('Exterior2nd_BrkFace', -0.029),\n",
       " ('Exterior2nd_CBlock', -0.002),\n",
       " ('Exterior2nd_CmentBd', 0.042),\n",
       " ('Exterior2nd_HdBoard', 0.038),\n",
       " ('Exterior2nd_ImStucc', 0.042),\n",
       " ('Exterior2nd_MetalSd', 0.023),\n",
       " ('Exterior2nd_Other', 0.0),\n",
       " ('Exterior2nd_Plywood', 0.043),\n",
       " ('Exterior2nd_Stone', 0.003),\n",
       " ('Exterior2nd_Stucco', -0.085),\n",
       " ('Exterior2nd_VinylSd', 0.044),\n",
       " ('Exterior2nd_Wd Sdng', 0.039),\n",
       " ('Exterior2nd_Wd Shng', -0.05),\n",
       " ('Foundation_CBlock', 0.04),\n",
       " ('Foundation_PConc', 0.051),\n",
       " ('Foundation_Slab', 0.046),\n",
       " ('Foundation_Stone', 0.066),\n",
       " ('Foundation_Wood', -0.034),\n",
       " ('BrkComm', -0.011),\n",
       " ('BrkFace', 0.094),\n",
       " ('CBlock', -0.002),\n",
       " ('CemntBd', 0.028),\n",
       " ('HdBoard', 0.001),\n",
       " ('ImStucc', 0.0),\n",
       " ('MetalSd', 0.029),\n",
       " ('Plywood', 0.015),\n",
       " ('Stone', 0.01),\n",
       " ('Stucco', 0.02),\n",
       " ('VinylSd', 0.006),\n",
       " ('Wd Sdng', -0.002),\n",
       " ('WdShing', 0.013),\n",
       " ('Flat', -0.043),\n",
       " ('Gable', -0.004),\n",
       " ('Gambrel', 0.012),\n",
       " ('Hip', 0.011),\n",
       " ('1.5Fin', 0.01),\n",
       " ('1.5Unf', -0.015),\n",
       " ('1Story', 0.021),\n",
       " ('2.5Unf', -0.024),\n",
       " ('2Story', -0.024),\n",
       " ('SFoyer', 0.012),\n",
       " ('SLvl', 0.019),\n",
       " ('1Fam', 0.002),\n",
       " ('Duplex', -0.012),\n",
       " ('Twnhs', -0.091),\n",
       " ('TwnhsE', -0.033),\n",
       " ('IR1', 0.038),\n",
       " ('IR2', 0.048),\n",
       " ('Reg', 0.054),\n",
       " ('Corner', 0.015),\n",
       " ('CulDSac', 0.061),\n",
       " ('FR2', -0.017),\n",
       " ('Inside', 0.006),\n",
       " ('Blmngtn', -0.04),\n",
       " ('BrDale', 0.002),\n",
       " ('BrkSide', 0.049),\n",
       " ('ClearCr', 0.004),\n",
       " ('CollgCr', -0.018),\n",
       " ('Crawfor', 0.136),\n",
       " ('Edwards', -0.046),\n",
       " ('Gilbert', -0.042),\n",
       " ('IDOTRR', -0.064),\n",
       " ('MeadowV', -0.089),\n",
       " ('Mitchel', -0.039),\n",
       " ('NAmes', -0.002),\n",
       " ('NPkVill', 0.002),\n",
       " ('NWAmes', -0.063),\n",
       " ('NoRidge', 0.025),\n",
       " ('NridgHt', 0.11),\n",
       " ('OldTown', -0.024),\n",
       " ('SWISU', -0.03),\n",
       " ('Sawyer', -0.009),\n",
       " ('SawyerW', -0.017),\n",
       " ('Somerst', 0.048),\n",
       " ('StoneBr', 0.108),\n",
       " ('Timber', -0.005),\n",
       " ('Veenker', 0.04),\n",
       " ('FV', 0.101),\n",
       " ('RH', 0.014),\n",
       " ('RL', 0.116),\n",
       " ('RM', 0.071),\n",
       " ('Artery', -0.018),\n",
       " ('Feedr', -0.036),\n",
       " ('Norm', 0.029),\n",
       " ('PosA', 0.006),\n",
       " ('PosN', 0.011),\n",
       " ('RRAe', -0.027),\n",
       " ('RRAn', 0.03),\n",
       " ('RRNn', 0.005)]"
      ]
     },
     "execution_count": 106,
     "metadata": {},
     "output_type": "execute_result"
    }
   ],
   "source": [
    "\n",
    "# predict\n",
    "\n",
    "model_parameters = list(lm.coef_)\n",
    "model_parameters.insert(0, lm.intercept_)\n",
    "model_parameters = [round(x, 3) for x in model_parameters]\n",
    "cols = X.columns\n",
    "cols = cols.insert(0, \"constant\")\n",
    "list(zip(cols, model_parameters))"
   ]
  },
  {
   "cell_type": "markdown",
   "metadata": {},
   "source": [
    "## Lasso"
   ]
  },
  {
   "cell_type": "code",
   "execution_count": 107,
   "metadata": {},
   "outputs": [
    {
     "name": "stdout",
     "output_type": "stream",
     "text": [
      "Fitting 5 folds for each of 9 candidates, totalling 45 fits\n"
     ]
    },
    {
     "name": "stderr",
     "output_type": "stream",
     "text": [
      "[Parallel(n_jobs=1)]: Using backend SequentialBackend with 1 concurrent workers.\n",
      "[Parallel(n_jobs=1)]: Done  45 out of  45 | elapsed:    0.2s finished\n"
     ]
    },
    {
     "data": {
      "text/plain": [
       "GridSearchCV(cv=5, error_score=nan,\n",
       "             estimator=Lasso(alpha=1.0, copy_X=True, fit_intercept=True,\n",
       "                             max_iter=1000, normalize=False, positive=False,\n",
       "                             precompute=False, random_state=None,\n",
       "                             selection='cyclic', tol=0.0001, warm_start=False),\n",
       "             iid='deprecated', n_jobs=None,\n",
       "             param_grid={'alpha': [1e-05, 2e-05, 3e-05, 0.0001, 0.00015, 0.0002,\n",
       "                                   0.0003, 0.0004, 0.0005]},\n",
       "             pre_dispatch='2*n_jobs', refit=True, return_train_score=True,\n",
       "             scoring='r2', verbose=1)"
      ]
     },
     "execution_count": 107,
     "metadata": {},
     "output_type": "execute_result"
    }
   ],
   "source": [
    "\n",
    "params = {'alpha': [0.00001,0.00002,0.00003,0.0001,0.00015,0.0002,0.0003,0.0004,0.0005]}\n",
    "lasso = Lasso()\n",
    "\n",
    "#cross validation\n",
    "model_cv = GridSearchCV(estimator = lasso, \n",
    "                        param_grid = params, \n",
    "                        scoring= 'r2', \n",
    "                        cv = folds, \n",
    "                        return_train_score=True,\n",
    "                        verbose = 1)            \n",
    "\n",
    "model_cv.fit(X_train_rfe, y_train)"
   ]
  },
  {
   "cell_type": "code",
   "execution_count": 108,
   "metadata": {},
   "outputs": [
    {
     "data": {
      "text/html": [
       "<div>\n",
       "<style scoped>\n",
       "    .dataframe tbody tr th:only-of-type {\n",
       "        vertical-align: middle;\n",
       "    }\n",
       "\n",
       "    .dataframe tbody tr th {\n",
       "        vertical-align: top;\n",
       "    }\n",
       "\n",
       "    .dataframe thead th {\n",
       "        text-align: right;\n",
       "    }\n",
       "</style>\n",
       "<table border=\"1\" class=\"dataframe\">\n",
       "  <thead>\n",
       "    <tr style=\"text-align: right;\">\n",
       "      <th></th>\n",
       "      <th>mean_fit_time</th>\n",
       "      <th>std_fit_time</th>\n",
       "      <th>mean_score_time</th>\n",
       "      <th>std_score_time</th>\n",
       "      <th>param_alpha</th>\n",
       "      <th>params</th>\n",
       "      <th>split0_test_score</th>\n",
       "      <th>split1_test_score</th>\n",
       "      <th>split2_test_score</th>\n",
       "      <th>split3_test_score</th>\n",
       "      <th>...</th>\n",
       "      <th>mean_test_score</th>\n",
       "      <th>std_test_score</th>\n",
       "      <th>rank_test_score</th>\n",
       "      <th>split0_train_score</th>\n",
       "      <th>split1_train_score</th>\n",
       "      <th>split2_train_score</th>\n",
       "      <th>split3_train_score</th>\n",
       "      <th>split4_train_score</th>\n",
       "      <th>mean_train_score</th>\n",
       "      <th>std_train_score</th>\n",
       "    </tr>\n",
       "  </thead>\n",
       "  <tbody>\n",
       "    <tr>\n",
       "      <th>0</th>\n",
       "      <td>0.004986</td>\n",
       "      <td>0.000630</td>\n",
       "      <td>0.000798</td>\n",
       "      <td>3.990889e-04</td>\n",
       "      <td>1e-05</td>\n",
       "      <td>{'alpha': 1e-05}</td>\n",
       "      <td>0.756769</td>\n",
       "      <td>0.756084</td>\n",
       "      <td>0.793130</td>\n",
       "      <td>0.779016</td>\n",
       "      <td>...</td>\n",
       "      <td>0.777250</td>\n",
       "      <td>0.018432</td>\n",
       "      <td>6</td>\n",
       "      <td>0.803839</td>\n",
       "      <td>0.801743</td>\n",
       "      <td>0.794237</td>\n",
       "      <td>0.794147</td>\n",
       "      <td>0.791262</td>\n",
       "      <td>0.797046</td>\n",
       "      <td>0.004857</td>\n",
       "    </tr>\n",
       "    <tr>\n",
       "      <th>1</th>\n",
       "      <td>0.005984</td>\n",
       "      <td>0.000632</td>\n",
       "      <td>0.000997</td>\n",
       "      <td>8.844012e-07</td>\n",
       "      <td>2e-05</td>\n",
       "      <td>{'alpha': 2e-05}</td>\n",
       "      <td>0.756621</td>\n",
       "      <td>0.756622</td>\n",
       "      <td>0.793726</td>\n",
       "      <td>0.778900</td>\n",
       "      <td>...</td>\n",
       "      <td>0.777384</td>\n",
       "      <td>0.018393</td>\n",
       "      <td>5</td>\n",
       "      <td>0.803813</td>\n",
       "      <td>0.801722</td>\n",
       "      <td>0.794208</td>\n",
       "      <td>0.794130</td>\n",
       "      <td>0.791236</td>\n",
       "      <td>0.797022</td>\n",
       "      <td>0.004858</td>\n",
       "    </tr>\n",
       "    <tr>\n",
       "      <th>2</th>\n",
       "      <td>0.005384</td>\n",
       "      <td>0.000487</td>\n",
       "      <td>0.000998</td>\n",
       "      <td>2.780415e-07</td>\n",
       "      <td>3e-05</td>\n",
       "      <td>{'alpha': 3e-05}</td>\n",
       "      <td>0.756458</td>\n",
       "      <td>0.757148</td>\n",
       "      <td>0.794291</td>\n",
       "      <td>0.778776</td>\n",
       "      <td>...</td>\n",
       "      <td>0.777501</td>\n",
       "      <td>0.018358</td>\n",
       "      <td>4</td>\n",
       "      <td>0.803769</td>\n",
       "      <td>0.801688</td>\n",
       "      <td>0.794159</td>\n",
       "      <td>0.794102</td>\n",
       "      <td>0.791191</td>\n",
       "      <td>0.796982</td>\n",
       "      <td>0.004858</td>\n",
       "    </tr>\n",
       "    <tr>\n",
       "      <th>3</th>\n",
       "      <td>0.004189</td>\n",
       "      <td>0.001163</td>\n",
       "      <td>0.001197</td>\n",
       "      <td>3.988029e-04</td>\n",
       "      <td>0.0001</td>\n",
       "      <td>{'alpha': 0.0001}</td>\n",
       "      <td>0.754855</td>\n",
       "      <td>0.760470</td>\n",
       "      <td>0.797432</td>\n",
       "      <td>0.777830</td>\n",
       "      <td>...</td>\n",
       "      <td>0.777895</td>\n",
       "      <td>0.018204</td>\n",
       "      <td>2</td>\n",
       "      <td>0.802977</td>\n",
       "      <td>0.801070</td>\n",
       "      <td>0.793272</td>\n",
       "      <td>0.793613</td>\n",
       "      <td>0.790382</td>\n",
       "      <td>0.796263</td>\n",
       "      <td>0.004873</td>\n",
       "    </tr>\n",
       "    <tr>\n",
       "      <th>4</th>\n",
       "      <td>0.004189</td>\n",
       "      <td>0.000399</td>\n",
       "      <td>0.001397</td>\n",
       "      <td>4.890060e-04</td>\n",
       "      <td>0.00015</td>\n",
       "      <td>{'alpha': 0.00015}</td>\n",
       "      <td>0.753223</td>\n",
       "      <td>0.762456</td>\n",
       "      <td>0.798794</td>\n",
       "      <td>0.778092</td>\n",
       "      <td>...</td>\n",
       "      <td>0.777922</td>\n",
       "      <td>0.018169</td>\n",
       "      <td>1</td>\n",
       "      <td>0.801890</td>\n",
       "      <td>0.800224</td>\n",
       "      <td>0.792059</td>\n",
       "      <td>0.793095</td>\n",
       "      <td>0.789271</td>\n",
       "      <td>0.795308</td>\n",
       "      <td>0.004887</td>\n",
       "    </tr>\n",
       "  </tbody>\n",
       "</table>\n",
       "<p>5 rows × 21 columns</p>\n",
       "</div>"
      ],
      "text/plain": [
       "   mean_fit_time  std_fit_time  mean_score_time  std_score_time param_alpha  \\\n",
       "0       0.004986      0.000630         0.000798    3.990889e-04       1e-05   \n",
       "1       0.005984      0.000632         0.000997    8.844012e-07       2e-05   \n",
       "2       0.005384      0.000487         0.000998    2.780415e-07       3e-05   \n",
       "3       0.004189      0.001163         0.001197    3.988029e-04      0.0001   \n",
       "4       0.004189      0.000399         0.001397    4.890060e-04     0.00015   \n",
       "\n",
       "               params  split0_test_score  split1_test_score  \\\n",
       "0    {'alpha': 1e-05}           0.756769           0.756084   \n",
       "1    {'alpha': 2e-05}           0.756621           0.756622   \n",
       "2    {'alpha': 3e-05}           0.756458           0.757148   \n",
       "3   {'alpha': 0.0001}           0.754855           0.760470   \n",
       "4  {'alpha': 0.00015}           0.753223           0.762456   \n",
       "\n",
       "   split2_test_score  split3_test_score  ...  mean_test_score  std_test_score  \\\n",
       "0           0.793130           0.779016  ...         0.777250        0.018432   \n",
       "1           0.793726           0.778900  ...         0.777384        0.018393   \n",
       "2           0.794291           0.778776  ...         0.777501        0.018358   \n",
       "3           0.797432           0.777830  ...         0.777895        0.018204   \n",
       "4           0.798794           0.778092  ...         0.777922        0.018169   \n",
       "\n",
       "   rank_test_score  split0_train_score  split1_train_score  \\\n",
       "0                6            0.803839            0.801743   \n",
       "1                5            0.803813            0.801722   \n",
       "2                4            0.803769            0.801688   \n",
       "3                2            0.802977            0.801070   \n",
       "4                1            0.801890            0.800224   \n",
       "\n",
       "   split2_train_score  split3_train_score  split4_train_score  \\\n",
       "0            0.794237            0.794147            0.791262   \n",
       "1            0.794208            0.794130            0.791236   \n",
       "2            0.794159            0.794102            0.791191   \n",
       "3            0.793272            0.793613            0.790382   \n",
       "4            0.792059            0.793095            0.789271   \n",
       "\n",
       "   mean_train_score  std_train_score  \n",
       "0          0.797046         0.004857  \n",
       "1          0.797022         0.004858  \n",
       "2          0.796982         0.004858  \n",
       "3          0.796263         0.004873  \n",
       "4          0.795308         0.004887  \n",
       "\n",
       "[5 rows x 21 columns]"
      ]
     },
     "execution_count": 108,
     "metadata": {},
     "output_type": "execute_result"
    }
   ],
   "source": [
    "cv_results = pd.DataFrame(model_cv.cv_results_)\n",
    "cv_results.head()"
   ]
  },
  {
   "cell_type": "code",
   "execution_count": 109,
   "metadata": {},
   "outputs": [
    {
     "data": {
      "image/png": "[encoded data removed]",
      "text/plain": [
       "<Figure size 432x288 with 1 Axes>"
      ]
     },
     "metadata": {
      "needs_background": "light"
     },
     "output_type": "display_data"
    }
   ],
   "source": [
    "cv_results['param_alpha'] = cv_results['param_alpha'].astype('float32')\n",
    "\n",
    "# plotting\n",
    "plt.plot(cv_results['param_alpha'], cv_results['mean_train_score'])\n",
    "plt.plot(cv_results['param_alpha'], cv_results['mean_test_score'])\n",
    "plt.xlabel('alpha')\n",
    "plt.ylabel('r2 Score')\n",
    "\n",
    "plt.title(\"r2 Score and alpha\")\n",
    "plt.legend(['train score', 'test score'], loc='upper right')\n",
    "plt.show()"
   ]
  },
  {
   "cell_type": "code",
   "execution_count": 110,
   "metadata": {},
   "outputs": [
    {
     "data": {
      "text/plain": [
       "[('constant', 10.354),\n",
       " ('MSSubClass', -0.0),\n",
       " ('LotFrontage', -0.0),\n",
       " ('LotArea', 0.0),\n",
       " ('OverallQual', 0.059),\n",
       " ('OverallCond', 0.046),\n",
       " ('YearBuilt', -0.002),\n",
       " ('YearRemodAdd', -0.0),\n",
       " ('MasVnrArea', 0.0),\n",
       " ('ExterQual', -0.002),\n",
       " ('BsmtExposure', 0.014),\n",
       " ('BsmtFinSF1', 0.0),\n",
       " ('BsmtFinSF2', -0.0),\n",
       " ('BsmtUnfSF', -0.0),\n",
       " ('TotalBsmtSF', -0.0),\n",
       " ('HeatingQC', 0.02),\n",
       " ('1stFlrSF', 0.0),\n",
       " ('2ndFlrSF', 0.0),\n",
       " ('LowQualFinSF', 0.0),\n",
       " ('GrLivArea', 0.0),\n",
       " ('BsmtFullBath', 0.041),\n",
       " ('FullBath', 0.041),\n",
       " ('HalfBath', 0.042),\n",
       " ('BedroomAbvGr', -0.001),\n",
       " ('KitchenQual', 0.024),\n",
       " ('TotRmsAbvGrd', 0.01),\n",
       " ('Fireplaces', -0.016),\n",
       " ('FireplaceQu', 0.017),\n",
       " ('GarageYrBlt', -0.0),\n",
       " ('GarageCars', 0.08),\n",
       " ('GarageArea', -0.0),\n",
       " ('WoodDeckSF', 0.0),\n",
       " ('OpenPorchSF', 0.0),\n",
       " ('EnclosedPorch', 0.0),\n",
       " ('ScreenPorch', 0.0),\n",
       " ('MoSold', 0.0),\n",
       " ('YrSold', 0.005),\n",
       " ('Abnorml', -0.055),\n",
       " ('AdjLand', 0.055),\n",
       " ('Alloca', -0.028),\n",
       " ('Family', -0.002),\n",
       " ('Normal', 0.007),\n",
       " ('Partial', 0.023),\n",
       " ('RFn', 0.01),\n",
       " ('Unf', -0.014),\n",
       " ('GdPrv', 0.009),\n",
       " ('GdWo', -0.018),\n",
       " ('MnPrv', 0.017),\n",
       " ('NoFence', 0.011),\n",
       " ('Attchd', 0.009),\n",
       " ('Basment', -0.017),\n",
       " ('BuiltIn', 0.004),\n",
       " ('CarPort', 0.047),\n",
       " ('Detchd', -0.007),\n",
       " ('ALQ', 0.061),\n",
       " ('BLQ', 0.048),\n",
       " ('GLQ', 0.068),\n",
       " ('LwQ', 0.033),\n",
       " ('NoBasement', -0.072),\n",
       " ('Rec', 0.037),\n",
       " ('MasVnrType_BrkFace', 0.001),\n",
       " ('MasVnrType_None', 0.001),\n",
       " ('MasVnrType_Stone', 0.021),\n",
       " ('Exterior2nd_AsphShn', 0.019),\n",
       " ('Exterior2nd_Brk Cmn', 0.017),\n",
       " ('Exterior2nd_BrkFace', -0.029),\n",
       " ('Exterior2nd_CBlock', -0.002),\n",
       " ('Exterior2nd_CmentBd', 0.042),\n",
       " ('Exterior2nd_HdBoard', 0.038),\n",
       " ('Exterior2nd_ImStucc', 0.042),\n",
       " ('Exterior2nd_MetalSd', 0.023),\n",
       " ('Exterior2nd_Other', 0.0),\n",
       " ('Exterior2nd_Plywood', 0.043),\n",
       " ('Exterior2nd_Stone', 0.003),\n",
       " ('Exterior2nd_Stucco', -0.085),\n",
       " ('Exterior2nd_VinylSd', 0.044),\n",
       " ('Exterior2nd_Wd Sdng', 0.039),\n",
       " ('Exterior2nd_Wd Shng', -0.05),\n",
       " ('Foundation_CBlock', 0.04),\n",
       " ('Foundation_PConc', 0.051),\n",
       " ('Foundation_Slab', 0.046),\n",
       " ('Foundation_Stone', 0.066),\n",
       " ('Foundation_Wood', -0.034),\n",
       " ('BrkComm', -0.011),\n",
       " ('BrkFace', 0.094),\n",
       " ('CBlock', -0.002),\n",
       " ('CemntBd', 0.028),\n",
       " ('HdBoard', 0.001),\n",
       " ('ImStucc', 0.0),\n",
       " ('MetalSd', 0.029),\n",
       " ('Plywood', 0.015),\n",
       " ('Stone', 0.01),\n",
       " ('Stucco', 0.02),\n",
       " ('VinylSd', 0.006),\n",
       " ('Wd Sdng', -0.002),\n",
       " ('WdShing', 0.013),\n",
       " ('Flat', -0.043),\n",
       " ('Gable', -0.004),\n",
       " ('Gambrel', 0.012),\n",
       " ('Hip', 0.011),\n",
       " ('1.5Fin', 0.01),\n",
       " ('1.5Unf', -0.015),\n",
       " ('1Story', 0.021),\n",
       " ('2.5Unf', -0.024),\n",
       " ('2Story', -0.024),\n",
       " ('SFoyer', 0.012),\n",
       " ('SLvl', 0.019),\n",
       " ('1Fam', 0.002),\n",
       " ('Duplex', -0.012),\n",
       " ('Twnhs', -0.091),\n",
       " ('TwnhsE', -0.033),\n",
       " ('IR1', 0.038),\n",
       " ('IR2', 0.048),\n",
       " ('Reg', 0.054),\n",
       " ('Corner', 0.015),\n",
       " ('CulDSac', 0.061),\n",
       " ('FR2', -0.017),\n",
       " ('Inside', 0.006),\n",
       " ('Blmngtn', -0.04),\n",
       " ('BrDale', 0.002),\n",
       " ('BrkSide', 0.049),\n",
       " ('ClearCr', 0.004),\n",
       " ('CollgCr', -0.018),\n",
       " ('Crawfor', 0.136),\n",
       " ('Edwards', -0.046),\n",
       " ('Gilbert', -0.042),\n",
       " ('IDOTRR', -0.064),\n",
       " ('MeadowV', -0.089),\n",
       " ('Mitchel', -0.039),\n",
       " ('NAmes', -0.002),\n",
       " ('NPkVill', 0.002),\n",
       " ('NWAmes', -0.063),\n",
       " ('NoRidge', 0.025),\n",
       " ('NridgHt', 0.11),\n",
       " ('OldTown', -0.024),\n",
       " ('SWISU', -0.03),\n",
       " ('Sawyer', -0.009),\n",
       " ('SawyerW', -0.017),\n",
       " ('Somerst', 0.048),\n",
       " ('StoneBr', 0.108),\n",
       " ('Timber', -0.005),\n",
       " ('Veenker', 0.04),\n",
       " ('FV', 0.101),\n",
       " ('RH', 0.014),\n",
       " ('RL', 0.116),\n",
       " ('RM', 0.071),\n",
       " ('Artery', -0.018),\n",
       " ('Feedr', -0.036),\n",
       " ('Norm', 0.029),\n",
       " ('PosA', 0.006),\n",
       " ('PosN', 0.011),\n",
       " ('RRAe', -0.027),\n",
       " ('RRAn', 0.03),\n",
       " ('RRNn', 0.005)]"
      ]
     },
     "execution_count": 110,
     "metadata": {},
     "output_type": "execute_result"
    }
   ],
   "source": [
    "model_parameters = list(lm.coef_)\n",
    "model_parameters.insert(0, lm.intercept_)\n",
    "model_parameters = [round(x, 3) for x in model_parameters]\n",
    "cols = X.columns\n",
    "cols = cols.insert(0, \"constant\")\n",
    "list(zip(cols, model_parameters))"
   ]
  },
  {
   "cell_type": "code",
   "execution_count": 111,
   "metadata": {},
   "outputs": [
    {
     "name": "stdout",
     "output_type": "stream",
     "text": [
      "0.8986990577067557\n",
      "0.898279655219205\n"
     ]
    }
   ],
   "source": [
    "lm = Lasso(alpha=0.0015)\n",
    "lm.fit(X_train, y_train)\n",
    "\n",
    "# predict\n",
    "y_train_pred = lm.predict(X_train)\n",
    "print(metrics.r2_score(y_true=y_train, y_pred=y_train_pred))\n",
    "y_test_pred = lm.predict(X_test)\n",
    "print(metrics.r2_score(y_true=y_test, y_pred=y_test_pred))"
   ]
  },
  {
   "cell_type": "code",
   "execution_count": 112,
   "metadata": {},
   "outputs": [
    {
     "data": {
      "text/plain": [
       "[('constant', 10.602),\n",
       " ('MSSubClass', -0.001),\n",
       " ('LotFrontage', -0.001),\n",
       " ('LotArea', 0.0),\n",
       " ('OverallQual', 0.065),\n",
       " ('OverallCond', 0.052),\n",
       " ('YearBuilt', -0.002),\n",
       " ('YearRemodAdd', -0.0),\n",
       " ('MasVnrArea', 0.0),\n",
       " ('ExterQual', 0.0),\n",
       " ('BsmtExposure', 0.013),\n",
       " ('BsmtFinSF1', 0.0),\n",
       " ('BsmtFinSF2', 0.0),\n",
       " ('BsmtUnfSF', 0.0),\n",
       " ('TotalBsmtSF', 0.0),\n",
       " ('HeatingQC', 0.019),\n",
       " ('1stFlrSF', 0.0),\n",
       " ('2ndFlrSF', 0.0),\n",
       " ('LowQualFinSF', 0.0),\n",
       " ('GrLivArea', 0.0),\n",
       " ('BsmtFullBath', 0.035),\n",
       " ('FullBath', 0.016),\n",
       " ('HalfBath', 0.019),\n",
       " ('BedroomAbvGr', 0.0),\n",
       " ('KitchenQual', 0.024),\n",
       " ('TotRmsAbvGrd', 0.01),\n",
       " ('Fireplaces', -0.0),\n",
       " ('FireplaceQu', 0.014),\n",
       " ('GarageYrBlt', -0.0),\n",
       " ('GarageCars', 0.062),\n",
       " ('GarageArea', 0.0),\n",
       " ('WoodDeckSF', 0.0),\n",
       " ('OpenPorchSF', 0.0),\n",
       " ('EnclosedPorch', 0.0),\n",
       " ('ScreenPorch', 0.0),\n",
       " ('MoSold', 0.0),\n",
       " ('YrSold', 0.004),\n",
       " ('Abnorml', -0.043),\n",
       " ('AdjLand', 0.0),\n",
       " ('Alloca', -0.0),\n",
       " ('Family', -0.0),\n",
       " ('Normal', 0.0),\n",
       " ('Partial', 0.0),\n",
       " ('RFn', 0.004),\n",
       " ('Unf', -0.013),\n",
       " ('GdPrv', 0.0),\n",
       " ('GdWo', -0.0),\n",
       " ('MnPrv', 0.0),\n",
       " ('NoFence', 0.0),\n",
       " ('Attchd', 0.008),\n",
       " ('Basment', -0.0),\n",
       " ('BuiltIn', 0.0),\n",
       " ('CarPort', 0.0),\n",
       " ('Detchd', -0.009),\n",
       " ('ALQ', 0.015),\n",
       " ('BLQ', 0.004),\n",
       " ('GLQ', 0.022),\n",
       " ('LwQ', 0.0),\n",
       " ('NoBasement', -0.0),\n",
       " ('Rec', 0.0),\n",
       " ('MasVnrType_BrkFace', -0.0),\n",
       " ('MasVnrType_None', -0.0),\n",
       " ('MasVnrType_Stone', 0.0),\n",
       " ('Exterior2nd_AsphShn', 0.0),\n",
       " ('Exterior2nd_Brk Cmn', -0.0),\n",
       " ('Exterior2nd_BrkFace', -0.0),\n",
       " ('Exterior2nd_CBlock', 0.0),\n",
       " ('Exterior2nd_CmentBd', 0.0),\n",
       " ('Exterior2nd_HdBoard', -0.0),\n",
       " ('Exterior2nd_ImStucc', 0.0),\n",
       " ('Exterior2nd_MetalSd', 0.0),\n",
       " ('Exterior2nd_Other', 0.0),\n",
       " ('Exterior2nd_Plywood', -0.0),\n",
       " ('Exterior2nd_Stone', 0.0),\n",
       " ('Exterior2nd_Stucco', -0.03),\n",
       " ('Exterior2nd_VinylSd', 0.0),\n",
       " ('Exterior2nd_Wd Sdng', 0.002),\n",
       " ('Exterior2nd_Wd Shng', -0.024),\n",
       " ('Foundation_CBlock', 0.0),\n",
       " ('Foundation_PConc', 0.004),\n",
       " ('Foundation_Slab', -0.0),\n",
       " ('Foundation_Stone', 0.0),\n",
       " ('Foundation_Wood', -0.0),\n",
       " ('BrkComm', -0.0),\n",
       " ('BrkFace', 0.043),\n",
       " ('CBlock', 0.0),\n",
       " ('CemntBd', 0.0),\n",
       " ('HdBoard', -0.0),\n",
       " ('ImStucc', 0.0),\n",
       " ('MetalSd', 0.008),\n",
       " ('Plywood', -0.0),\n",
       " ('Stone', 0.0),\n",
       " ('Stucco', -0.0),\n",
       " ('VinylSd', 0.0),\n",
       " ('Wd Sdng', -0.0),\n",
       " ('WdShing', -0.0),\n",
       " ('Flat', -0.0),\n",
       " ('Gable', -0.0),\n",
       " ('Gambrel', 0.0),\n",
       " ('Hip', 0.0),\n",
       " ('1.5Fin', 0.0),\n",
       " ('1.5Unf', -0.0),\n",
       " ('1Story', 0.0),\n",
       " ('2.5Unf', -0.0),\n",
       " ('2Story', -0.013),\n",
       " ('SFoyer', -0.0),\n",
       " ('SLvl', 0.0),\n",
       " ('1Fam', 0.0),\n",
       " ('Duplex', -0.0),\n",
       " ('Twnhs', -0.027),\n",
       " ('TwnhsE', 0.0),\n",
       " ('IR1', -0.0),\n",
       " ('IR2', 0.0),\n",
       " ('Reg', 0.0),\n",
       " ('Corner', -0.0),\n",
       " ('CulDSac', 0.0),\n",
       " ('FR2', -0.0),\n",
       " ('Inside', -0.0),\n",
       " ('Blmngtn', -0.0),\n",
       " ('BrDale', -0.0),\n",
       " ('BrkSide', 0.035),\n",
       " ('ClearCr', -0.0),\n",
       " ('CollgCr', -0.0),\n",
       " ('Crawfor', 0.107),\n",
       " ('Edwards', -0.012),\n",
       " ('Gilbert', -0.0),\n",
       " ('IDOTRR', -0.005),\n",
       " ('MeadowV', -0.0),\n",
       " ('Mitchel', -0.0),\n",
       " ('NAmes', 0.007),\n",
       " ('NPkVill', 0.0),\n",
       " ('NWAmes', -0.0),\n",
       " ('NoRidge', 0.0),\n",
       " ('NridgHt', 0.062),\n",
       " ('OldTown', -0.0),\n",
       " ('SWISU', -0.0),\n",
       " ('Sawyer', 0.0),\n",
       " ('SawyerW', -0.0),\n",
       " ('Somerst', 0.043),\n",
       " ('StoneBr', 0.034),\n",
       " ('Timber', 0.0),\n",
       " ('Veenker', 0.0),\n",
       " ('FV', 0.033),\n",
       " ('RH', -0.0),\n",
       " ('RL', 0.065),\n",
       " ('RM', -0.0),\n",
       " ('Artery', -0.0),\n",
       " ('Feedr', -0.004),\n",
       " ('Norm', 0.034),\n",
       " ('PosA', 0.0),\n",
       " ('PosN', 0.0),\n",
       " ('RRAe', -0.0),\n",
       " ('RRAn', 0.0),\n",
       " ('RRNn', 0.0)]"
      ]
     },
     "execution_count": 112,
     "metadata": {},
     "output_type": "execute_result"
    }
   ],
   "source": [
    "model_parameters = list(lm.coef_)\n",
    "model_parameters.insert(0, lm.intercept_)\n",
    "model_parameters = [round(x, 3) for x in model_parameters]\n",
    "cols = X.columns\n",
    "cols = cols.insert(0, \"constant\")\n",
    "list(zip(cols, model_parameters))"
   ]
  },
  {
   "cell_type": "markdown",
   "metadata": {},
   "source": [
    "### Summary:\n",
    "\n",
    "##### The details for Ridge Regression are as follows: \n",
    "                                     \n",
    "                                     Training - 91.9\n",
    "                                     Test - 90.0\n",
    "                                     Alpha - 5\n",
    "                                     \n",
    "##### The details for Lasso Regression are as follows: \n",
    "\n",
    "                                     Training - 89.8\n",
    "                                     Test - 89.8\n",
    "                                     Alpha - 0.0015\n",
    "                                     \n",
    "###### The best features for the model are as follows:\n",
    "\n",
    "                                OverallQual- Overall Quality\n",
    "                                OverallCond- Overall Condition\n",
    "                                BsmtFullBath- Basement Full bathrooms\n",
    "                                KitchenQual- Kitchen Quality\n",
    "                                BrkFace- Brick Face\n",
    "                                Crawfor- Crawford \n",
    "                                NridgHt- Northridge Heights\n",
    "                                RL- Residential Low Density\n",
    "                                Somerst- Somerset"
   ]
  }
 ],
 "metadata": {
  "kernelspec": {
   "display_name": "Python 3",
   "language": "python",
   "name": "python3"
  },
  "language_info": {
   "codemirror_mode": {
    "name": "ipython",
    "version": 3
   },
   "file_extension": ".py",
   "mimetype": "text/x-python",
   "name": "python",
   "nbconvert_exporter": "python",
   "pygments_lexer": "ipython3",
   "version": "3.7.6"
  }
 },
 "nbformat": 4,
 "nbformat_minor": 4
}
